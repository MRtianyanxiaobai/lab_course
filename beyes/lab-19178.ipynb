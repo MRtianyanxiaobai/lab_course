{
 "cells": [
  {
   "cell_type": "markdown",
   "metadata": {},
   "source": [
    "## 贝叶斯理论"
   ]
  },
  {
   "cell_type": "markdown",
   "metadata": {},
   "source": [
    "---"
   ]
  },
  {
   "cell_type": "markdown",
   "metadata": {},
   "source": [
    "#### 介绍"
   ]
  },
  {
   "cell_type": "markdown",
   "metadata": {},
   "source": [
    "本实验主要对贝叶斯推断和频率推断进行了简单的比较，并且阐述了贝叶斯推断在实际生活中的重要性。然后引入了统计学中最常见的抛硬币的例子，利用贝叶斯推断，对硬币为正面的概率进行了推断。最后还利用贝叶斯推断完成根据性格评价推断具体职业的实例。实验中，使用了先验概率，后验概率等贝叶斯知识，人工的对贝叶斯的后验概率进行了推导，并且还利用 Matplotlib 对推断过程进行了可视化。"
   ]
  },
  {
   "cell_type": "markdown",
   "metadata": {},
   "source": [
    "#### 知识点"
   ]
  },
  {
   "cell_type": "markdown",
   "metadata": {},
   "source": [
    "- 贝叶斯推断\n",
    "- 先验概率\n",
    "- 后验概率\n",
    "- 贝叶斯推断与传统统计的区别\n",
    "- 数据可视化\n"
   ]
  },
  {
   "cell_type": "markdown",
   "metadata": {},
   "source": [
    "---"
   ]
  },
  {
   "cell_type": "markdown",
   "metadata": {},
   "source": [
    "<div class=\"alert alert-info\">\n",
    "<h4>课程说明</h4>\n",
    "<p>本次课程基于 <a href=\"https://github.com/CamDavidsonPilon/Probabilistic-Programming-and-Bayesian-Methods-for-Hackers\"><i class=\"fa fa-external-link-square\" aria-hidden=\"true\"> Bayesian Methods for Hackers</i></a> 开源项目制作，原内容使用 <a href=\"https://github.com/CamDavidsonPilon/Probabilistic-Programming-and-Bayesian-Methods-for-Hackers/blob/master/LICENSE.txt\"><i class=\"fa fa-external-link-square\" aria-hidden=\"true\"> MIT</i></a> 授权协议。实验楼取得明确授权后，再原开源协议范围内对内容进行编译，编译后内容沿用该授权协议但需添加实验楼作为编译机构署名。\n",
    "</p>\n",
    "</div>"
   ]
  },
  {
   "cell_type": "markdown",
   "metadata": {},
   "source": [
    "### 贝叶斯推断"
   ]
  },
  {
   "cell_type": "markdown",
   "metadata": {},
   "source": [
    "何为贝叶斯推断？还记得我们是如何调试程序的 bug 的吗？即使我们编程技巧娴熟，也无法保证自己所写的代码毫无 bug。因此，在实现一个复杂的算法之前，我们一般会先用一个简单的测试用例来进行测试。如果测试用例通过，我们才会将其应用在复杂的问题上。然后，再用一个复杂的测试用例进行测试，如果通过，我们就可以把它用在更加复杂的测试用例上……。这样一步一步的测试，我们才能渐渐的相信我们的代码没有 bug。"
   ]
  },
  {
   "cell_type": "markdown",
   "metadata": {},
   "source": [
    "如果以前你按照过这样的思路思考自己的代码，那么恭喜你。你已经是在利用贝叶斯的思路思考问题了。"
   ]
  },
  {
   "cell_type": "markdown",
   "metadata": {},
   "source": [
    "简单的来说，贝叶斯的思路其实就是不断地考虑新的证据来坚定自己的信念。因此，利用贝叶斯解决问题是很难得到一个准确的结果的。但是，这种方法却可以不断增强你的自信率。就像刚才所举的例子一样，我们永远不可能保证我们的代码没有一丝 bug ，除非我们把所有的可能的问题都进行了测试（这在实际操作中是不可能实现的）。但是，我们可以对代码进行大量的测试，如果这些案例都通过了，我们就可以很有把握的说，这段代码没有问题。"
   ]
  },
  {
   "cell_type": "markdown",
   "metadata": {},
   "source": [
    "这就是贝叶斯推断，我们可以通过更多新的的证据来坚定我们的信念，但是我们很少能够做出非常绝对的判断。"
   ]
  },
  {
   "cell_type": "markdown",
   "metadata": {},
   "source": [
    "### 贝叶斯推断与传统统计推断"
   ]
  },
  {
   "cell_type": "markdown",
   "metadata": {},
   "source": [
    "贝叶斯推断与其他传统统计推断的不同之处在于其保留了“不确定性”。这听起来像是一种很差的统计技术。统计不应该是一种从“随机性”中得出“确定性”的方法吗？为了更好的理解这个问题，让我们来解释一下贝叶斯学派思考问题的方式。"
   ]
  },
  {
   "cell_type": "markdown",
   "metadata": {},
   "source": [
    "传统的统计学派，频率派，认为概率是事件在长时间内发生的频率。例如，在频率学派眼中，飞机发生事故的概率指的是，飞机事故的频率值。对于很多事件来说，这种解释是合理的。但是，对于某些没有长期频率的事件来说，这种解释就有点差强人意了。例如，在总统选举时，我们常说某某候选人获选的概率。但是，一个人获选总统的事件只会发生一次，我们无法用频率来估算这种事件的概率。"
   ]
  },
  {
   "cell_type": "markdown",
   "metadata": {},
   "source": [
    "而贝叶斯学派对于概率的解释是，对某个事件发生的信心。如果，某人把 0 赋给某个事件，则表示他相信这个事件绝对不会发生。如果他将 $1$ 赋给某个事件，则表示他相信这个事件必定发生。$0-1$ 之间的其它值，可以表示他相信该事件发生的程度。当然这种概率的定义在一定时候也可以和频率产生联系。比如，在除却所有外部信息的情况下，一个人对飞机失事的信心应该等同于他所了解到的飞机发生事故的频率。但是，在表示总统选举时，贝叶斯的概率定义方法则更有意义，它表示你对选举人 $A$ 获胜的信心有多少。"
   ]
  },
  {
   "cell_type": "markdown",
   "metadata": {},
   "source": [
    "这样定义有一个好处，就是每一个人都能够给同一个事件赋予不同的概率值。这是非常符合实际。因为人与人之间是有差异的，不同人对同一个事件是否发生的信心应该是不同的。虽然概率不同，但这并不代表着他们中有人错，有人对。下面的这些例子就详细的阐述了，人对事件发生的信心与概率之间的关系："
   ]
  },
  {
   "cell_type": "markdown",
   "metadata": {},
   "source": [
    "- 在抛一个没有被动过手脚的硬币时大家都知道硬币为正或反的概率都是 $0.5$。但是，假设你预先偷看了结果，知道下次一定为正面。那么这个时候，你认为硬币为正面的概率是多少？显然，你的预先偷看，并不能改变硬币的实际结果，但这使得你对结果赋予的概率值不同了。\n",
    "- 一个病人表现出了 $x,y,z$ 三种症状，但是有很多疾病都会表现出这三种症状。因此不同的医生，可能会因为经验的不同，而对何种疾病导致的这些症状的见解不同。"
   ]
  },
  {
   "cell_type": "markdown",
   "metadata": {},
   "source": [
    "为了能够更好的和传统概率术语对齐，我们把对事件 $A$ 发生的信心记作 $P(A)$ ，称作**先验概率**。"
   ]
  },
  {
   "cell_type": "markdown",
   "metadata": {},
   "source": [
    "伟大的经济学家、思想家 John Maynard Keynes 说过，“当事实改变，我的观念也在改变，你呢？”。这句名言很直观的说明了贝叶斯学派思考事务的方式。随着证据的改变而更新自己的想法与信念。即使证据和我们初始的信念相反，我们也不能忽视证据。"
   ]
  },
  {
   "cell_type": "markdown",
   "metadata": {},
   "source": [
    "这里我们使用 $P(A|X)$ 表示更新后的信念。即在得到证据 X 后，A 事件发生的概率。为了和先验概率相对应，我们将更新后的概率称之为**后验概率**。"
   ]
  },
  {
   "cell_type": "markdown",
   "metadata": {},
   "source": [
    "我们将上面的两个例子中的先验概率和后验概率提取出来："
   ]
  },
  {
   "cell_type": "markdown",
   "metadata": {},
   "source": [
    "- $P(A)=0.5$ 表示硬币有 50% 的概率是正面。$P(A|X)=1$，表示你已知下次硬币抛出的信息 $X$的情况下，你预测下次抛出点的硬币信息是正面的概率（显然，你已经知道了结果，再叫你预测记过，那么概率肯定是 100% 或者 0 %） 。 \n",
    "- $P(A)$ 表示病人可能患有 A 疾病的概率。$P(A|X)$表示，做了血液测试（即获得信息 $X$）后，该疾病为 A 的可能性。"
   ]
  },
  {
   "cell_type": "markdown",
   "metadata": {},
   "source": [
    "如上，在获得新的证据 $X$ 后，我们并没有完全否决先前的信念。而是选择了重新调整之前的信念，使其更加符合目前的证据，这样也可以让我们的预测结果更加准确。"
   ]
  },
  {
   "cell_type": "markdown",
   "metadata": {},
   "source": [
    "### 贝叶斯推断的实践"
   ]
  },
  {
   "cell_type": "markdown",
   "metadata": {},
   "source": [
    "如果把频率推断和贝叶斯推断看做两个函数。那么这两个函数所需要的输入就是各种统计数据，但是输出却是不同的。频率推断返回的是一个估计值（通常是统计量，如平均值等），而贝叶斯推断返回的则是一个概率值。"
   ]
  },
  {
   "cell_type": "markdown",
   "metadata": {},
   "source": [
    "例如在代码测试的例子中，如果你向频率推断函数问道，“我的代码通过了 X 集合中的所有测试，我的代码是不是已经没有 bug 了？”，此时频率推断会给你返回“Yes” 。而如果向贝叶斯推断函数问道，“虽然我的代码常会有 bug ，但是这次的代码已经通过了X集合中的所有测试，我的代码是不是已经没有 bug了?”，此时概率推断会返回两个概率值，如：“yes”的概率为 80% ，“no”的概率为 20% 。"
   ]
  },
  {
   "cell_type": "markdown",
   "metadata": {},
   "source": [
    "显然，贝叶斯函数的返回结果和频率函数的结果非常不同。并且我们可以注意到，在对贝叶斯函数说话时，我们添加了一个额外的信息，“虽然我的代码常会有bug”。这个信息其实就是传入函数的一个参数，也就是我们之前所说的先验信念。"
   ]
  },
  {
   "cell_type": "markdown",
   "metadata": {},
   "source": [
    "简单的说，贝叶斯推断就是根据先验信念和真实数据进行推断，推断出所需要参数的后验信念。"
   ]
  },
  {
   "cell_type": "markdown",
   "metadata": {},
   "source": [
    "#### 更多的数据"
   ]
  },
  {
   "cell_type": "markdown",
   "metadata": {},
   "source": [
    "当我们添加更多的数据样本时，初始的信念会不断被刷新。假设你的先验信念是非常荒谬的，类似于“太阳今天会爆炸”，然后每天你都会被打脸。你或许会想要一种思维方式来修正你的想法，或者让你的想法变得不是那么荒谬。我想贝叶斯推断会是一个不错的选择。"
   ]
  },
  {
   "cell_type": "markdown",
   "metadata": {},
   "source": [
    "如果 N 表示我们所拥有的证据数量，那么当 N 趋于无穷大的时候，贝叶斯的结果会和频率派的结果一致。因此对于足够大的 N，使用传统的统计推断也是比较客观的。但是，对于较小的 N ，统计推断就不那么稳定了。而贝叶斯推论却可以通过引入先验概率和返回概率结果，来保留这种不确定性（因为返回结果为概率值）。"
   ]
  },
  {
   "cell_type": "markdown",
   "metadata": {},
   "source": [
    "当然，也有人认为，对于大的 N 来说，两种统计技术是无差别的，因为结果类似，并且频率派的计算更为简单，因此更加倾向于频率派的方法。"
   ]
  },
  {
   "cell_type": "markdown",
   "metadata": {},
   "source": [
    "事实上，样本从来都不是足够大的。当 N 太小时，你需要获得更多的数据去进行足够精确的估计。当 N “足够大”时，也可能会划分数据进而研究更多的问题，因此你就可能会需要更多的数据，因此 N 永远无法做到足够大。"
   ]
  },
  {
   "cell_type": "markdown",
   "metadata": {},
   "source": [
    "上面的这些话是否代表着频率派的模型是错误的呢？事实上，频率法依旧是很多领域最好的方法。例如，最小方差线性回归、LASSO 回归、EM 算法等。这些算法都是非常高效且快速的。"
   ]
  },
  {
   "cell_type": "markdown",
   "metadata": {},
   "source": [
    "#### 抛硬币实例"
   ]
  },
  {
   "cell_type": "markdown",
   "metadata": {},
   "source": [
    "让我们以统计书籍中最常见的投硬币为例，详细的阐述一下，贝叶斯推断的全过程。假设我们开始不知道硬币投掷的概率，但是我们相信硬币被投掷为正面的概率一定是一个具体的值，它可能是 0.01、0.02、0.03 等等。我们需要用贝叶斯推断来寻找这个值，让我们利用 Python 的画图工具，以图像的形式展示这个过程。 "
   ]
  },
  {
   "cell_type": "markdown",
   "metadata": {},
   "source": [
    "首先，让我们先导入所需要用到的工具包："
   ]
  },
  {
   "cell_type": "markdown",
   "metadata": {},
   "source": [
    "<i class=\"fa fa-arrow-circle-down\" aria-hidden=\"true\"> 教学代码：</i>"
   ]
  },
  {
   "cell_type": "code",
   "execution_count": null,
   "metadata": {},
   "outputs": [],
   "source": [
    "# stats  Scipy 的统计函数库，定义了常见的分布和函数\n",
    "# 防止画图时的备注出现乱码\n",
    "import scipy.stats as stats\n",
    "from IPython.core.pylabtools import figsize\n",
    "import numpy as np\n",
    "from matplotlib import pyplot as plt\n",
    "%matplotlib inline"
   ]
  },
  {
   "cell_type": "markdown",
   "metadata": {},
   "source": [
    "<i class=\"fa fa-arrow-circle-down\" aria-hidden=\"true\"> 动手练习</i>｜如果你对课程所使用的实验楼 Notebook 在线环境并不熟悉，可以先学习 [<i class=\"fa fa-external-link-square\" aria-hidden=\"true\"> 使用指南课程</i>](https://www.shiyanlou.com/courses/1322)。"
   ]
  },
  {
   "cell_type": "code",
   "execution_count": null,
   "metadata": {},
   "outputs": [],
   "source": []
  },
  {
   "cell_type": "markdown",
   "metadata": {},
   "source": [
    "这里让我们对抛硬币实验进行计算机模拟，产生 500 个随机 0-1结果，代码如下："
   ]
  },
  {
   "cell_type": "code",
   "execution_count": null,
   "metadata": {},
   "outputs": [],
   "source": [
    "# stats.bernoulli.rvs ：，伯努利分布， 调用该函数产生 0-1 随机数\n",
    "# data存的就是每次投掷硬币的结果\n",
    "data = stats.bernoulli.rvs(0.5, size=500)\n",
    "data"
   ]
  },
  {
   "cell_type": "code",
   "execution_count": null,
   "metadata": {},
   "outputs": [],
   "source": []
  },
  {
   "cell_type": "markdown",
   "metadata": {},
   "source": [
    "假设在投掷硬币开始之前，我们不知道投掷硬币为正面的概率是多少。也就是说，在进行第 0 次实验时，我们认为硬币投为正面的概率可能为 $0.1,0.2,0.3，……$等，现在让我们画个图来展示我们现在的想法。"
   ]
  },
  {
   "cell_type": "code",
   "execution_count": null,
   "metadata": {},
   "outputs": [],
   "source": [
    "N = 0  # 表示第0次训练\n",
    "x = np.linspace(0, 1, 100)  # 将正面概率的取值等分为100份0.01,0.02,0.03...\n",
    "heads = data[:N].sum()  # 计算出前N次正面的次数，此时N为0\n",
    "# 这是分布函数（下一章节会详细阐述），现在可以先将其理解为我们心中的信念\n",
    "# 通过传入前N次实验投掷为正面的次数，然后得到我们对正面概率为0.01,0.02....的坚信程度\n",
    "y = stats.beta.pdf(x, 1 + heads, 1 + N - heads)\n",
    "\n",
    "# 画图并且在图中添加相应的注释\n",
    "plt.xlabel(\"$p$, probability of heads\")\n",
    "plt.plot(x, y, label=\"observe %d tosses,\\n %d heads\" % (N, heads))\n",
    "# 填充颜色\n",
    "plt.fill_between(x, 0, y, color=\"#348ABD\", alpha=0.4)\n",
    "plt.vlines(0.5, 0, 4, color=\"k\", linestyles=\"--\", lw=1)\n",
    "leg = plt.legend()\n",
    "leg.get_frame().set_alpha(0.4)\n",
    "plt.autoscale(tight=True)"
   ]
  },
  {
   "cell_type": "code",
   "execution_count": null,
   "metadata": {},
   "outputs": [],
   "source": []
  },
  {
   "cell_type": "markdown",
   "metadata": {},
   "source": [
    "如上图，我们可以清楚的看到，在第 0 次实验时，我们没有一个特定的倾向。认为正面概率的取值可以为 0 到 1 中的任意一个值。上图的纵坐标，就表示我们对硬币被掷为的正面的概率取值的坚信程度（开始的时候，没有倾向，认为每个值都有可能）。"
   ]
  },
  {
   "cell_type": "markdown",
   "metadata": {},
   "source": [
    "接下来，让我们调整 $N$ 值。观察一下，进行 $0、1、 2、 3、 4、 5、 8、 15、 50、 500$ 次试验后，我们对概率取值的倾向变化。代码如下："
   ]
  },
  {
   "cell_type": "code",
   "execution_count": null,
   "metadata": {
    "scrolled": true
   },
   "outputs": [],
   "source": [
    "# 大部分代码上面已经解释，这里只是添加了一个循环。因此不做赘述\n",
    "figsize(11, 9)\n",
    "dist = stats.beta\n",
    "n_trials = [0, 1, 2, 3, 4, 5, 8, 15, 50, 500]\n",
    "data = stats.bernoulli.rvs(0.5, size=n_trials[-1])\n",
    "x = np.linspace(0, 1, 100)\n",
    "\n",
    "# For the already prepared, I'm using Binomial's conj. prior.\n",
    "for k, N in enumerate(n_trials):\n",
    "    sx = plt.subplot(len(n_trials)/2, 2, k+1)\n",
    "    plt.xlabel(\"$p$, probability of heads\") \\\n",
    "        if k in [0, len(n_trials)-1] else None\n",
    "    plt.setp(sx.get_yticklabels(), visible=False)\n",
    "    heads = data[:N].sum()\n",
    "    y = dist.pdf(x, 1 + heads, 1 + N - heads)\n",
    "    plt.plot(x, y, label=\"observe %d tosses,\\n %d heads\" % (N, heads))\n",
    "    plt.fill_between(x, 0, y, color=\"#348ABD\", alpha=0.4)\n",
    "    plt.vlines(0.5, 0, 4, color=\"k\", linestyles=\"--\", lw=1)\n",
    "\n",
    "    leg = plt.legend()\n",
    "    leg.get_frame().set_alpha(0.4)\n",
    "    plt.autoscale(tight=True)\n",
    "\n",
    "\n",
    "plt.suptitle(\"Bayesian updating of posterior probabilities\",\n",
    "             y=1.02,\n",
    "             fontsize=14)\n",
    "\n",
    "plt.tight_layout()"
   ]
  },
  {
   "cell_type": "code",
   "execution_count": null,
   "metadata": {},
   "outputs": [],
   "source": []
  },
  {
   "cell_type": "markdown",
   "metadata": {},
   "source": [
    "在结果中，我们用曲线表示了我们的后验概率，曲线越宽，我们的不确定性越大。从上图中我们可以看到，开始观测时，后验概率的变化很不稳定。但是，随着观测数据（抛硬币的次数）越来越多，这个概率就会越来越接近它的真实值 $p=0.5$（图中用虚线标出）。"
   ]
  },
  {
   "cell_type": "markdown",
   "metadata": {},
   "source": [
    "事实上，我们的观察是十分极端的，比如说，抛了 $8$ 次只有一次结果为正面的话，我们的分布会偏离 0.5 很多。但是随着数据的累计，我们必定可以观察到（虽然因为随机性，也不是每次都能观察到），概率值为 $p = 0.5$ 可能性会最高。"
   ]
  },
  {
   "cell_type": "markdown",
   "metadata": {},
   "source": [
    "### 贝叶斯框架"
   ]
  },
  {
   "cell_type": "markdown",
   "metadata": {},
   "source": [
    "通过贝叶斯的思想，我们可以把对某件事情发生的信念做为概率。让我们以之前的“判断程序是否存在bug”为为。在对代码进行测试之前，我们对代码发生漏洞的概率会有一个先验估计。然后，我们的代码通过了 $X$ 个测试后，我们就会相应的调整我们心里的估计，这个调整过后的新估计，就叫做后验概率。"
   ]
  },
  {
   "cell_type": "markdown",
   "metadata": {},
   "source": [
    "而调整这个估计是可以通过下面这个公式完成："
   ]
  },
  {
   "cell_type": "markdown",
   "metadata": {},
   "source": [
    "$$ \\begin{eqnarray}  \n",
    "P(A|X) &=& \\frac{P(X|A) \\cdot P(A)}{P(X)} \\\\\n",
    "&\\propto & P(X | A) P(A) （\\text{其中 $\\propto$ 表示“与之成正比例”的意思}）\n",
    "\\end{eqnarray}\n",
    "  $$"
   ]
  },
  {
   "cell_type": "markdown",
   "metadata": {},
   "source": [
    "上列式子很明确的表示了先验概率 $P(A)$ 和更新后的后验概率 $P(A|X)$ 之间的关系。为了更好的理解上面这个公式，我们来练习一个实例。"
   ]
  },
  {
   "cell_type": "markdown",
   "metadata": {},
   "source": [
    "#### 实例：图书管理员还是农民"
   ]
  },
  {
   "cell_type": "markdown",
   "metadata": {},
   "source": [
    "在《思考，快与慢》一书中有这样一个问题。史蒂文是一个害羞的人，他乐于助人，但又对其他人不太关注。他愿意将每件事情安排的合理有序，并且对工作非常细心。那么问题来了，你认为史蒂文是一个图书管理员还是一个农民呢？我想很多人都会认为史蒂文看起来更像一个图书管理员。但是这里却忽略了一个事实：男性图书管理员的人数只有男性农民的 $1/20$ 。所以从统计学的角度来说，史蒂文，更有可能是一个农民。"
   ]
  },
  {
   "cell_type": "markdown",
   "metadata": {},
   "source": [
    "为什么他看起来更可能是一个农民呢？让我们把问题简化，假设世上只有两种职业：图书管理员和农民，并且农民的数量确实是图书管理员的20倍。"
   ]
  },
  {
   "cell_type": "markdown",
   "metadata": {},
   "source": [
    "设事件 $A$ 表示史蒂文是图书管理员。那么如果我们没有关于史蒂文的任何信息，则："
   ]
  },
  {
   "cell_type": "markdown",
   "metadata": {},
   "source": [
    "$$P(A)=\\frac{1}{21}=0.047$$"
   ]
  },
  {
   "cell_type": "markdown",
   "metadata": {},
   "source": [
    "这就是，我们的先验概率。"
   ]
  },
  {
   "cell_type": "markdown",
   "metadata": {},
   "source": [
    "现在假设我们从史蒂文的邻居那里获得了史蒂文的一些评价信息，我们称之为 $X$ 。那么，我们想要求的就是史蒂文为图书管理员的后验概率 $P(A|X)$。由贝叶斯定理可得："
   ]
  },
  {
   "cell_type": "markdown",
   "metadata": {},
   "source": [
    "$$ \n",
    " P(A|X) = \\frac{P(X|A) \\cdot P(A)}{P(X)}\n",
    "$$"
   ]
  },
  {
   "cell_type": "markdown",
   "metadata": {},
   "source": [
    "其中 $P(X|A)$表示，史蒂文真的是图书管理员的情况下，史蒂文的邻居们所给出的某种描述的概率。换句话说，如果史蒂文真的是图书馆管理员，那么他是上面描述的那样的概率（这个概率可以通过统计得到）。这个值很可能接近于 $1$ ，这里我们假设是 $0.95$ 。"
   ]
  },
  {
   "cell_type": "markdown",
   "metadata": {},
   "source": [
    "$P(X)$ 表示，任何人对史蒂文的描述和上面的描述一致的概率。那么这个概率应该如何计算呢？该概率等于史蒂文是图书管理员的情况下会出现上面描述的概率加上他不是图书管理员的情况下出现上面描述的概率。让我们用一下逻辑符号来对它进行表示："
   ]
  },
  {
   "cell_type": "markdown",
   "metadata": {},
   "source": [
    "\\begin{align}\n",
    "P(X ) & = P(X \\text{ and } A) + P(X \\text{ and } \\sim A) \\\\\n",
    " & = P(X|A)P(A) + P(X | \\sim A)P(\\sim A)\\\\\n",
    "\\end{align}"
   ]
  },
  {
   "cell_type": "markdown",
   "metadata": {},
   "source": [
    "其中 $ \\sim A$ 表示史蒂文不是图书管理员的事件，即他是一个农民。现在，我们已经知道了 $P(X|A)$ 和 $P(A)的值$。另外还知道，$P(\\sim A) = 1-P(A)=\\frac{20}{21}$"
   ]
  },
  {
   "cell_type": "markdown",
   "metadata": {},
   "source": [
    "则，我们只需要知道 $P(X|\\sim A)$，就可以知道最终的后验概率了。而  $P(X|\\sim A)$ 表示的是，史蒂文是个农民的情况下，邻居们给出上面描述的概率。这里我们假设为 $0.5$，这样我们就可以计算出 $P(X)$ 了，公式如下："
   ]
  },
  {
   "cell_type": "markdown",
   "metadata": {},
   "source": [
    "\\begin{align}\n",
    "P(X) &= P(X|A)P(A) + P(X | \\sim A)P(\\sim A)\\\\\n",
    "& = 0.95 \\times \\frac{1}{21} + 0.5 \\times \\frac{20}{21}=0.52\n",
    "\\end{align}"
   ]
  },
  {
   "cell_type": "markdown",
   "metadata": {},
   "source": [
    "综合以上，后验概率 $P(A|X)$，即在上述描述下，史蒂文为图书馆管理员的概率为："
   ]
  },
  {
   "cell_type": "markdown",
   "metadata": {},
   "source": [
    "\\begin{align}\n",
    "P(A|X) &= \\frac{P(X|A) \\cdot P(A)}{P(X)}\\\\\n",
    "&=\\frac{0.95 \\times \\frac{1}{21}}{0.52}\\\\\n",
    "&=0.087\n",
    "\\end{align}"
   ]
  },
  {
   "cell_type": "markdown",
   "metadata": {},
   "source": [
    "由此可以看出，如果史蒂文是图书管理员的话，它符合上面描述的概率是 $95$% 。但是考虑到农民的人数比图书管理员多得多，因此最后得到的答案是，史蒂文为图书馆管理员的概率只有 $8.7$%。"
   ]
  },
  {
   "cell_type": "markdown",
   "metadata": {},
   "source": [
    "接下来，我们利用 Python 将画出先验概率和后验概率的图像，并进行比较。"
   ]
  },
  {
   "cell_type": "markdown",
   "metadata": {},
   "source": [
    "首先，让我们先把我们算出来的概率，进行定义。"
   ]
  },
  {
   "cell_type": "code",
   "execution_count": null,
   "metadata": {},
   "outputs": [],
   "source": [
    "prior = [1/21, 20/21]  # 分别设置史蒂文为图书管理员和农民的先验概率\n",
    "posterior = [0.087, 1-0.087]  # 分别设置史蒂文为图书管理员后农民的后验概率\n",
    "prior, posterior"
   ]
  },
  {
   "cell_type": "code",
   "execution_count": null,
   "metadata": {},
   "outputs": [],
   "source": []
  },
  {
   "cell_type": "markdown",
   "metadata": {},
   "source": [
    "接下来，利用 Matplotlib 库，进行条形统计图的绘制。"
   ]
  },
  {
   "cell_type": "code",
   "execution_count": null,
   "metadata": {
    "scrolled": true
   },
   "outputs": [],
   "source": [
    "figsize(12.5, 4)  # 设置大小，以及条形统计图条数\n",
    "colours = [\"#348ABD\", \"#A60628\"]  # 设置颜色\n",
    "\n",
    "# 画条形统计图，并且设置相应参数，如横纵坐标，标签，颜色等\n",
    "plt.bar([0, .7], prior, alpha=0.70, width=0.25,\n",
    "        color=colours[0], label=\"prior distribution\",\n",
    "        lw=\"3\", edgecolor=colours[0])\n",
    "\n",
    "plt.bar([0+0.25, .7+0.25], posterior, alpha=0.7,\n",
    "        width=0.25, color=colours[1],\n",
    "        label=\"posterior distribution\",\n",
    "        lw=\"3\", edgecolor=colours[1])\n",
    "\n",
    "plt.xticks([0.20, 0.95], [\"Librarian\", \"Farmer\"])\n",
    "plt.title(\"Prior and posterior probabilities of Steve’s occupation\")\n",
    "plt.ylabel(\"Probability\")\n",
    "plt.legend(loc=\"upper left\")"
   ]
  },
  {
   "cell_type": "code",
   "execution_count": null,
   "metadata": {},
   "outputs": [],
   "source": []
  },
  {
   "cell_type": "markdown",
   "metadata": {},
   "source": [
    "由图可以看到，无论是图书管理员还是农民，在得到条件 $X$ 后，概率都发生了变化。尽管史蒂文为图书馆管理员的概率还是很小，但，确实因为听到了邻居的描述，史蒂文为图书管理员的概率才会增加的。"
   ]
  },
  {
   "cell_type": "markdown",
   "metadata": {},
   "source": [
    "### 实验总结"
   ]
  },
  {
   "cell_type": "markdown",
   "metadata": {},
   "source": [
    "这是一个关于贝叶斯推断的简单实际例子。不幸的是，在人工结构下，要执行更加复杂的贝叶斯推断所用到的数学会更加复杂。因此，在后面我们再也不会像上面一样进行复杂的属性分析，一个公式一个公式的推导，我们将会扩充我们的建模工具。在下一章节里我们会学习概率分布，并且利用 Scipy 分别对他们进行实现。"
   ]
  },
  {
   "cell_type": "markdown",
   "metadata": {},
   "source": [
    "<hr><div style=\"color: #999; font-size: 12px;\"><i class=\"fa fa-copyright\" aria-hidden=\"true\"> 本课程内容版权归实验楼所有，禁止转载、下载及非法传播。</i></div>"
   ]
  }
 ],
 "metadata": {
  "kernelspec": {
   "display_name": "Python 3",
   "language": "python",
   "name": "python3"
  },
  "language_info": {
   "codemirror_mode": {
    "name": "ipython",
    "version": 3
   },
   "file_extension": ".py",
   "mimetype": "text/x-python",
   "name": "python",
   "nbconvert_exporter": "python",
   "pygments_lexer": "ipython3",
   "version": "3.7.0"
  }
 },
 "nbformat": 4,
 "nbformat_minor": 2
}
