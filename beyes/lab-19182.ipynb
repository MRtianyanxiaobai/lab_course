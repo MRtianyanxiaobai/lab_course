{
 "cells": [
  {
   "cell_type": "markdown",
   "metadata": {},
   "source": [
    "## 网站转化率的评估"
   ]
  },
  {
   "cell_type": "markdown",
   "metadata": {},
   "source": [
    "---"
   ]
  },
  {
   "cell_type": "markdown",
   "metadata": {},
   "source": [
    "#### 介绍"
   ]
  },
  {
   "cell_type": "markdown",
   "metadata": {},
   "source": [
    "A/B 测试是一种用来检测两种不同处理方式导致的差异化程度的统计模式。例如，一个前端网站的开发者想知道他所开发的两个网站中，谁会带来更高的转化率。这里转化可以理解为用户注册、购买或其他的行为。他们会抽取一定比例的用户使用网站 A ，另外一定比例的用户使用网站 B。并且记录下这些用户的转化行为。本实验将会利用贝叶斯推断对上述两个网站的真实转换率进行推断。"
   ]
  },
  {
   "cell_type": "markdown",
   "metadata": {},
   "source": [
    "#### 知识点"
   ]
  },
  {
   "cell_type": "markdown",
   "metadata": {},
   "source": [
    "- 贝叶斯 A/B 测试\n",
    "- 网站的转换率评估\n",
    "- 数据的真实差异性比较\n",
    "- 伯努利分布\n",
    "- 数据的可视化"
   ]
  },
  {
   "cell_type": "markdown",
   "metadata": {},
   "source": [
    "---"
   ]
  },
  {
   "cell_type": "markdown",
   "metadata": {},
   "source": [
    "### 贝叶斯 A/B 测试"
   ]
  },
  {
   "cell_type": "markdown",
   "metadata": {},
   "source": [
    "在进行实验前，我们还是需要加载 PyMC 库，这里请直接运行下面几段代码（具体解释，已在上一个实验给出）："
   ]
  },
  {
   "cell_type": "code",
   "execution_count": null,
   "metadata": {},
   "outputs": [],
   "source": [
    "!pip install pymc3==3.8"
   ]
  },
  {
   "cell_type": "code",
   "execution_count": null,
   "metadata": {},
   "outputs": [],
   "source": [
    "#卸载当前环境的 numpy，防止与新版本冲突\n",
    "!pip  uninstall -y numpy\n",
    "#更新 numpy\n",
    "!pip install -U numpy "
   ]
  },
  {
   "cell_type": "code",
   "execution_count": null,
   "metadata": {},
   "outputs": [],
   "source": [
    "#重启内核\n",
    "import os\n",
    "os._exit(00)"
   ]
  },
  {
   "cell_type": "code",
   "execution_count": null,
   "metadata": {},
   "outputs": [],
   "source": [
    "# 测试是否安装成功\n",
    "import pymc3 as pm\n",
    "# 输出版本号\n",
    "print(pm.__version__)"
   ]
  },
  {
   "cell_type": "markdown",
   "metadata": {},
   "source": [
    "### 场景模拟"
   ]
  },
  {
   "cell_type": "markdown",
   "metadata": {},
   "source": [
    "#### 使用贝叶斯解决问题的原因"
   ]
  },
  {
   "cell_type": "markdown",
   "metadata": {},
   "source": [
    "接下来，让我们使用贝叶斯方法来解决这个问题。"
   ]
  },
  {
   "cell_type": "markdown",
   "metadata": {},
   "source": [
    "此时，让我们先分析网站 A。假设用户面对网站 A ，发生转化行为的概率为 $P_A$。即网站 A 的真实影响力为 $P_A$。当然，目前为止，$P_A$ 对于我们来说，还是未知的。"
   ]
  },
  {
   "cell_type": "markdown",
   "metadata": {},
   "source": [
    "假设有 N 个用户浏览了网站 A，n 个用户转化了。我们可能会草率的得到 $P_A=\\frac{n}{N}$。然而，事实上，观测频率 $\\frac{n}{N}$ 并不一定等于 $P_A$。因为在真实频率和观测频率之间还是存在一些区别的。"
   ]
  },
  {
   "cell_type": "markdown",
   "metadata": {},
   "source": [
    "真实数据可以理解为一件事情发生的概率，而观测频率只是频率而已。举个例子，众所周知，骰子的数字 1 朝上的真实频率为 $\\frac{1}{6}$。但是，事实上，就算我们实验六次，也不一定能观测到数字为 1 的那一面（这就是观测频率）。"
   ]
  },
  {
   "cell_type": "markdown",
   "metadata": {},
   "source": [
    "在现实生活中，真实频率的前面经常会出现很多的噪音以及其他复杂情况的干扰。因此，我们最好是使用观测到的数据以及合理的先验知识，来推断真实频率的可能值。这样得到的转化率才更加接近真实。"
   ]
  },
  {
   "cell_type": "markdown",
   "metadata": {},
   "source": [
    "####  网站 A 的观测数据的模拟"
   ]
  },
  {
   "cell_type": "markdown",
   "metadata": {},
   "source": [
    "让我们先来整理一下思路，我们整个实验的步骤其实是这样的："
   ]
  },
  {
   "cell_type": "markdown",
   "metadata": {},
   "source": [
    "- 假设一个真实频率 $P_A$，并且利用这个概率，产生观测数据。\n",
    "- 通过观测数据得到观测频率，并于 $P_A$ 比较，证实观测频率并不等于真实概率的结论。\n",
    "- 通过观测数据和贝叶斯推断，得到 $P_A$ 的后验概率，并与真实频率比较。证实贝叶斯推断可以求取真实频率的结论。"
   ]
  },
  {
   "cell_type": "markdown",
   "metadata": {},
   "source": [
    "我们需要用计算机来模拟真实数据的产生。"
   ]
  },
  {
   "cell_type": "markdown",
   "metadata": {},
   "source": [
    "假设有 1500 个用户访问了网站 A，真实 $P_A$ = 0.05。现在，我们使用 **伯努利分布** 来对他们的行为进模拟，产生观测数据。"
   ]
  },
  {
   "cell_type": "markdown",
   "metadata": {},
   "source": [
    "简单的说，伯努利分布是一个二项随机值。也就是说，它产生的数据为 0 或 1。即对应着，该用户没有发生转化行为 或 发生了转化行为。换个正式的说法就是，伯努利分布的分布函数如下所示："
   ]
  },
  {
   "cell_type": "markdown",
   "metadata": {},
   "source": [
    "$$X\\ \\sim \\text{Ber}(p)$$"
   ]
  },
  {
   "cell_type": "markdown",
   "metadata": {},
   "source": [
    "该分布所需要的参数就是真实概率 $P_A$。我们可以通过真实的概率，模拟观测数据。代码如下："
   ]
  },
  {
   "cell_type": "code",
   "execution_count": null,
   "metadata": {},
   "outputs": [],
   "source": [
    "import scipy.stats as stats\n",
    "import numpy as np\n",
    "# 请记住，这个真实概率其实是未知的\n",
    "# 也就是说，后面我们其实是需要使用贝叶斯推断来得到这个 p_true的值的\n",
    "p_true = 0.05\n",
    "N = 1500\n",
    "\n",
    "occurrences = stats.bernoulli.rvs(p_true, size=N)\n",
    "\n",
    "print(\"每个人是否发生转化：\", occurrences)  # 0表示为发生转化，1表示发生转化\n",
    "print(\"发生转化行为的人数：\", np.sum(occurrences))"
   ]
  },
  {
   "cell_type": "code",
   "execution_count": null,
   "metadata": {},
   "outputs": [],
   "source": []
  },
  {
   "cell_type": "markdown",
   "metadata": {},
   "source": [
    "接下来，让我们利用观测数据计算观测频率："
   ]
  },
  {
   "cell_type": "code",
   "execution_count": null,
   "metadata": {},
   "outputs": [],
   "source": [
    "print(\"A 网站的观测频率为： %.4f\" % np.mean(occurrences))\n",
    "print(\"该转化率和真实的转化率相同吗? %s\" % (np.mean(occurrences) == p_true))"
   ]
  },
  {
   "cell_type": "code",
   "execution_count": null,
   "metadata": {},
   "outputs": [],
   "source": []
  },
  {
   "cell_type": "markdown",
   "metadata": {},
   "source": [
    "#### 利用贝叶斯推断真实转化率"
   ]
  },
  {
   "cell_type": "markdown",
   "metadata": {},
   "source": [
    "还记得上一个试验中，贝叶斯推断的步骤吗？在建立贝叶斯模型时，我们首先需要对未知变量赋予一个先验分布（即在进行任何实验前，我们所认为的网站 A 的转化率），然后利用已知数据与模型对它的后验分布（即真实转化率）进行求取。"
   ]
  },
  {
   "cell_type": "markdown",
   "metadata": {},
   "source": [
    "然而，在这个例子中，我们对 $P_A$ 的先验概率并不确定。因此，在这里，我们先假设 $P_A$ 来自 [0,1] 的均匀分布（可以理解为 $P_A$ 为所有值的概率相同，并没有任何倾向）。让我们利用 PyMC 将它定义出来："
   ]
  },
  {
   "cell_type": "code",
   "execution_count": null,
   "metadata": {},
   "outputs": [],
   "source": [
    "model = pm.Model()\n",
    "with model:\n",
    "    # 0-1 的均匀分布\n",
    "    p = pm.Uniform('p', lower=0, upper=1)\n",
    "model"
   ]
  },
  {
   "cell_type": "code",
   "execution_count": null,
   "metadata": {},
   "outputs": [],
   "source": []
  },
  {
   "cell_type": "markdown",
   "metadata": {},
   "source": [
    "接下来，我们将观测值放入 PyMC 中的 observed 的变量中。并打开模型的学习开关，进行贝叶斯推断。运行时间 3~5 min，代码如下："
   ]
  },
  {
   "cell_type": "code",
   "execution_count": null,
   "metadata": {},
   "outputs": [],
   "source": [
    "with model:\n",
    "        # 将数据与模型相结合\n",
    "        obs = pm.Bernoulli(\"obs\", p, observed=occurrences)\n",
    "\n",
    "        # 打开模型学习开关\n",
    "        step = pm.Metropolis()\n",
    "\n",
    "        # 获得结果分布的样例\n",
    "        trace = pm.sample(18000, step=step)\n",
    "        burned_trace = trace[1000:]"
   ]
  },
  {
   "cell_type": "code",
   "execution_count": null,
   "metadata": {},
   "outputs": [],
   "source": []
  },
  {
   "cell_type": "markdown",
   "metadata": {},
   "source": [
    "接下来，我们通过得到的样本做出未知变量 P_A 的后验分布图："
   ]
  },
  {
   "cell_type": "code",
   "execution_count": null,
   "metadata": {},
   "outputs": [],
   "source": [
    "from IPython.core.pylabtools import figsize\n",
    "import matplotlib.pyplot as plt\n",
    "%matplotlib inline\n",
    "\n",
    "figsize(12.5, 4)\n",
    "plt.title(\"Posterior distribution of $p_A$, the true effectiveness of site A\")\n",
    "plt.vlines(p_true, 0, 90, linestyle=\"--\", label=\"true $p_A$ (unknown)\")\n",
    "plt.hist(burned_trace[\"p\"], bins=25, histtype=\"stepfilled\", normed=True)\n",
    "plt.legend()"
   ]
  },
  {
   "cell_type": "code",
   "execution_count": null,
   "metadata": {},
   "outputs": [],
   "source": []
  },
  {
   "cell_type": "markdown",
   "metadata": {},
   "source": [
    "从上图可以看出，出现频率最多的 $P_A$ 的值距离真实频率的值很近。当然由于产生数据的随机型，我们可以通过调整 N 的大小，使 $P_A$ 的后验概率，更加接近网站 A 的真实转化频率。"
   ]
  },
  {
   "cell_type": "markdown",
   "metadata": {},
   "source": [
    "### A 与 B 的结合"
   ]
  },
  {
   "cell_type": "markdown",
   "metadata": {},
   "source": [
    "其实 B 的真实转化率的求法和上面相同，并且本实验真正需要我们求的是 $P_A$ 和 $P_B$的差距 $deta$ 。接下来，让我们一次性将这些变量的分布都求出来吧。此时 $deta$ 就是一个确定型变量，因为 $deta = P_A - P_B$。"
   ]
  },
  {
   "cell_type": "markdown",
   "metadata": {},
   "source": [
    "同样，第一步我们需要分别模拟网站 A 和网站 B 的用户行为数据。代码如下： "
   ]
  },
  {
   "cell_type": "code",
   "execution_count": null,
   "metadata": {},
   "outputs": [],
   "source": [
    "# 两个网站的真实转化率\n",
    "true_p_A = 0.05\n",
    "true_p_B = 0.04\n",
    "\n",
    "# 两个网站的访问人数\n",
    "N_A = 1500\n",
    "N_B = 750\n",
    "\n",
    "# 产生观测数据\n",
    "observations_A = stats.bernoulli.rvs(true_p_A, size=N_A)\n",
    "observations_B = stats.bernoulli.rvs(true_p_B, size=N_B)\n",
    "print(\"Obs from Site A: \", observations_A[:30], \"...\")\n",
    "print(\"Obs from Site B: \", observations_B[:30], \"...\")"
   ]
  },
  {
   "cell_type": "code",
   "execution_count": null,
   "metadata": {},
   "outputs": [],
   "source": []
  },
  {
   "cell_type": "markdown",
   "metadata": {},
   "source": [
    "接下来，让我们定义先验概率，并将观测数据传入模型中，最后按下模型学习的按钮，对模型进行训练："
   ]
  },
  {
   "cell_type": "code",
   "execution_count": null,
   "metadata": {},
   "outputs": [],
   "source": [
    "model = pm.Model()\n",
    "with model:\n",
    "    p_A = pm.Uniform(\"p_A\", 0, 1)\n",
    "    p_B = pm.Uniform(\"p_B\", 0, 1)\n",
    "\n",
    "    # 定义两个转化率的差距\n",
    "    delta = pm.Deterministic(\"delta\", p_A - p_B)\n",
    "\n",
    "    # 真实数据传入模型s\n",
    "    obs_A = pm.Bernoulli(\"obs_A\", p_A, observed=observations_A)\n",
    "    obs_B = pm.Bernoulli(\"obs_B\", p_B, observed=observations_B)\n",
    "\n",
    "    # 模型训练，将在在后面的实验进行解释\n",
    "    step = pm.Metropolis()\n",
    "    trace = pm.sample(20000, step=step)\n",
    "    burned_trace = trace[1000:]"
   ]
  },
  {
   "cell_type": "code",
   "execution_count": null,
   "metadata": {},
   "outputs": [],
   "source": []
  },
  {
   "cell_type": "markdown",
   "metadata": {},
   "source": [
    "接下里，根据得到的分布函数，提取出这三个变量的样本集合。"
   ]
  },
  {
   "cell_type": "code",
   "execution_count": null,
   "metadata": {},
   "outputs": [],
   "source": [
    "p_A_samples = burned_trace[\"p_A\"]\n",
    "p_B_samples = burned_trace[\"p_B\"]\n",
    "delta_samples = burned_trace[\"delta\"]\n",
    "p_B_samples.shape"
   ]
  },
  {
   "cell_type": "code",
   "execution_count": null,
   "metadata": {},
   "outputs": [],
   "source": []
  },
  {
   "cell_type": "markdown",
   "metadata": {},
   "source": [
    "最后，同样让我们，利用得到的分布样本，做出这 3 个未知变量的分布图："
   ]
  },
  {
   "cell_type": "code",
   "execution_count": null,
   "metadata": {},
   "outputs": [],
   "source": [
    "figsize(12.5, 10)\n",
    "\n",
    "# 利用 histogram 做出每个值的取值概率\n",
    "\n",
    "ax = plt.subplot(311)\n",
    "\n",
    "plt.xlim(0, .1)\n",
    "plt.hist(p_A_samples, histtype='stepfilled', bins=25, alpha=0.85,\n",
    "         label=\"posterior of $p_A$\", color=\"#A60628\", normed=True)\n",
    "plt.vlines(true_p_A, 0, 80, linestyle=\"--\", label=\"true $p_A$ (unknown)\")\n",
    "plt.legend(loc=\"upper right\")\n",
    "plt.title(\"Posterior distributions of $p_A$, $p_B$, and delta unknowns\")\n",
    "\n",
    "ax = plt.subplot(312)\n",
    "\n",
    "plt.xlim(0, .1)\n",
    "plt.hist(p_B_samples, histtype='stepfilled', bins=25, alpha=0.85,\n",
    "         label=\"posterior of $p_B$\", color=\"#467821\", normed=True)\n",
    "plt.vlines(true_p_B, 0, 80, linestyle=\"--\", label=\"true $p_B$ (unknown)\")\n",
    "plt.legend(loc=\"upper right\")\n",
    "\n",
    "ax = plt.subplot(313)\n",
    "plt.hist(delta_samples, histtype='stepfilled', bins=30, alpha=0.85,\n",
    "         label=\"posterior of delta\", color=\"#7A68A6\", normed=True)\n",
    "plt.vlines(true_p_A - true_p_B, 0, 60, linestyle=\"--\",\n",
    "           label=\"true delta (unknown)\")\n",
    "plt.vlines(0, 0, 60, color=\"black\", alpha=0.2)\n",
    "plt.legend(loc=\"upper right\")"
   ]
  },
  {
   "cell_type": "code",
   "execution_count": null,
   "metadata": {},
   "outputs": [],
   "source": []
  },
  {
   "cell_type": "markdown",
   "metadata": {},
   "source": [
    "从第三张 $deta$ 图中可以发现，$deta>0$ 的阴影部分面积远远大于小于零的面积。（由于采样的随机性，也可能有很小很小的概率造成，面积相差不大，这时请重复运行上上上段，模型学习的代码）。因此，可以说明，网站 A 确实比网站 B 的转化率更好。这种推断也可以转换成具体的概率值,如下所示："
   ]
  },
  {
   "cell_type": "code",
   "execution_count": null,
   "metadata": {},
   "outputs": [],
   "source": [
    "print(\"A 网站的转化率比 B 差的概率: %.3f\" %\n",
    "      np.mean(delta_samples < 0))\n",
    "\n",
    "print(\"A 网站的转化率比 B 好的概率: %.3f\" %\n",
    "      np.mean(delta_samples > 0))"
   ]
  },
  {
   "cell_type": "markdown",
   "metadata": {},
   "source": [
    "如果这个概率值过高，我们也可以对网站 B 进行更多的试验。因为网站 B 的样本比较少，这将导致网站 B 的每个新的点击数据会比网站 A 的每个新的点击数据有更高的贡献度。"
   ]
  },
  {
   "cell_type": "markdown",
   "metadata": {},
   "source": [
    "我们也可以对 true_p_A、true_p_B、N_A 和 N_B 设置不同的值，观察 $delta$ 的后验分布情况，进而能够很好的量化网站 A 和网站 B 的优劣。"
   ]
  },
  {
   "cell_type": "markdown",
   "metadata": {},
   "source": [
    "### 实验总结"
   ]
  },
  {
   "cell_type": "markdown",
   "metadata": {},
   "source": [
    "本实验首先介绍了 A/B 测试的概念，然后利用网站的转换率来进行评估。首先我们为两个网站的转换率设定了均匀先验分布，然后利用伯努利分布模拟真实数据的产生，接下来，将模拟出来的数据和模型相结合，计算出来了每个网站的转换率的后验分布，即转换率的真实分布。最后定义了一种比较两个转换率分布的方法，来判断哪个网站更加吸引用户。"
   ]
  },
  {
   "cell_type": "markdown",
   "metadata": {},
   "source": [
    "<hr><div style=\"color: #999; font-size: 12px;\"><i class=\"fa fa-copyright\" aria-hidden=\"true\"> 本课程内容版权归实验楼所有，禁止转载、下载及非法传播。</i></div>"
   ]
  }
 ],
 "metadata": {
  "kernelspec": {
   "display_name": "Python 3",
   "language": "python",
   "name": "python3"
  },
  "language_info": {
   "codemirror_mode": {
    "name": "ipython",
    "version": 3
   },
   "file_extension": ".py",
   "mimetype": "text/x-python",
   "name": "python",
   "nbconvert_exporter": "python",
   "pygments_lexer": "ipython3",
   "version": "3.7.0"
  }
 },
 "nbformat": 4,
 "nbformat_minor": 2
}
