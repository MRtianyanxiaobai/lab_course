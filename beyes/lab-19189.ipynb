{
 "cells": [
  {
   "cell_type": "markdown",
   "metadata": {},
   "source": [
    "## Kaggle：观察暗世界大赛"
   ]
  },
  {
   "cell_type": "markdown",
   "metadata": {},
   "source": [
    "---"
   ]
  },
  {
   "cell_type": "markdown",
   "metadata": {},
   "source": [
    "#### 介绍"
   ]
  },
  {
   "cell_type": "markdown",
   "metadata": {},
   "source": [
    "观察暗世界大赛是 Kaggle 官网上发布的一个 [预测大赛](http://www.kaggle.com/c/DarkWorlds) 。而本次大赛的冠军所使用的解决方法正是贝叶斯推断。因此，本次实验将对冠军的解决方法、核心思路进行讲解和实现。"
   ]
  },
  {
   "cell_type": "markdown",
   "metadata": {},
   "source": [
    "#### 知识点"
   ]
  },
  {
   "cell_type": "markdown",
   "metadata": {},
   "source": [
    "- 暗物质的观测\n",
    "- 先验的确定\n",
    "- 欧氏距离\n",
    "- 数据分析\n",
    "- 数据可视化\n"
   ]
  },
  {
   "cell_type": "markdown",
   "metadata": {},
   "source": [
    "---"
   ]
  },
  {
   "cell_type": "markdown",
   "metadata": {},
   "source": [
    "在进行实验前，我们还是需要加载 PyMC 库，这里请直接运行下面几段代码（具体解释，已在第二个实验中给出）："
   ]
  },
  {
   "cell_type": "code",
   "execution_count": null,
   "metadata": {},
   "outputs": [],
   "source": [
    "!pip install pymc3==3.8"
   ]
  },
  {
   "cell_type": "code",
   "execution_count": null,
   "metadata": {},
   "outputs": [],
   "source": [
    "#卸载当前环境的 numpy，防止与新版本冲突\n",
    "!pip  uninstall -y numpy\n",
    "#更新 numpy\n",
    "!pip install -U numpy "
   ]
  },
  {
   "cell_type": "code",
   "execution_count": null,
   "metadata": {},
   "outputs": [],
   "source": [
    "#重启内核\n",
    "import os\n",
    "os._exit(00)"
   ]
  },
  {
   "cell_type": "code",
   "execution_count": null,
   "metadata": {},
   "outputs": [],
   "source": [
    "# 测试是否安装成功\n",
    "import pymc3 as pm\n",
    "# 输出版本号\n",
    "print(pm.__version__)"
   ]
  },
  {
   "cell_type": "markdown",
   "metadata": {},
   "source": [
    "### 观察暗世界大赛"
   ]
  },
  {
   "cell_type": "markdown",
   "metadata": {},
   "source": [
    "宇宙其实是很大的，而我们能够肉眼观测到的东西却是很少的。这是因为，在宇宙中存在很多既不发光也不吸收光的物质形式，这就是暗物质。"
   ]
  },
  {
   "cell_type": "markdown",
   "metadata": {},
   "source": [
    "虽然我们无法肉眼观测这种物质，但它不可忽视。如果大规模的暗物质聚集在一起的话，会形成暗物质光晕。虽然这种光晕是暗的，但是它能够扭曲时空。任何接近暗物质的光线的路径都会发生改变，进而发生弯曲，最终使星系变成了椭圆。如下图所示。"
   ]
  },
  {
   "cell_type": "markdown",
   "metadata": {},
   "source": [
    "<img src=\"https://doc.shiyanlou.com/courses/1520/1166617/6d9e1c2d2e38bde8e624eea5e55075f3-0\" width = 730>"
   ]
  },
  {
   "cell_type": "markdown",
   "metadata": {},
   "source": [
    "这个比赛要求参赛者预测这些暗物质光晕的可能位置。这个比赛持续了很久时间，最终由  [Tim Salimans](http://timsalimans.com/) 获得了比赛冠军。而他使用就是贝叶斯推断去寻找暗物质光源的可能位置。在获得许可下，我们在这里对他的方案进行阐述和讲解，他的解题思路如下："
   ]
  },
  {
   "cell_type": "markdown",
   "metadata": {},
   "source": [
    "1. 构建一个光晕位置 p(x) 的先验分布，即在观察数据之前，我们需要给出光晕的预期位置。\n",
    "2. 给定暗物质光晕的位置，构造在该光晕位置下的星系椭圆率模型 $p(e|x)$。\n",
    "3. 使用贝叶斯法得到光晕的后验分布\n",
    "4. 最小化后验分布的期望损失：$\\hat{x} = \\arg \\min_{\\text{prediction} } E_{p(x|e)}[ L( \\text{prediction}, x) ]$。"
   ]
  },
  {
   "cell_type": "markdown",
   "metadata": {},
   "source": [
    "由于 Tim 所提出的损失非常复杂，共有 160 多行，且包含了各种公式，并试图在欧式距离上无偏移地衡量预测进度。因此，我们会直接给出， 你无需仔细阅读，我也不建议你仔细阅读，除非你有非常非常良好的数学功底和动力。"
   ]
  },
  {
   "cell_type": "markdown",
   "metadata": {},
   "source": [
    "同样，我们还会给出一个画图的 py 文件，用于画出星系的图像。"
   ]
  },
  {
   "cell_type": "markdown",
   "metadata": {},
   "source": [
    "上面两个接口文件可以通过点击这里得到：[损失文件](https://labfile.oss.aliyuncs.com/courses/1520/DarkWorldsMetric.py)， [画图文件](https://labfile.oss.aliyuncs.com/courses/1520/draw_sky2.py)，下载到本地仔细阅读。"
   ]
  },
  {
   "cell_type": "markdown",
   "metadata": {},
   "source": [
    "接下来，让我们把这两个 py 文件下载下来："
   ]
  },
  {
   "cell_type": "code",
   "execution_count": null,
   "metadata": {},
   "outputs": [],
   "source": [
    "!wget -nc \"https://labfile.oss.aliyuncs.com/courses/1520/DarkWorldsMetric.py\"\n",
    "!wget -nc \"https://labfile.oss.aliyuncs.com/courses/1520/draw_sky2.py\""
   ]
  },
  {
   "cell_type": "code",
   "execution_count": null,
   "metadata": {},
   "outputs": [],
   "source": []
  },
  {
   "cell_type": "markdown",
   "metadata": {},
   "source": [
    "接下来，我们将利用这两个文件，对 Tim 的优胜方案进行复现。"
   ]
  },
  {
   "cell_type": "markdown",
   "metadata": {},
   "source": [
    " #### 数据初始化 "
   ]
  },
  {
   "cell_type": "markdown",
   "metadata": {},
   "source": [
    "让我们先来下载数据："
   ]
  },
  {
   "cell_type": "code",
   "execution_count": null,
   "metadata": {},
   "outputs": [],
   "source": [
    "!wget -nc \"https://labfile.oss.aliyuncs.com/courses/1520/lab10_data.zip\"\n",
    "!unzip -o lab10_data.zip"
   ]
  },
  {
   "cell_type": "code",
   "execution_count": null,
   "metadata": {},
   "outputs": [],
   "source": []
  },
  {
   "cell_type": "markdown",
   "metadata": {},
   "source": [
    "文件夹的结构如下:"
   ]
  },
  {
   "cell_type": "code",
   "execution_count": null,
   "metadata": {},
   "outputs": [],
   "source": [
    "!ls Train_Skies/Train_Skies/"
   ]
  },
  {
   "cell_type": "code",
   "execution_count": null,
   "metadata": {},
   "outputs": [],
   "source": []
  },
  {
   "cell_type": "markdown",
   "metadata": {},
   "source": [
    "该数据集实际上是 300 份单独的文件，每个文件分别代表一个星空。在一个文件（星空）中，有 300~700 个星系。每个星系都有一个与之关联的坐标（x，y），范围从 0 到 4200，和该星系的椭圆参数 $e_1$ 和 $e_2$。让我们随机选择一个星空对其进行可视化。"
   ]
  },
  {
   "cell_type": "code",
   "execution_count": null,
   "metadata": {},
   "outputs": [],
   "source": [
    "import matplotlib.pyplot as plt\n",
    "import numpy as np\n",
    "from IPython.core.pylabtools import figsize\n",
    "import scipy.stats as stats\n",
    "from draw_sky2 import draw_sky\n",
    "%matplotlib inline\n",
    "\n",
    "n_sky = 3  # 选择第三个星系\n",
    "# 读取csv文件\n",
    "data = np.genfromtxt(\"Train_Skies//Train_Skies/\\\n",
    "Training_Sky%d.csv\" % (n_sky),\n",
    "                     dtype=None,\n",
    "                     skip_header=1,\n",
    "                     delimiter=\",\",\n",
    "                     usecols=[1, 2, 3, 4])\n",
    "print(\"Data on galaxies in sky %d.\" % n_sky)\n",
    "print(\"position_x, position_y, e_1, e_2 \")\n",
    "print(data[:3])\n",
    "\n",
    "# 只需将data 传入我们之前下载的工具类中即可\n",
    "fig = draw_sky(data)\n",
    "plt.title(\"Galaxy positions and ellipcities of sky %d.\" % n_sky)\n",
    "plt.xlabel(\"x-position\")\n",
    "plt.ylabel(\"y-position\")"
   ]
  },
  {
   "cell_type": "code",
   "execution_count": null,
   "metadata": {},
   "outputs": [],
   "source": []
  },
  {
   "cell_type": "markdown",
   "metadata": {},
   "source": [
    "上图为一个星空（文件）的可视化，可以看到里面有很多的星系（椭圆），这些星系的椭圆形状是根据椭圆参数 $e_1,e_2$ 画出来的。"
   ]
  },
  {
   "cell_type": "markdown",
   "metadata": {},
   "source": [
    "除却这 300 个文件之外，还存在一个文件 `Training_halos.csv`。让我们来加载它："
   ]
  },
  {
   "cell_type": "code",
   "execution_count": null,
   "metadata": {},
   "outputs": [],
   "source": [
    "import pandas as pd\n",
    "skys_halos = pd.read_csv(\"Training_halos.csv\")\n",
    "print(\"大小：\", skys_halos.shape)\n",
    "skys_halos.head()"
   ]
  },
  {
   "cell_type": "code",
   "execution_count": null,
   "metadata": {},
   "outputs": [],
   "source": []
  },
  {
   "cell_type": "markdown",
   "metadata": {},
   "source": [
    "从上面的结果中可以看出，`Training_halos.csv` 文件存的是这 300 个星空的训练数据，里面分别有暗物质光晕的个数(numberHalos)，和这些光晕的位置分布 `(halo_x1\thalo_y1\thalo_x2\thalo_y2\thalo_x3\thalo_y3)`。例如 (1，1，0，0，0，0)  表示该星系只存在一个光晕，位置在（1,1）。即横纵坐标都为 0 表示没有光晕。"
   ]
  },
  {
   "cell_type": "markdown",
   "metadata": {},
   "source": [
    "#### 先验的确定"
   ]
  },
  {
   "cell_type": "markdown",
   "metadata": {},
   "source": [
    "从上面的文件中，我们也可以很明显的看到每个星空有 1~3 个暗物质光晕（因为只有三对暗物质晕的坐标）。"
   ]
  },
  {
   "cell_type": "markdown",
   "metadata": {},
   "source": [
    "因此 Tim 定义了光晕位置的先验是一个均匀分布，如下："
   ]
  },
  {
   "cell_type": "markdown",
   "metadata": {},
   "source": [
    "\\begin{align}\n",
    "& x_i \\sim \\text{Uniform}( 0, 4200)\\\\\\\\\n",
    "& y_i \\sim \\text{Uniform}( 0, 4200), \\;\\; i=1,2,3\\\\\\\\\n",
    "\\end{align}"
   ]
  },
  {
   "cell_type": "markdown",
   "metadata": {},
   "source": [
    "Tim 和其他参赛者注意到大多数星空含有一个大的光晕，如果还有其他光晕的话，那么这些的一般都很小。这可能是因为大光晕的质量非常大，更能够影响周围的星系。"
   ]
  },
  {
   "cell_type": "markdown",
   "metadata": {},
   "source": [
    "他认为，大光晕的质量服从一个 40~180 之间的对数的均匀分布。即："
   ]
  },
  {
   "cell_type": "markdown",
   "metadata": {},
   "source": [
    "$$  m_{\\text{large} } = \\log \\text{Uniform}( 40, 180 ) $$\n"
   ]
  },
  {
   "cell_type": "markdown",
   "metadata": {},
   "source": [
    "上列式子，在 PyMC3 中的表示如下： "
   ]
  },
  {
   "cell_type": "markdown",
   "metadata": {},
   "source": [
    "    exp_mass_large = pm.Uniform(\"exp_mass_large\", 40, 180)\n",
    "    mass_large = pm.Deterministic(\"mass_large\", np.log(exp_max_large))"
   ]
  },
  {
   "cell_type": "markdown",
   "metadata": {},
   "source": [
    "这就是，为什么我们叫它为对数的均匀分布的原因。而对于小的光晕，Tim 直接把它们的质量设定为 20 的对数。由于小的星系影响较小，且为了加快算法的收敛效率，所以 Tim 把它们定一个常数。"
   ]
  },
  {
   "cell_type": "markdown",
   "metadata": {},
   "source": [
    "然后，假设每个星系的椭圆率和光晕的位置，星系和光晕之间的距离以及光晕的质量有关。并且，我们从相关文献中找到了一个较为合理的关系："
   ]
  },
  {
   "cell_type": "markdown",
   "metadata": {},
   "source": [
    "$$ e_i | ( \\mathbf{x}, \\mathbf{y} ) \\sim \\text{Normal}( \\sum_{j = \\text{halo positions} }d_{i,j} m_j f( r_{i,j} ), \\sigma^2 ) $$"
   ]
  },
  {
   "cell_type": "markdown",
   "metadata": {},
   "source": [
    "- $e_i$ 表示第 i 个星系的椭圆率的矢量\n",
    "- （x，y）表示光晕位置\n",
    "- $d_{i,j}$ 表示正切方向（星系 i 的光线受光晕 j 的影响所弯曲的方向）\n",
    "- $m_j$ 是光晕 j 的质量\n",
    "\n"
   ]
  },
  {
   "cell_type": "markdown",
   "metadata": {},
   "source": [
    "$f(r_{i,j})$ 是光晕 $j$ 和星系 $i$ 的欧式距离的倒数。简单的来说，对于大的光晕，函数 $f$ 的定义如下："
   ]
  },
  {
   "cell_type": "markdown",
   "metadata": {},
   "source": [
    "$$ f( r_{i,j} ) = \\frac{1}{\\min( r_{i,j}, 240 ) } $$\n"
   ]
  },
  {
   "cell_type": "markdown",
   "metadata": {},
   "source": [
    "对于小的光晕，函数 $f$ 的定义如下："
   ]
  },
  {
   "cell_type": "markdown",
   "metadata": {},
   "source": [
    "$$ f( r_{i,j} ) = \\frac{1}{\\min( r_{i,j}, 70 ) } $$\n"
   ]
  },
  {
   "cell_type": "markdown",
   "metadata": {},
   "source": [
    "好的，接下来，让我们先来实现这些函数："
   ]
  },
  {
   "cell_type": "code",
   "execution_count": null,
   "metadata": {},
   "outputs": [],
   "source": [
    "def euclidean_distance(x, y):\n",
    "    # 计算 d\n",
    "    return np.sqrt(((x - y)**2)).sum(axis=1)\n",
    "\n",
    "\n",
    "def f_distance(gxy_pos, halo_pos, c):\n",
    "    # 计算 f\n",
    "    return T.maximum(euclidean_distance(gxy_pos, halo_pos), c)[:, None]\n",
    "\n",
    "\n",
    "def tangential_distance(glxy_position, halo_position):\n",
    "    # 考虑正切方向下的距离\n",
    "    delta = glxy_position - halo_position\n",
    "    t = (2*T.arctan(delta[:, 1]/delta[:, 0]))\n",
    "    return T.stack([-T.cos(t), -T.sin(t)], axis=1)"
   ]
  },
  {
   "cell_type": "code",
   "execution_count": null,
   "metadata": {},
   "outputs": [],
   "source": []
  },
  {
   "cell_type": "markdown",
   "metadata": {},
   "source": [
    "#### 模型的训练"
   ]
  },
  {
   "cell_type": "markdown",
   "metadata": {},
   "source": [
    "接下来，让我们根据上面的公式，定义模型(需要运行 3~5 min)："
   ]
  },
  {
   "cell_type": "code",
   "execution_count": null,
   "metadata": {},
   "outputs": [],
   "source": [
    "import theano.tensor as T\n",
    "with pm.Model() as model:\n",
    "    # 设置大的光晕的质量分布\n",
    "    mass_large = pm.Uniform(\"mass_large\", 40, 180)\n",
    "\n",
    "    # 设置光晕的位置\n",
    "    halo_position = pm.Uniform(\"halo_position\", 0, 4200, shape=(1, 2))\n",
    "    # 计算上述公式中的μ的值，也就是正态分布的第一个参数，\n",
    "    mean = pm.Deterministic(\"mean\", mass_large /\n",
    "                            f_distance(T.as_tensor(data[:, :2]), halo_position, 240) *\n",
    "                            tangential_distance(T.as_tensor(data[:, :2]), halo_position))\n",
    "\n",
    "    # 根据正态分布得到椭圆率矢量，并且与真实的椭圆率矢量进行固定。即把真实数据纳入模型中\n",
    "    ellpty = pm.Normal(\"ellipcity\", mu=mean, tau=1./0.05, observed=data[:, 2:])\n",
    "model"
   ]
  },
  {
   "cell_type": "code",
   "execution_count": null,
   "metadata": {},
   "outputs": [],
   "source": []
  },
  {
   "cell_type": "markdown",
   "metadata": {},
   "source": [
    "接下来，让我们对装载好的模型进行训练（由于模型复杂，模型加载需要一点时间，下面代码段大致运行 3~5 min，请耐心等待）："
   ]
  },
  {
   "cell_type": "markdown",
   "metadata": {},
   "source": [
    "注：下面代码可能会有两个进度条产生，请耐心等待："
   ]
  },
  {
   "cell_type": "code",
   "execution_count": null,
   "metadata": {},
   "outputs": [],
   "source": [
    "with model:\n",
    "    # 设置需要在意的变量\n",
    "    # 需要1使用自动微分变分来进行变量推理\n",
    "    trace = pm.sample(1000, init='advi', n_init=10000)\n",
    "print(\"训练完成\")"
   ]
  },
  {
   "cell_type": "code",
   "execution_count": null,
   "metadata": {},
   "outputs": [],
   "source": []
  },
  {
   "cell_type": "markdown",
   "metadata": {},
   "source": [
    "上面代码在输出“训练完成”字样后，才算完成，请耐心等待。"
   ]
  },
  {
   "cell_type": "markdown",
   "metadata": {},
   "source": [
    "为了方便观察与分析，接下来让我们画出光晕位置的后验分布（由于分布是一个个数据点集合，因此，我们可以直接将其画在图中）："
   ]
  },
  {
   "cell_type": "code",
   "execution_count": null,
   "metadata": {},
   "outputs": [],
   "source": [
    "# 所有的预测可能，一共2000个坐标样本\n",
    "t = trace[\"halo_position\"].reshape(2000, 2)\n",
    "\n",
    "fig = draw_sky(data)\n",
    "plt.title(\"Galaxy positions and ellipcities of sky %d.\" % n_sky)\n",
    "plt.xlabel(\"x-position\")\n",
    "plt.ylabel(\"y-position\")\n",
    "plt.scatter(t[:, 0], t[:, 1], alpha=0.015, c=\"r\")\n",
    "plt.xlim(0, 4200)\n",
    "plt.ylim(0, 4200)"
   ]
  },
  {
   "cell_type": "code",
   "execution_count": null,
   "metadata": {},
   "outputs": [],
   "source": []
  },
  {
   "cell_type": "markdown",
   "metadata": {},
   "source": [
    "如上图，红色区域是由很多很多的数据点所组成的，这些数据点就是我们对该星系光晕位置的预测。接下来，让我们加载并从 `Training_halos.csv` 中获得真实光晕的位置："
   ]
  },
  {
   "cell_type": "code",
   "execution_count": null,
   "metadata": {
    "scrolled": true
   },
   "outputs": [],
   "source": [
    "halo_data = np.genfromtxt(\"Training_halos.csv\",\n",
    "                          delimiter=\",\",\n",
    "                          usecols=[1, 2, 3, 4, 5, 6, 7, 8, 9],\n",
    "                          skip_header=1)\n",
    "print(halo_data[n_sky-1])"
   ]
  },
  {
   "cell_type": "code",
   "execution_count": null,
   "metadata": {},
   "outputs": [],
   "source": []
  },
  {
   "cell_type": "markdown",
   "metadata": {},
   "source": [
    "其中第三列和第四列的光晕代表的就是 x，y 坐标。接下来，让我们把这个真实坐标也画到星空中："
   ]
  },
  {
   "cell_type": "code",
   "execution_count": null,
   "metadata": {},
   "outputs": [],
   "source": [
    "fig = draw_sky(data)\n",
    "plt.title(\"Galaxy positions and ellipcities of sky %d.\" % n_sky)\n",
    "plt.xlabel(\"x-position\")\n",
    "plt.ylabel(\"y-position\")\n",
    "plt.scatter(t[:, 0], t[:, 1], alpha=0.015, c=\"r\")\n",
    "plt.scatter(halo_data[n_sky-1][3], halo_data[n_sky-1][4],\n",
    "            label=\"True halo position\",\n",
    "            c=\"k\", s=70)\n",
    "plt.legend(scatterpoints=1, loc=\"lower left\")\n",
    "plt.xlim(0, 4200)\n",
    "plt.ylim(0, 4200)\n",
    "\n",
    "print(\"真实的光晕位置:\", halo_data[n_sky][3], halo_data[n_sky][4])"
   ]
  },
  {
   "cell_type": "code",
   "execution_count": null,
   "metadata": {},
   "outputs": [],
   "source": []
  },
  {
   "cell_type": "markdown",
   "metadata": {},
   "source": [
    "从上图可以很清楚的看到，暗物质光晕的真实位置（黑色圆点）和预测的位置大致相似。"
   ]
  },
  {
   "cell_type": "markdown",
   "metadata": {},
   "source": [
    "接下来让我们取分布中，所有值的平均值，作为最后的暗物质光晕的预测位置。"
   ]
  },
  {
   "cell_type": "code",
   "execution_count": null,
   "metadata": {},
   "outputs": [],
   "source": [
    "mean_posterior = t.mean(axis=0).reshape(1, 2)\n",
    "print(\"最终预测位置为：\", mean_posterior)"
   ]
  },
  {
   "cell_type": "code",
   "execution_count": null,
   "metadata": {},
   "outputs": [],
   "source": []
  },
  {
   "cell_type": "markdown",
   "metadata": {},
   "source": [
    "最后，我们把我们的最终预测位置（用平均值预测出来的最终位置）和真实位置放入损失函数，计算出损失："
   ]
  },
  {
   "cell_type": "code",
   "execution_count": null,
   "metadata": {},
   "outputs": [],
   "source": [
    "# 导入损失函数\n",
    "from DarkWorldsMetric import main_score\n",
    "\n",
    "_halo_data = halo_data[n_sky-1]\n",
    "# 真实坐标\n",
    "nhalo_all = _halo_data[0].reshape(1, 1)\n",
    "x_true_all = _halo_data[3].reshape(1, 1)\n",
    "y_true_all = _halo_data[4].reshape(1, 1)\n",
    "x_ref_all = _halo_data[1].reshape(1, 1)\n",
    "y_ref_all = _halo_data[2].reshape(1, 1)\n",
    "\n",
    "# 预测坐标\n",
    "sky_prediction = mean_posterior\n",
    "\n",
    "print(\"使用平均值作为最终结果得到的损失:\")\n",
    "score1 = main_score(nhalo_all, x_true_all, y_true_all,\n",
    "                    x_ref_all, y_ref_all, sky_prediction)"
   ]
  },
  {
   "cell_type": "code",
   "execution_count": null,
   "metadata": {},
   "outputs": [],
   "source": []
  },
  {
   "cell_type": "markdown",
   "metadata": {},
   "source": [
    "好的，至此，我们完成了一个星系的暗物质光晕的预测，而其他小的光晕位置的预测雷同（只需修改几个参数即可）。由于计算机资源短缺和运行需要大量时间的问题，这里我们不对其他星云以及其他光晕进行预测。如果你有兴趣的话，可以将上面代码打包成相应函数，然后遍历所有星云，得到所有的光晕的位置，然后计算平均损失。"
   ]
  },
  {
   "cell_type": "markdown",
   "metadata": {},
   "source": [
    "### 实验总结"
   ]
  },
  {
   "cell_type": "markdown",
   "metadata": {},
   "source": [
    "首先，我们对每个光晕位置设置了一个均匀分布的先验，然后根据文献找到了椭圆率和光晕位置、距离、质量的关系。然后把真实数据的椭圆率与模型结合，最后通过贝叶斯推断计算出来所有参数的后验分布，即光晕的真实估计位置。并且将该位置和真实数据集中的位置进行比较，发现差距不大，很好的证明了模型的准确性。"
   ]
  },
  {
   "cell_type": "markdown",
   "metadata": {},
   "source": [
    "<hr><div style=\"color: #999; font-size: 12px;\"><i class=\"fa fa-copyright\" aria-hidden=\"true\"> 本课程内容版权归实验楼所有，禁止转载、下载及非法传播。</i></div>"
   ]
  }
 ],
 "metadata": {
  "kernelspec": {
   "display_name": "Python 3",
   "language": "python",
   "name": "python3"
  },
  "language_info": {
   "codemirror_mode": {
    "name": "ipython",
    "version": 3
   },
   "file_extension": ".py",
   "mimetype": "text/x-python",
   "name": "python",
   "nbconvert_exporter": "python",
   "pygments_lexer": "ipython3",
   "version": "3.7.0"
  }
 },
 "nbformat": 4,
 "nbformat_minor": 2
}
