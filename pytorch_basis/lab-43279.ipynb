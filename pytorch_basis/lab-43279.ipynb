{
 "cells": [
  {
   "cell_type": "markdown",
   "metadata": {},
   "source": [
    "## 数据的预处理"
   ]
  },
  {
   "cell_type": "markdown",
   "metadata": {},
   "source": [
    "---"
   ]
  },
  {
   "cell_type": "markdown",
   "metadata": {},
   "source": [
    "#### 介绍"
   ]
  },
  {
   "cell_type": "markdown",
   "metadata": {},
   "source": [
    "`torchvision.transforms` 是一个包含了常用的图像变化方法的工具包，该工具包主要用于图像预处理、数据增强等工作之中。本实验，将详细介绍 `torchvision.transforms` 中常用的数据处理函数。"
   ]
  },
  {
   "cell_type": "markdown",
   "metadata": {},
   "source": [
    "#### 知识点"
   ]
  },
  {
   "cell_type": "markdown",
   "metadata": {},
   "source": [
    " - 预处理的批操作\n",
    " - 葡萄酒数据的预处理\n",
    " - 图像数据的预处理"
   ]
  },
  {
   "cell_type": "markdown",
   "metadata": {},
   "source": [
    "---"
   ]
  },
  {
   "cell_type": "markdown",
   "metadata": {},
   "source": [
    "### 数据的预处理"
   ]
  },
  {
   "cell_type": "markdown",
   "metadata": {},
   "source": [
    " #### Compose"
   ]
  },
  {
   "cell_type": "markdown",
   "metadata": {},
   "source": [
    "首先让我们先来学习 `torchvision.transforms.Compose()`，它的参数是一个由多个 transforms 包中的方法组成的列表。简单的说，该函数的主要目的就是将所有的预处理操作进行打包，当有数据来时，我们只需要将数据传入该函数中，就能一次性对数据进行所有的预处理操作。如下："
   ]
  },
  {
   "cell_type": "code",
   "execution_count": null,
   "metadata": {},
   "outputs": [],
   "source": [
    "import torch\n",
    "import torchvision\n",
    "class ToTensor:\n",
    "    # 定义一个将原数据转为 Torch 的操作\n",
    "    def __call__(self, X):\n",
    "        return torch.from_numpy(X)\n",
    "# 定义一个将所有数据翻倍的预处理操作\n",
    "class MulTransform:\n",
    "    def __call__(self, X):\n",
    "        X *= 2\n",
    "        return X\n",
    "# 定义预处理集合器\n",
    "composed = torchvision.transforms.Compose([ToTensor(), MulTransform()])\n",
    "composed"
   ]
  },
  {
   "cell_type": "code",
   "execution_count": null,
   "metadata": {},
   "outputs": [],
   "source": []
  },
  {
   "cell_type": "markdown",
   "metadata": {},
   "source": [
    "上面我们定义了一个预处理的集合器，我们只需要将数据传入 `composed` 中，PyTorch 就会自动对数据进行 `ToTensor()` 和 `MulTransform()` 操作。如下："
   ]
  },
  {
   "cell_type": "code",
   "execution_count": null,
   "metadata": {},
   "outputs": [],
   "source": [
    "import numpy as np\n",
    "data = np.array([1,2,3])\n",
    "composed(data)"
   ]
  },
  {
   "cell_type": "code",
   "execution_count": null,
   "metadata": {},
   "outputs": [],
   "source": []
  },
  {
   "cell_type": "markdown",
   "metadata": {},
   "source": [
    "从结果可以看出，尽管我们的数据需要进行很多次预处理，但是我们只需要将这些预处理全部放入 `Compose` 中进行打包，就能形成一个数据预处理集合。"
   ]
  },
  {
   "cell_type": "markdown",
   "metadata": {},
   "source": [
    "当我们需要处理某些数据时，只需要简单的将数据传入这个集合即可。"
   ]
  },
  {
   "cell_type": "markdown",
   "metadata": {},
   "source": [
    "接下来，我们以葡萄酒的数据预处理为例，修改上一个试验中的 `WineDataset` 类，使其能够输出归一化后的 Tensor 数据集。"
   ]
  },
  {
   "cell_type": "markdown",
   "metadata": {},
   "source": [
    "\n",
    "#### 葡萄酒数据的预处理"
   ]
  },
  {
   "cell_type": "markdown",
   "metadata": {},
   "source": [
    "首先，还是让我们先来定义数据集合："
   ]
  },
  {
   "cell_type": "code",
   "execution_count": null,
   "metadata": {},
   "outputs": [],
   "source": [
    "from torch.utils.data import Dataset\n",
    "import pandas as pd\n",
    "\n",
    "# 建立一个数据集合继承  Dataset 即可\n",
    "class WineDataset(Dataset):\n",
    "\n",
    "    def __init__(self,transform):\n",
    "        # I初始化数据\n",
    "        #以pandas的形式读入数据\n",
    "        xy = pd.read_csv(\"https://labfile.oss.aliyuncs.com/courses/2316/wine.csv\",header=None)\n",
    "        self.n_samples = xy.shape[0]\n",
    "\n",
    "        # 这里我们就不做Tensor的转换了，将其全部放入 transform 中\n",
    "        self.x_data = xy.values[:, 1:]\n",
    "        self.y_data =xy.values[:, 1:]\n",
    "        #数据预处理集合\n",
    "        self.transform = transform\n",
    "\n",
    "    # 返回 dataset[index]\n",
    "    def __getitem__(self, index):\n",
    "        sample = self.x_data[index], self.y_data[index]\n",
    "\n",
    "        if self.transform:\n",
    "            sample = self.transform(sample)\n",
    "\n",
    "        return sample\n",
    "    #返回数据长度\n",
    "    def __len__(self):\n",
    "        return self.n_samples"
   ]
  },
  {
   "cell_type": "code",
   "execution_count": null,
   "metadata": {},
   "outputs": [],
   "source": []
  },
  {
   "cell_type": "markdown",
   "metadata": {},
   "source": [
    "可以看出 `WineDataset` 类中的代码和上一个试验大致相同，我们只是多加了一个 transform 变量，即数据预处理操作的集合。该变量并没有在 `WineDataset` 类 中被定义，只是作为一个参数被传入。"
   ]
  },
  {
   "cell_type": "markdown",
   "metadata": {},
   "source": [
    "这样做有一个好处就是，当我们需要在原来的基础上添加新的预处理操作时，我们只需要在模型外重新定义 transform 变量即可，无需修改原来类中的代码。"
   ]
  },
  {
   "cell_type": "markdown",
   "metadata": {},
   "source": [
    "接下来，就让我们来定义预处理操作了。"
   ]
  },
  {
   "cell_type": "markdown",
   "metadata": {},
   "source": [
    "首先，让我们来定义数据的归一化操作，这里使用最大最小归一化："
   ]
  },
  {
   "cell_type": "code",
   "execution_count": null,
   "metadata": {},
   "outputs": [],
   "source": [
    "class Normalization:\n",
    "    def __call__(self, sample):\n",
    "        inputs, targets = sample\n",
    "        amin, amax = inputs.min(), inputs.max()  # 求最大最小值\n",
    "        inputs = (inputs-amin)/(amax-amin) # (矩阵元素-最小值)/(最大值-最小值)\n",
    "        return inputs, targets\n",
    "# 测试代码\n",
    "a = 10*np.random.random((5, 5)) \n",
    "# 测试数据 前4列表示特征，最后一列表示标签\n",
    "data = [a[:,0:4],a[:,4]]\n",
    "Normalization()(data)"
   ]
  },
  {
   "cell_type": "code",
   "execution_count": null,
   "metadata": {},
   "outputs": [],
   "source": []
  },
  {
   "cell_type": "markdown",
   "metadata": {},
   "source": [
    "接下来，让我们来定义数据的转化操作，即将原数据类型转为 Tensor ："
   ]
  },
  {
   "cell_type": "code",
   "execution_count": null,
   "metadata": {},
   "outputs": [],
   "source": [
    "class ToTensor:\n",
    "    def __call__(self, sample):\n",
    "        inputs, targets = sample\n",
    "        return torch.from_numpy(inputs), torch.from_numpy(targets)\n",
    "# 测试代码\n",
    "a = 10*np.random.random((5, 5)) \n",
    "# 测试数据 前4列表示特征，最后一列表示标签\n",
    "data = [a[:,0:4],a[:,4]]\n",
    "ToTensor()(data)  "
   ]
  },
  {
   "cell_type": "code",
   "execution_count": null,
   "metadata": {},
   "outputs": [],
   "source": []
  },
  {
   "cell_type": "markdown",
   "metadata": {},
   "source": [
    "最后，让我们使用这两个预处理操作，来处理葡萄酒数据。"
   ]
  },
  {
   "cell_type": "markdown",
   "metadata": {},
   "source": [
    "我们无需修改上面代码，只需将其封装到 `Compose` 中，再传入即可。"
   ]
  },
  {
   "cell_type": "code",
   "execution_count": null,
   "metadata": {},
   "outputs": [],
   "source": [
    "# 定义 composed\n",
    "composed = torchvision.transforms.Compose([Normalization(), ToTensor()])\n",
    "# 传入该参数，即可获得一系列预处理之后的数据\n",
    "dataset = WineDataset(transform=composed)\n",
    "first_data = dataset[0]\n",
    "features, labels = first_data\n",
    "# 输出类型观察数据是否发生改变\n",
    "print(type(features), type(labels))\n",
    "# 输出内容观察数据是否进行了归一\n",
    "print(features, labels)"
   ]
  },
  {
   "cell_type": "code",
   "execution_count": null,
   "metadata": {},
   "outputs": [],
   "source": []
  },
  {
   "cell_type": "markdown",
   "metadata": {},
   "source": [
    "如上，我们使用了自定义的预处理方法，完成了 PyTorch 类型的数据集的预处理。当然，除了自定义的预处理方法外，PyTorch 还为我们提供了很多封装好的预处理操作。"
   ]
  },
  {
   "cell_type": "markdown",
   "metadata": {},
   "source": [
    "#### 图像的预处理"
   ]
  },
  {
   "cell_type": "markdown",
   "metadata": {},
   "source": [
    "`torchvision.transforms` 中有很多关于图像预处理的函数。接下来，让我们对一些常用的图像处理函数进行阐述。如果你需要查看所有的函数，可以访问 [官方网址](https://pytorch.org/docs/stable/torchvision/transforms.html)。"
   ]
  },
  {
   "cell_type": "markdown",
   "metadata": {},
   "source": [
    "为了能够更好的阐述这些函数，让我们以一张图片为例。首先，让我们来加载这张图片："
   ]
  },
  {
   "cell_type": "code",
   "execution_count": null,
   "metadata": {},
   "outputs": [],
   "source": [
    "!wget https://labfile.oss.aliyuncs.com/courses/2534/cat.jpg"
   ]
  },
  {
   "cell_type": "code",
   "execution_count": null,
   "metadata": {},
   "outputs": [],
   "source": []
  },
  {
   "cell_type": "code",
   "execution_count": null,
   "metadata": {},
   "outputs": [],
   "source": [
    "import torchvision.transforms as transforms\n",
    "from PIL import Image\n",
    "import matplotlib.pyplot as plt\n",
    "from matplotlib.pyplot import imshow\n",
    "%matplotlib inline\n",
    "img = Image.open(\"cat.jpg\")\n",
    "imshow(img)"
   ]
  },
  {
   "cell_type": "code",
   "execution_count": null,
   "metadata": {},
   "outputs": [],
   "source": []
  },
  {
   "cell_type": "markdown",
   "metadata": {},
   "source": [
    "从中心开始，裁剪给定大小的 PIL 图像:`transforms.CenterCrop`。"
   ]
  },
  {
   "cell_type": "code",
   "execution_count": null,
   "metadata": {},
   "outputs": [],
   "source": [
    "# torchvision.transforms.CenterCrop（size）：从中心开始，裁剪给定大小的 PIL 图像\n",
    "transform =transforms.CenterCrop((64,200))\n",
    "new_img = transform(img)\n",
    "imshow(new_img)"
   ]
  },
  {
   "cell_type": "code",
   "execution_count": null,
   "metadata": {},
   "outputs": [],
   "source": []
  },
  {
   "cell_type": "markdown",
   "metadata": {},
   "source": [
    "改变图片的亮度、对比度和饱和度：`transforms.ColorJitter`。"
   ]
  },
  {
   "cell_type": "code",
   "execution_count": null,
   "metadata": {},
   "outputs": [],
   "source": [
    "# transforms.ColorJitter(brightness=0, contrast=0, saturation=0, hue=0)：\n",
    "# 改变图片的亮度、对比度和饱和度\n",
    "plt.subplot(221)\n",
    "imshow(img)\n",
    "# r随机改变亮度\n",
    "my_img1 = transforms.ColorJitter((0.5, 0.6))(img)\n",
    "plt.subplot(222)\n",
    "imshow(my_img1)\n",
    "# 随机改变对比度\n",
    "my_img2 = transforms.ColorJitter(0, (0.5, 0.6))(img)\n",
    "plt.subplot(223)\n",
    "imshow(my_img2)\n",
    "# 随机改变饱和度\n",
    "my_img3 = transforms.ColorJitter(0, 0, (0.5, 0.6))(img)\n",
    "plt.subplot(224)\n",
    "imshow(my_img3)\n",
    "plt.show()"
   ]
  },
  {
   "cell_type": "code",
   "execution_count": null,
   "metadata": {},
   "outputs": [],
   "source": []
  },
  {
   "cell_type": "markdown",
   "metadata": {},
   "source": [
    "将图像转为灰度图像：`torchvision.transforms.Grayscale（num_output_channels ）`。"
   ]
  },
  {
   "cell_type": "markdown",
   "metadata": {},
   "source": [
    "- 如果返回的图像是单通道 num_output_channels = 1。\n",
    "- 如果返回的图像是 3 通道，其中 num_output_channels = 3。"
   ]
  },
  {
   "cell_type": "code",
   "execution_count": null,
   "metadata": {},
   "outputs": [],
   "source": [
    "plt.subplot(1,3,1)\n",
    "imshow(img)\n",
    "my_img1 = transforms.Grayscale(1)(img)\n",
    "plt.subplot(132)\n",
    "imshow(my_img1)\n",
    "my_img2 = transforms.Grayscale(3)(img)\n",
    "plt.subplot(133)\n",
    "imshow(my_img2)"
   ]
  },
  {
   "cell_type": "code",
   "execution_count": null,
   "metadata": {},
   "outputs": [],
   "source": []
  },
  {
   "cell_type": "markdown",
   "metadata": {},
   "source": [
    "使用给定的 pad 值将给定的 PIL 图像四处填充：`ransforms.Pad（padding，fill，padding_mode ）`。"
   ]
  },
  {
   "cell_type": "code",
   "execution_count": null,
   "metadata": {},
   "outputs": [],
   "source": [
    "# transforms.Pad（padding，fill = 0，padding_mode ='constant' ）：\n",
    "# 使用给定的 pad 值将给定的 PIL 图像四处填充\n",
    "plt.subplot(121)\n",
    "imshow(img)\n",
    "# 四周加边界\n",
    "my_img = transforms.Pad(padding=20, fill=(0, 255, 255),\n",
    "                        padding_mode='constant')(img)\n",
    "plt.subplot(122).set_title(\"Pad\")\n",
    "imshow(my_img)"
   ]
  },
  {
   "cell_type": "code",
   "execution_count": null,
   "metadata": {},
   "outputs": [],
   "source": []
  },
  {
   "cell_type": "markdown",
   "metadata": {},
   "source": [
    "保持图像中心不变的中心仿射变换(可以理解为不同程度的旋转，再在空余位置补 0)：`transforms.RandomAffine\n",
    "(degrees, translate, scale, shear, resample, fillcolor)`。"
   ]
  },
  {
   "cell_type": "code",
   "execution_count": null,
   "metadata": {},
   "outputs": [],
   "source": [
    "#transforms.RandomAffine(degrees, translate=None, scale=None, \n",
    "#                       shear=None, resample=False, fillcolor=0)：\n",
    "#保持图像中心不变的中心仿射变换(可以理解为不同程度的旋转，再在空余位置补 0)\n",
    "my_img1 = transforms.RandomAffine(60)(img)\n",
    "plt.subplot(221).set_title(\"rotate_only\")\n",
    "imshow(my_img1)\n",
    "my_img2 = transforms.RandomAffine(60,translate=(0.3,0.3))(img)\n",
    "plt.subplot(222).set_title(\"rotate_translate\")\n",
    "imshow(my_img2)\n",
    "my_img3 = transforms.RandomAffine(60,scale=(2.0,2.1))(img)\n",
    "plt.subplot(223).set_title(\"rotate_scale\")\n",
    "imshow(my_img3)\n",
    "my_img4 = transforms.RandomAffine(0,shear=60)(img)\n",
    "plt.subplot(224).set_title(\"shear_only\")\n",
    "imshow(my_img4)\n",
    "plt.tight_layout()"
   ]
  },
  {
   "cell_type": "code",
   "execution_count": null,
   "metadata": {},
   "outputs": [],
   "source": []
  },
  {
   "cell_type": "markdown",
   "metadata": {},
   "source": [
    "将原图像进行随机裁剪、裁剪后重新放缩到 size 大小：`torchvision.transforms.RandomResizedCrop(size, scale,ratio,interpolation)`。"
   ]
  },
  {
   "cell_type": "code",
   "execution_count": null,
   "metadata": {
    "scrolled": true
   },
   "outputs": [],
   "source": [
    "#torchvision.transforms.RandomResizedCrop(size, scale,ratio,interpolation)\n",
    "new_img = transforms.RandomResizedCrop((128,126),scale=(0.08,1.0),\n",
    "                                       ratio=(0.75,1.333333333),interpolation=2)(img)\n",
    "imshow(new_img)"
   ]
  },
  {
   "cell_type": "code",
   "execution_count": null,
   "metadata": {},
   "outputs": [],
   "source": []
  },
  {
   "cell_type": "markdown",
   "metadata": {},
   "source": [
    "当然除了上面这些相关图像的处理外，`torchvision.transforms` 中还有很多图像处理的函数，你可以按照上面代码的思路对其他函数进行检验。官方 API [请点击这里](https://pytorch.org/docs/stable/torchvision/transforms.html)。"
   ]
  },
  {
   "cell_type": "markdown",
   "metadata": {},
   "source": [
    "### 实验总结"
   ]
  },
  {
   "cell_type": "markdown",
   "metadata": {},
   "source": [
    "本实验详细的阐述了 `torchvision.transforms` 的使用方法和 `torchvision.transforms` 中内置的图像处理函数。这些预处理操作时非常重要的，一系列好的数据预处理操作，可以大大的加快模型的收敛速度，提高模型的准确率和鲁棒性。"
   ]
  },
  {
   "cell_type": "markdown",
   "metadata": {},
   "source": [
    "<hr><div style=\"color: #999; font-size: 12px;\"><i class=\"fa fa-copyright\" aria-hidden=\"true\"> 本课程内容版权归实验楼所有，禁止转载、下载及非法传播。</i></div>"
   ]
  }
 ],
 "metadata": {
  "kernelspec": {
   "display_name": "Python 3",
   "language": "python",
   "name": "python3"
  },
  "language_info": {
   "codemirror_mode": {
    "name": "ipython",
    "version": 3
   },
   "file_extension": ".py",
   "mimetype": "text/x-python",
   "name": "python",
   "nbconvert_exporter": "python",
   "pygments_lexer": "ipython3",
   "version": "3.7.0"
  }
 },
 "nbformat": 4,
 "nbformat_minor": 2
}
