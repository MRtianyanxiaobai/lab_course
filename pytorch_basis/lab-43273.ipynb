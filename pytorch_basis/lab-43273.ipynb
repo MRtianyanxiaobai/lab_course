{
 "cells": [
  {
   "cell_type": "markdown",
   "metadata": {},
   "source": [
    "## 反向传播算法"
   ]
  },
  {
   "cell_type": "markdown",
   "metadata": {},
   "source": [
    "---"
   ]
  },
  {
   "cell_type": "markdown",
   "metadata": {},
   "source": [
    "#### 介绍"
   ]
  },
  {
   "cell_type": "markdown",
   "metadata": {},
   "source": [
    "反向传播算法是训练神经网络的最常用且最有效的算法。本实验将阐述反向传播算法的基本原理，并用 PyTorch 框架快速的实现该算法。"
   ]
  },
  {
   "cell_type": "markdown",
   "metadata": {},
   "source": [
    "#### 知识点"
   ]
  },
  {
   "cell_type": "markdown",
   "metadata": {},
   "source": [
    "- 正向传播算法\n",
    "- 梯度下降算法\n",
    "- 反向传播算法"
   ]
  },
  {
   "cell_type": "markdown",
   "metadata": {},
   "source": [
    "---"
   ]
  },
  {
   "cell_type": "markdown",
   "metadata": {},
   "source": [
    "### 正向传播算法"
   ]
  },
  {
   "cell_type": "markdown",
   "metadata": {},
   "source": [
    "在讲解反向传播算法之前，让我们先来讲解一下正向传播。"
   ]
  },
  {
   "cell_type": "markdown",
   "metadata": {},
   "source": [
    "神经网络的本质其实就是一个非常复杂的且具有大量参数的复合函数，我们将数据作为函数（网络）的输入，将结果作为函数（网络）的输出。"
   ]
  },
  {
   "cell_type": "markdown",
   "metadata": {},
   "source": [
    "正向传播算法其实就是通过函数的输入以及具体的形式得到函数的输出的过程。"
   ]
  },
  {
   "cell_type": "markdown",
   "metadata": {},
   "source": [
    "我们可以使用一个简单的例子,如下："
   ]
  },
  {
   "cell_type": "markdown",
   "metadata": {},
   "source": [
    "<img width=\"600px\" src=\"https://doc.shiyanlou.com/courses/2534/1166617/c63891638de6622c9a533647e7fbe6cf-0/wm\n",
    "\">"
   ]
  },
  {
   "cell_type": "markdown",
   "metadata": {},
   "source": [
    "该函数的输入数据为 x，参数为 w ，输出为 loss。"
   ]
  },
  {
   "cell_type": "markdown",
   "metadata": {},
   "source": [
    "则该函数的正向传播过程如下："
   ]
  },
  {
   "cell_type": "markdown",
   "metadata": {},
   "source": [
    "$$\\hat{y} = x*w $$\n",
    "$$s = y-\\hat{y}$$\n",
    "$$loss = s^2$$"
   ]
  },
  {
   "cell_type": "markdown",
   "metadata": {},
   "source": [
    "上面的步骤就是正向传播的全部过程，我们可以定义正向传播的函数如下："
   ]
  },
  {
   "cell_type": "code",
   "execution_count": null,
   "metadata": {},
   "outputs": [],
   "source": [
    "import torch\n",
    "# 其中 x,y 为输入数据，w为该函数所需要的参数\n",
    "\n",
    "\n",
    "def forwrad(x, y, w):\n",
    "    y_predicted = w * x\n",
    "    loss = (y_predicted - y)**2\n",
    "    return loss\n",
    "\n",
    "\n",
    "# 测试代码\n",
    "x = torch.tensor(1.0)\n",
    "y = torch.tensor(2.0)\n",
    "w = torch.tensor(1.0, requires_grad=True)\n",
    "forwrad(x, y, w)  # (2-1)²=1"
   ]
  },
  {
   "cell_type": "code",
   "execution_count": null,
   "metadata": {},
   "outputs": [],
   "source": []
  },
  {
   "cell_type": "markdown",
   "metadata": {},
   "source": [
    "### 反向传播"
   ]
  },
  {
   "cell_type": "markdown",
   "metadata": {},
   "source": [
    "反向传播，顾名思义就是正向传播的反向计算。其实反向传播的目的就是计算输出值和参数之间的梯度关系。"
   ]
  },
  {
   "cell_type": "markdown",
   "metadata": {},
   "source": [
    "在正向传播中，我们的参数 w 被随机定义为了 1。可以看出，此时的 w 并不能很好地根据 x 值预测出 y 值。我们需要更佳的参数值。"
   ]
  },
  {
   "cell_type": "markdown",
   "metadata": {},
   "source": [
    "那么如何获得更佳的参数值呢？我们一般采用的方法就是梯度下降法。该方法在下一个实验中会详细的进行阐述。"
   ]
  },
  {
   "cell_type": "markdown",
   "metadata": {},
   "source": [
    "由于我们必须知道参数的偏导才能够使用梯度下降算法，因此，反向传播孕育而生。"
   ]
  },
  {
   "cell_type": "markdown",
   "metadata": {},
   "source": [
    "利用反向传播求取函数关于权重的偏导（即梯度），然后根据偏导使用梯度下降算法找到最佳的参数。这个过程其实就是深度学习中模型训练的过程。"
   ]
  },
  {
   "cell_type": "markdown",
   "metadata": {},
   "source": [
    "那么如何利用 `Pytorch` 实现反向传播呢？"
   ]
  },
  {
   "cell_type": "markdown",
   "metadata": {},
   "source": [
    "其实和上一个试验中求取梯度的方法一致，即利用 `loss.backward()` 进行后向传播，求取所要可偏导变量的偏导值："
   ]
  },
  {
   "cell_type": "code",
   "execution_count": null,
   "metadata": {},
   "outputs": [],
   "source": [
    "x = torch.tensor(1.0)\n",
    "y = torch.tensor(2.0)\n",
    "# 将需要求取的 w 设置为可偏导\n",
    "w = torch.tensor(1.0, requires_grad=True)\n",
    "loss = forwrad(x, y, w)  # 计算损失\n",
    "loss.backward()  # 反向传播，计算梯度\n",
    "print(\"此时，loss 关于 w 的偏导为:\", w.grad)\n",
    "w.grad.zero_()  # 得到偏导后，清空梯度"
   ]
  },
  {
   "cell_type": "code",
   "execution_count": null,
   "metadata": {},
   "outputs": [],
   "source": []
  },
  {
   "cell_type": "markdown",
   "metadata": {},
   "source": [
    "### 实验总结"
   ]
  },
  {
   "cell_type": "markdown",
   "metadata": {},
   "source": [
    "本实验内容较为简洁，主要是对上个实验中的 `loss.backward()` 函数进行详细的讲解。这个函数是所有神经网络模型训练过程中，都会使用到的函数。注意，在进行反向传播和梯度下降后，记得对梯度进行清空，防止梯度累加。"
   ]
  },
  {
   "cell_type": "markdown",
   "metadata": {},
   "source": [
    "<hr><div style=\"color: #999; font-size: 12px;\"><i class=\"fa fa-copyright\" aria-hidden=\"true\"> 本课程内容版权归实验楼所有，禁止转载、下载及非法传播。</i></div>"
   ]
  }
 ],
 "metadata": {
  "kernelspec": {
   "display_name": "Python 3",
   "language": "python",
   "name": "python3"
  },
  "language_info": {
   "codemirror_mode": {
    "name": "ipython",
    "version": 3
   },
   "file_extension": ".py",
   "mimetype": "text/x-python",
   "name": "python",
   "nbconvert_exporter": "python",
   "pygments_lexer": "ipython3",
   "version": "3.7.0"
  }
 },
 "nbformat": 4,
 "nbformat_minor": 2
}
