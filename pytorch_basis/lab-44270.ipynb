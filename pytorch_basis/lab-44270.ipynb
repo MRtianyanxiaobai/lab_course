{
 "cells": [
  {
   "cell_type": "markdown",
   "metadata": {},
   "source": [
    "## 线性回归的求解"
   ]
  },
  {
   "cell_type": "markdown",
   "metadata": {},
   "source": [
    "---"
   ]
  },
  {
   "cell_type": "markdown",
   "metadata": {},
   "source": [
    "#### 介绍"
   ]
  },
  {
   "cell_type": "markdown",
   "metadata": {},
   "source": [
    "本挑战需要你利用前面所学到的 PyTorch 知识，完成线性回归问题的求解。"
   ]
  },
  {
   "cell_type": "markdown",
   "metadata": {},
   "source": [
    "#### 知识点"
   ]
  },
  {
   "cell_type": "markdown",
   "metadata": {},
   "source": [
    "- 损失的定义\n",
    "- 优化器的定义\n",
    "- 模型的训练"
   ]
  },
  {
   "cell_type": "markdown",
   "metadata": {},
   "source": [
    "---"
   ]
  },
  {
   "cell_type": "markdown",
   "metadata": {},
   "source": [
    "### 线性回归的求解"
   ]
  },
  {
   "cell_type": "markdown",
   "metadata": {},
   "source": [
    "首先，让我们来模拟一下，线性回归所需的数据集合："
   ]
  },
  {
   "cell_type": "code",
   "execution_count": null,
   "metadata": {},
   "outputs": [],
   "source": [
    "import numpy as np\n",
    "from sklearn import datasets\n",
    "import matplotlib.pyplot as plt\n",
    "%matplotlib inline\n",
    "X_numpy,y_numpy = datasets.make_regression(n_samples=100, n_features=1, noise=20, random_state=4)\n",
    "plt.plot(X_numpy, y_numpy, 'ro')"
   ]
  },
  {
   "cell_type": "code",
   "execution_count": null,
   "metadata": {},
   "outputs": [],
   "source": []
  },
  {
   "cell_type": "markdown",
   "metadata": {},
   "source": [
    "如上，我们初始化了一个数据集合。从图中可以看出，该数据集合大致上呈线性分布。"
   ]
  },
  {
   "cell_type": "markdown",
   "metadata": {},
   "source": [
    "本挑战的目的就寻找一个良好的函数表达式（又叫做模型），该函数表达式能够很好的描述上面数据点的分布，即对上面数据点进行拟合。"
   ]
  },
  {
   "cell_type": "markdown",
   "metadata": {},
   "source": [
    "在使用 PyTorch 求解模型之前，我们需要将上面的数据集转为 PyTorch 认识的张量。"
   ]
  },
  {
   "cell_type": "markdown",
   "metadata": {},
   "source": [
    "<div class=\"alert alert-info\">\n",
    "    <p><i class=\"fa fa-check-square\" aria-hidden=\"true\"> 挑战 1 </i>：将 X_numpy，y_numpy 转为张量 。</p>\n",
    "    <p><i class=\"fa fa-plus-square\" aria-hidden=\"true\"> 要求</i> 转换后的张量用 X,y 表示。</p>\n",
    "    <p><i class=\"fa fa-plus-square\" aria-hidden=\"true\"> 提示</i> 需要利用 tensor.view() 将 y 的维度转 为 2 维。</p>\n",
    "</div>"
   ]
  },
  {
   "cell_type": "code",
   "execution_count": null,
   "metadata": {},
   "outputs": [],
   "source": [
    "import torch\n",
    "import torch.nn as nn\n",
    "# 编写代码处\n",
    "\n",
    "\n",
    "# 测试代码\n",
    "X.size(), y.size()"
   ]
  },
  {
   "cell_type": "markdown",
   "metadata": {},
   "source": [
    "<div class=\"alert alert-warning\">\n",
    "<h4>重要说明</h4>\n",
    "<p>本课程中，Notebook 挑战系统无法自动评判，你需要自行补充上方单元格中缺失的代码并运行，如果输出结果和下方的期望输出结果一致，即代表此挑战顺利通过。完成全部内容后，点击「提交检测」即可通过，此说明后续不再出现。</p>\n",
    "</div>"
   ]
  },
  {
   "cell_type": "markdown",
   "metadata": {},
   "source": [
    "<i class=\"fa fa-sign-out\" aria-hidden=\"true\"> 期望输出</i>"
   ]
  },
  {
   "cell_type": "markdown",
   "metadata": {},
   "source": [
    "$(torch.Size([100, 1]), torch.Size([100, 1]))\n",
    "$"
   ]
  },
  {
   "cell_type": "markdown",
   "metadata": {},
   "source": [
    "根据上面图像中数据点的分布情况，我们可以看出，该问题的解决模型应该是一个线性函数模型。接下来让我们使用 PyTorch 来初始化这个线性模型。"
   ]
  },
  {
   "cell_type": "markdown",
   "metadata": {},
   "source": [
    "<div class=\"alert alert-info\">\n",
    "    <p><i class=\"fa fa-check-square\" aria-hidden=\"true\"> 挑战 2 </i>：线性函数模型的定义 。</p>\n",
    "    <p><i class=\"fa fa-plus-square\" aria-hidden=\"true\"> 要求</i> ：用 model 变量表示线性函数模型。</p>\n",
    "</div>"
   ]
  },
  {
   "cell_type": "code",
   "execution_count": null,
   "metadata": {},
   "outputs": [],
   "source": [
    "# 代码编写处\n",
    " \n",
    "    \n",
    "# 测试代码\n",
    "model"
   ]
  },
  {
   "cell_type": "markdown",
   "metadata": {},
   "source": [
    "<i class=\"fa fa-sign-out\" aria-hidden=\"true\"> 期望输出</i>"
   ]
  },
  {
   "cell_type": "markdown",
   "metadata": {},
   "source": [
    "$Linear(in_features=1, out_features=1, bias=True)\n",
    "$"
   ]
  },
  {
   "cell_type": "markdown",
   "metadata": {},
   "source": [
    "定义完模型后，接下来，让我们来定义学习率、损失函数和优化器。"
   ]
  },
  {
   "cell_type": "markdown",
   "metadata": {},
   "source": [
    "<div class=\"alert alert-info\">\n",
    "    <p><i class=\"fa fa-check-square\" aria-hidden=\"true\"> 挑战 3 </i>：利用 PyTorch 定义学习率、损失函数和优化器 。</p>\n",
    "    <p><i class=\"fa fa-plus-square\" aria-hidden=\"true\"> 要求</i> ：损失采用交叉熵损失，学习率取 0.01 。</p>\n",
    "</div>"
   ]
  },
  {
   "cell_type": "code",
   "execution_count": null,
   "metadata": {},
   "outputs": [],
   "source": [
    "# 代码编写处\n",
    "\n",
    "\n",
    "#测试代码\n",
    "optimizer"
   ]
  },
  {
   "cell_type": "markdown",
   "metadata": {},
   "source": [
    "<i class=\"fa fa-sign-out\" aria-hidden=\"true\"> 期望输出</i>"
   ]
  },
  {
   "cell_type": "markdown",
   "metadata": {},
   "source": [
    "    SGD (\n",
    "    Parameter Group 0\n",
    "        dampening: 0\n",
    "        lr: 0.01\n",
    "        momentum: 0\n",
    "        nesterov: False\n",
    "        weight_decay: 0\n",
    "    )"
   ]
  },
  {
   "cell_type": "markdown",
   "metadata": {},
   "source": [
    "最后让我们进行模型的训练，即将数据传入模型中，然后利用梯度下降算法不断的迭代，找到最佳的模型。"
   ]
  },
  {
   "cell_type": "markdown",
   "metadata": {},
   "source": [
    "<div class=\"alert alert-info\">\n",
    "    <p><i class=\"fa fa-check-square\" aria-hidden=\"true\"> 挑战 4 </i>：利用 PyTorch 训练线性模型 。</p>\n",
    "    <p><i class=\"fa fa-plus-square\" aria-hidden=\"true\"> 提示</i> ：可以循环迭代 100 次左右 。</p>\n",
    "</div>"
   ]
  },
  {
   "cell_type": "code",
   "execution_count": null,
   "metadata": {},
   "outputs": [],
   "source": [
    "## 代码编写处\n",
    "\n",
    "\n",
    "\n",
    "## 测试代码：将通过模型预测出来的值展示到图像中\n",
    "# 预测结果并转为 Numpy 的形式\n",
    "predicted = model(X).detach().numpy()\n",
    "\n",
    "plt.plot(X_numpy, y_numpy, 'ro')\n",
    "plt.plot(X_numpy, predicted, 'b')\n",
    "plt.show()"
   ]
  },
  {
   "cell_type": "markdown",
   "metadata": {},
   "source": [
    "![image](https://doc.shiyanlou.com/courses/2534/1166617/7f9d58eda026aa1cbae103efc9e227b4-0/wm)\n"
   ]
  },
  {
   "cell_type": "markdown",
   "metadata": {},
   "source": [
    "#### 参考答案"
   ]
  },
  {
   "cell_type": "markdown",
   "metadata": {},
   "source": [
    "本挑战的参考答案如下，点击下拉框即可获取。"
   ]
  },
  {
   "cell_type": "markdown",
   "metadata": {},
   "source": [
    "<details>\n",
    "        <summary>参考答案</summary>\n",
    "        <p>挑战 1 的参考答案</p>\n",
    "        <pre><code>X = torch.from_numpy(X_numpy.astype(np.float32))\n",
    "y = torch.from_numpy(y_numpy.astype(np.float32))\n",
    "y = y.view(y.shape[0], 1)</code></pre>\n",
    "       <p>挑战 2 的参考答案</p>\n",
    "        <pre><code>n_samples, n_features = X.shape\n",
    "input_size = n_features\n",
    "output_size = 1\n",
    "model = nn.Linear(input_size, output_size)\n",
    "</code></pre>\n",
    "           <p>挑战 3 的参考答案</p>\n",
    "        <pre><code>learning_rate = 0.01\n",
    "criterion = nn.MSELoss()\n",
    "optimizer = torch.optim.SGD(model.parameters(), lr=learning_rate) \n",
    "</code></pre>\n",
    "           <p>挑战 4 的参考答案</p>\n",
    "        <pre><code>num_epochs = 100\n",
    "for epoch in range(num_epochs):\n",
    "    # Forward pass and loss\n",
    "    y_predicted = model(X)\n",
    "    loss = criterion(y_predicted, y) \n",
    "    # Backward pass and update\n",
    "    loss.backward()\n",
    "    optimizer.step()\n",
    "    # zero grad before new step\n",
    "    optimizer.zero_grad()\n",
    "    if (epoch+1) % 10 == 0:\n",
    "        print(f'epoch: {epoch+1}, loss = {loss.item():.4f}')\n",
    "</code></pre>\n",
    "</details>"
   ]
  },
  {
   "cell_type": "markdown",
   "metadata": {},
   "source": [
    "### 实验总结"
   ]
  },
  {
   "cell_type": "markdown",
   "metadata": {},
   "source": [
    "通过对线性问题的求解，我想你已经了解了如何利用 PyTorch 训练模型的整个过程。当然，本次挑战只是利用梯度下降算法进行了简单的线性回归。在下一个实验中，我们会尝试使用该算法进行非线性问题的求解。"
   ]
  },
  {
   "cell_type": "markdown",
   "metadata": {},
   "source": [
    "<hr><div style=\"color: #999; font-size: 12px;\"><i class=\"fa fa-copyright\" aria-hidden=\"true\"> 本课程内容版权归实验楼所有，禁止转载、下载及非法传播。</i></div>"
   ]
  }
 ],
 "metadata": {
  "kernelspec": {
   "display_name": "Python 3",
   "language": "python",
   "name": "python3"
  },
  "language_info": {
   "codemirror_mode": {
    "name": "ipython",
    "version": 3
   },
   "file_extension": ".py",
   "mimetype": "text/x-python",
   "name": "python",
   "nbconvert_exporter": "python",
   "pygments_lexer": "ipython3",
   "version": "3.7.0"
  }
 },
 "nbformat": 4,
 "nbformat_minor": 2
}
