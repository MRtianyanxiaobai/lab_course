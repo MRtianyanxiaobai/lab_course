{
 "cells": [
  {
   "cell_type": "markdown",
   "metadata": {},
   "source": [
    "## 预测器与分类器"
   ]
  },
  {
   "cell_type": "markdown",
   "metadata": {},
   "source": [
    "---"
   ]
  },
  {
   "cell_type": "markdown",
   "metadata": {},
   "source": [
    "#### 介绍"
   ]
  },
  {
   "cell_type": "markdown",
   "metadata": {},
   "source": [
    "本实验将从人工智能的概念出发，分析了传统计算机所能够解决的问题，以及为什么一些问题。对于计算机而言很难，而对人类而言很容易。\n",
    "然后，以最简单的英里到千米的转换的例子入手，讲述预测器的概念与原理。并且之后，又引入了分类器，讲述了分类器的建立以及训练过程。"
   ]
  },
  {
   "cell_type": "markdown",
   "metadata": {},
   "source": [
    "#### 知识点"
   ]
  },
  {
   "cell_type": "markdown",
   "metadata": {},
   "source": [
    "- 人工智能的概念\n",
    "- 预测机\n",
    "- 分类机\n",
    "- 模型的训练"
   ]
  },
  {
   "cell_type": "markdown",
   "metadata": {},
   "source": [
    "---"
   ]
  },
  {
   "cell_type": "markdown",
   "metadata": {},
   "source": [
    "###  人工智能的概念"
   ]
  },
  {
   "cell_type": "markdown",
   "metadata": {},
   "source": [
    "#### 尺有所短"
   ]
  },
  {
   "cell_type": "markdown",
   "metadata": {},
   "source": [
    "计算机的核心部分就是计算器。这些计算器做算术非常快。 "
   ]
  },
  {
   "cell_type": "markdown",
   "metadata": {},
   "source": [
    "对于执行与计算器相匹配的任务而言，如对数字进行相加算出销售额、运用百分比算出税收、绘制现存数据的图表，这是很不错的。"
   ]
  },
  {
   "cell_type": "markdown",
   "metadata": {},
   "source": [
    "即使是在计算机上观看网络电视节目或听流媒体的音乐，也只涉及一次又一次地执行简单的算术指令。在互联网上通过管道将 1 和 0 输送到计算机，重建视频帧，所使用的算术也不会比你在中学所做的加法运算复杂。"
   ]
  },
  {
   "cell_type": "markdown",
   "metadata": {},
   "source": [
    "计算机可以以相当快的速度，在 1 秒钟内进行 4 位数甚至 10 位数的相加，但这并不是人工智能。因为这只要求计算机拥有遵循基本指令的能力。而这种能力计算机内部的电子器就可以完成。"
   ]
  },
  {
   "cell_type": "markdown",
   "metadata": {},
   "source": [
    "#### 寸有所长"
   ]
  },
  {
   "cell_type": "markdown",
   "metadata": {},
   "source": [
    "让我们观察下面的图片，看看你能认出图片中包含哪些内容。 "
   ]
  },
  {
   "cell_type": "markdown",
   "metadata": {},
   "source": [
    "<img width=\"500px\"  src=\"https://doc.shiyanlou.com/courses/uid1166617-20191205-1575528118036/wm\">"
   ]
  },
  {
   "cell_type": "markdown",
   "metadata": {},
   "source": [
    "你和我都看到了人脸、猫和树的图片，并识别出了这些内容。事实上，我们可以以非常高的精确度快速地做到这一点。在这方面，我们通常不会出错。但这种任务对计算机而言，并不是那么容易，实际上，是相当困难的。"
   ]
  },
  {
   "cell_type": "markdown",
   "metadata": {},
   "source": [
    "| 问题 | 计算机 |  人类  |\n",
    "|:------------------------------------:|------|:------:|\n",
    "| 快速地对成千上万的大数字进行乘法运算 | 简单 | 困难 |\n",
    "| 在一大群人的照片中查找面孔 | 困难 | 简单 |"
   ]
  },
  {
   "cell_type": "markdown",
   "metadata": {},
   "source": [
    "如上表所示，图像识别需要人类的智能，而这正是机器所缺乏的。因此研究人工智能的任务就是找到新方法或新算法，使用新的工作方式，尝试求解这类相对困难的问题。即使计算机不能完美地解决这些问题，但是我们只要求计算机足够出色，给人们留下一种印象，让人觉得这是智能在起作用。 "
   ]
  },
  {
   "cell_type": "markdown",
   "metadata": {},
   "source": [
    "### 预测器"
   ]
  },
  {
   "cell_type": "markdown",
   "metadata": {},
   "source": [
    "让我们先从构建超级简单的机器开始。"
   ]
  },
  {
   "cell_type": "markdown",
   "metadata": {},
   "source": [
    "想象一下，一台基本的机器，接受了一个问题，做了一些“思考”，并输出了一个答案。与我们在上面的例子中进行的操作一样，我们从眼睛处输入图片，使用大脑分析场景，并得出在场景中有哪些物体的结论。"
   ]
  },
  {
   "cell_type": "markdown",
   "metadata": {},
   "source": [
    "当然，这里的计算机不是真的思考，它们只是得到了包装的计算器，因此让我们使用更恰当的词语来形容这个过程。"
   ]
  },
  {
   "cell_type": "markdown",
   "metadata": {},
   "source": [
    "<img width=\"500px\" src=\"https://doc.shiyanlou.com/courses/uid1166617-20191205-1575529887567/wm\">"
   ]
  },
  {
   "cell_type": "markdown",
   "metadata": {},
   "source": [
    "一台计算机接受了一些输入，执行了一些计算，然后弹出输出。"
   ]
  },
  {
   "cell_type": "markdown",
   "metadata": {},
   "source": [
    "让我们来举个例子，试想一下将千米转化为英里的一台机器，如下所示。"
   ]
  },
  {
   "cell_type": "markdown",
   "metadata": {},
   "source": [
    "<img width=\"500px\"  src=\"https://doc.shiyanlou.com/courses/uid1166617-20191205-1575530946344/wm\">"
   ]
  },
  {
   "cell_type": "markdown",
   "metadata": {},
   "source": [
    "现在想象一下，我们不知道千米和英里之间的转换公式。我们所知道的就是，两者之间的关系是线性的。这意味着，如果英里数加倍，那么表示相同距离的千米数也是加倍的。"
   ]
  },
  {
   "cell_type": "markdown",
   "metadata": {},
   "source": [
    "千米和英里之间的这种线性关系，为我们提供了这种神秘计算的线索，即它的形式应该是 $英里 = 千米 \\times C$ ，其中 $C$ 为常数。现在，我们还不知道这个常数 $C$ 是多少。 "
   ]
  },
  {
   "cell_type": "markdown",
   "metadata": {},
   "source": [
    "我们拥有的另外一个线索是一些正确的千米 / 英里匹配的数值对示例。如下所示。"
   ]
  },
  {
   "cell_type": "markdown",
   "metadata": {},
   "source": [
    "| 真实示例 | 千米 |  英里  |\n",
    "|:--------:|:----:|:------:|\n",
    "|     1    |   0  |    0   |\n",
    "|     2    |  100 | 62.137 |"
   ]
  },
  {
   "cell_type": "markdown",
   "metadata": {},
   "source": [
    "我们应该做些什么，才能计算出缺失的常数 C 呢？让我们信手拈来一个随机的数值，并赋值给 C 。即使用 C = 0.5，看看会发生什么情况。"
   ]
  },
  {
   "cell_type": "markdown",
   "metadata": {},
   "source": [
    "<img width=\"500px\" src=\"https://doc.shiyanlou.com/courses/uid1166617-20191205-1575532558383/wm\">"
   ]
  },
  {
   "cell_type": "markdown",
   "metadata": {},
   "source": [
    "这里，我们令：$英里 = 千米 × C$，其中千米为 100 ，当前，我们猜测 C 为 0.5。"
   ]
  },
  {
   "cell_type": "markdown",
   "metadata": {},
   "source": [
    "这台机器得到 50 英里的答案。"
   ]
  },
  {
   "cell_type": "markdown",
   "metadata": {},
   "source": [
    "嗯，鉴于我们随机选择了 $C = 0.5$，这种表现还算不错。但是，编号为 2 的真实示例告诉我们，答案应该是 $62.137$，因此我们知道这是不准确的。"
   ]
  },
  {
   "cell_type": "markdown",
   "metadata": {},
   "source": [
    "我们少了 12.137 。这就是计算结果与我们列出的示例真实值之间的差值又叫做误差。即："
   ]
  },
  {
   "cell_type": "markdown",
   "metadata": {},
   "source": [
    "$$\n",
    "\\begin{eqnarray}\n",
    "误差值 &=& 真实值-计算值 \\\\\n",
    "&=& 62.137-5 \\\\\n",
    "&=& 12.137\n",
    "\\end{eqnarray}\n",
    "$$"
   ]
  },
  {
   "cell_type": "markdown",
   "metadata": {},
   "source": [
    "<img width=\"500px\" src=\"https://doc.shiyanlou.com/courses/uid1166617-20191205-1575534501034/wm\">"
   ]
  },
  {
   "cell_type": "markdown",
   "metadata": {},
   "source": [
    "下一步，我们将做些什么呢？我们知道错了，并且知道差了多少。我们无需对这种误差感到失望，我们可以使用这个误差，指导我们得到第二个、更好的 C 的猜测值。"
   ]
  },
  {
   "cell_type": "markdown",
   "metadata": {},
   "source": [
    "再看看这个误差值。我们少了 12.137 。由于千米转换为英里的公式是线性的，即 $英里 = 千米 × C$ ，因此我们知道，增加 C 就可以增加输出。"
   ]
  },
  {
   "cell_type": "markdown",
   "metadata": {},
   "source": [
    "让我们将 C 从 0.5 稍微增加到 0.6 ，观察会发生什么情况。 "
   ]
  },
  {
   "cell_type": "markdown",
   "metadata": {},
   "source": [
    "现在，由于将  C 设置为 0.6 ，我们得到了 $英里 = 千米 × C = 100 × 0.6 = 60 $，这个答案比先前 50 的答案更好。我们取得了明显的进步。"
   ]
  },
  {
   "cell_type": "markdown",
   "metadata": {},
   "source": [
    "现在，误差值变得更小了，为 2.137 。这个数值甚至可能是我们很乐于接受的一个误差值。"
   ]
  },
  {
   "cell_type": "markdown",
   "metadata": {},
   "source": [
    "<img width=\"500px\" src=\"https://doc.shiyanlou.com/courses/uid1166617-20191205-1575534785107/wm\">"
   ]
  },
  {
   "cell_type": "markdown",
   "metadata": {},
   "source": [
    "这里，很重要的一点是，我们使用误差值的大小指导如何改变 C 的值。我们希望输出值比 50 大一些，因此我们稍微增加了 C 的值。 "
   ]
  },
  {
   "cell_type": "markdown",
   "metadata": {},
   "source": [
    "我们不必尝试使用代数法计算出 C 需要改变的确切量，让我们继续使用这种方法改进 C 值。如果你还不能被我说服，还是认为计算出确切的答案才够简单，那么，请记住，更多有趣的问题是没有一个简单的数学公式将输出和输入关联起来的。这就是我们需要诸如神经网络这样相对成熟而复杂的方法的原因。"
   ]
  },
  {
   "cell_type": "markdown",
   "metadata": {},
   "source": [
    "让我们再次重复这个过程。输出值 60 还是太小了。我们再次微调 C，将其从 0.6 调到 0.7 。"
   ]
  },
  {
   "cell_type": "markdown",
   "metadata": {},
   "source": [
    "<img width=\"500px\" src=\"https://doc.shiyanlou.com/courses/uid1166617-20191205-1575535006115/wm\">"
   ]
  },
  {
   "cell_type": "markdown",
   "metadata": {},
   "source": [
    "糟糕！过犹不及，结果超过了已知的正确答案。先前的误差值为 2.137 ，现在的误差值为 -7.863 。这个负号告诉我们，我们不是不足，而是超调了。请记住上面的公式，误差值等于真实值减去计算值。"
   ]
  },
  {
   "cell_type": "markdown",
   "metadata": {},
   "source": [
    "如此说来，C = 0.6 比 C = 0.7 好得多。我们可以就此结束这个练习，欣然接受 C = 0.6 带来的小小误差。但是，让我继续向前走一小段距离。我们为什么不使用一个较小的量，微调 C，将 C 从 0.6 调到 0.61 呢？"
   ]
  },
  {
   "cell_type": "markdown",
   "metadata": {},
   "source": [
    "<img width=\"500px\" src=\"https://doc.shiyanlou.com/courses/uid1166617-20191206-1575598551091/wm\">"
   ]
  },
  {
   "cell_type": "markdown",
   "metadata": {},
   "source": [
    "这比先前得到的答案要好得多。我们得到输出值 61 ，比起正确答案 62.137 ，这只差了 1.137。 "
   ]
  },
  {
   "cell_type": "markdown",
   "metadata": {},
   "source": [
    "最后的这次尝试告诉我们，应该适度调整 C 值。如果输出值越来越接近正确答案，即误差值越来越小，那么我们就不要做那么大的调整。使用这种方式，我们就可以避免像先前那样得到超调的结果。"
   ]
  },
  {
   "cell_type": "markdown",
   "metadata": {},
   "source": [
    "同样，读者无需为如何使用确切的方式算出 C 值而分心，请继续关注这种持续细化误差值的想法，我们建议修正值取误差值的百分之几。直觉上，这是正确的：大误差意味着需要大的修正值小误差意味着我们只需要小小地微调 C 的值。"
   ]
  },
  {
   "cell_type": "markdown",
   "metadata": {},
   "source": [
    "无论你是否相信，我们刚刚所做的，其实就是走马观花地浏览了一遍神经网络中学习的核心过程。我们训练了机器，并使其输出值越来越接近正确的答案。"
   ]
  },
  {
   "cell_type": "markdown",
   "metadata": {},
   "source": [
    "这值得读者停下来思考一下。其实，我们并未像在学校里求解数学和科学问题时所做的一样一步到位，精确求解问题。相反，我们尝试得到一个答案，并多次改进答案，这是一种非常不同的方法。一些人将这种方法称为迭代，意思是持续地、一点一点地改进答案。"
   ]
  },
  {
   "cell_type": "markdown",
   "metadata": {},
   "source": [
    "### 分类器"
   ]
  },
  {
   "cell_type": "markdown",
   "metadata": {},
   "source": [
    "#### 分类器的概念"
   ]
  },
  {
   "cell_type": "markdown",
   "metadata": {},
   "source": [
    "因为上述的简单机器接受了一个输入，并做出了应有的预测，输出了结果，所以我们将其称为预测器。我们根据真实与预测的误差，调整内部参数，使预测更加的精确。"
   ]
  },
  {
   "cell_type": "markdown",
   "metadata": {},
   "source": [
    "现在，我们测量了花园中小虫子的宽度和长度，结果如下。"
   ]
  },
  {
   "cell_type": "markdown",
   "metadata": {},
   "source": [
    "<img width=\"300px\" src=\"https://doc.shiyanlou.com/courses/uid1166617-20191206-1575602161810/wm\">"
   ]
  },
  {
   "cell_type": "markdown",
   "metadata": {},
   "source": [
    "在上图中，你可以清楚地看到两种小虫的不同特性。毛虫细而长，瓢虫宽而短。"
   ]
  },
  {
   "cell_type": "markdown",
   "metadata": {},
   "source": [
    "你还记得给定千米数，然后利用预测器找到正确英里数的事例吗？这台预测器的核心有一个可调节的线性函数。当你绘制输入输出的关系图时，线性函数输出的是直线。可以通过调整参数 C 改变直线斜率。"
   ]
  },
  {
   "cell_type": "markdown",
   "metadata": {},
   "source": [
    "如果我们在这幅图上画上一条直线，会发生什么情况呢？"
   ]
  },
  {
   "cell_type": "markdown",
   "metadata": {},
   "source": [
    "我们可以尝试使用直线将不同性质的事物分开。"
   ]
  },
  {
   "cell_type": "markdown",
   "metadata": {},
   "source": [
    "<img width=\"300px\" src=\"https://doc.shiyanlou.com/courses/uid1166617-20191206-1575608767472/wm\">"
   ]
  },
  {
   "cell_type": "markdown",
   "metadata": {},
   "source": [
    "在上图中，如果直线可以将毛虫与瓢虫划分开来，那么这条直线就可以根据测量值对未知小虫进行分类。由上图可以看出，有一半的毛虫与瓢虫在该分界线的同一侧，因此上述的直线并没有很好的做出分类。"
   ]
  },
  {
   "cell_type": "markdown",
   "metadata": {},
   "source": [
    "让我们再次调整斜率，尝试不同的直线，看看会发生什么情况。"
   ]
  },
  {
   "cell_type": "markdown",
   "metadata": {},
   "source": [
    "<img width=\"300px\" src=\"https://doc.shiyanlou.com/courses/uid1166617-20191206-1575609050703/wm\">"
   ]
  },
  {
   "cell_type": "markdown",
   "metadata": {},
   "source": [
    "这条直线好多了！这条直线整齐地将瓢虫与毛虫区分开来了。现在，我们可以用这条直线作为小虫的分类器。"
   ]
  },
  {
   "cell_type": "markdown",
   "metadata": {},
   "source": [
    "当出现一只未知种类的小虫，我们就可以根据它的长宽把他画到图中。如果她在直线上面，则预测它为毛虫。反之，如果它在直线下面，则预测它为瓢虫。"
   ]
  },
  {
   "cell_type": "markdown",
   "metadata": {},
   "source": [
    "我们已经看到了，在简单的预测器中，如何使用线性函数对先前未知的数据进行分类。 "
   ]
  },
  {
   "cell_type": "markdown",
   "metadata": {},
   "source": [
    "但是，我们忽略了一个至关重要的因素。我们如何得到正确的斜率呢？我们如何改进才能很好划分这两种小虫的分界线呢？"
   ]
  },
  {
   "cell_type": "markdown",
   "metadata": {},
   "source": [
    "#### 分类器的训练"
   ]
  },
  {
   "cell_type": "markdown",
   "metadata": {},
   "source": [
    "我们希望训练线性分类器，使其能够正确的分类瓢虫或毛虫。我们已经知道了，要做到这一点就必须调整分界线的斜率，使其能够基于小虫的宽度和长度将两组点划分开来。"
   ]
  },
  {
   "cell_type": "markdown",
   "metadata": {},
   "source": [
    "我们无需研究那些最前沿的数学理论。让我们采用摸着石头过河的方式，更好地了解书序。"
   ]
  },
  {
   "cell_type": "markdown",
   "metadata": {},
   "source": [
    "| 实例 | 宽度 | 长度 | 小虫 |\n",
    "|:----:|:----:|:----:|------|\n",
    "|   1  |   3  |   1  | 瓢虫 |\n",
    "|   2  |   1  |   3  | 毛虫 |"
   ]
  },
  {
   "cell_type": "markdown",
   "metadata": {},
   "source": [
    "我们有一只长宽为 $(3,1)$ 的小虫，我们知道这是瓢虫。我们还有只长宽为 $(1,3)$ 的小虫，这是一条毛虫。"
   ]
  },
  {
   "cell_type": "markdown",
   "metadata": {},
   "source": [
    "我们知道这组实例是正确的。这些实例帮助我们调整分类函数的斜率。用来训练预测器或分类器的真实实例，我们称为训练数据。"
   ]
  },
  {
   "cell_type": "markdown",
   "metadata": {},
   "source": [
    "让我们绘制出这两个训练数据实例。通过观察数字列表或数字表格是不容易理解和感知数据的，而可视化数据有助于我们做到这一点。 "
   ]
  },
  {
   "cell_type": "markdown",
   "metadata": {},
   "source": [
    "<img width=\"300px\" src=\"https://doc.shiyanlou.com/courses/uid1166617-20191206-1575611667486/wm\">"
   ]
  },
  {
   "cell_type": "markdown",
   "metadata": {},
   "source": [
    "让我们使用一条随机的分界线开始我们的讨论。回顾一下，在千米转换为英里预测器的实例中，我们有一个调整了参数的线性函数。此处，由于分界线是一条直线，因此我们也可以进行相同的处理："
   ]
  },
  {
   "cell_type": "markdown",
   "metadata": {},
   "source": [
    "$$y = Ax$$"
   ]
  },
  {
   "cell_type": "markdown",
   "metadata": {},
   "source": [
    "严格来说，此处的直线不是一台预测器，因此我们有意使用名称 y 和 x，而不使用名称长度和宽度。与先前我们将千米转换为英里不一样，这条直线代表的不是长度装换为宽度的关系式，而是一条分界线，一台分类器。"
   ]
  },
  {
   "cell_type": "markdown",
   "metadata": {},
   "source": [
    "你可能会注意到，$y = Ax$ 比完整的直线形式 $y = Ax + B$ 更简单。这里只是为了让花园中小虫的场景尽可能简单。"
   ]
  },
  {
   "cell_type": "markdown",
   "metadata": {},
   "source": [
    "之前，我们看到参数 A 控制着直线的斜率。较大的 A 对应着较大的斜率。 "
   ]
  },
  {
   "cell_type": "markdown",
   "metadata": {},
   "source": [
    "让我们尝试从 $A = 0.25$ 开始，分界线为 $y = 0.25x$ 。在与训练数据的同一张图中，我们绘制这条直线，观察一下这是一种什么情况。 "
   ]
  },
  {
   "cell_type": "markdown",
   "metadata": {},
   "source": [
    "<img width=\"300px\" src=\"https://doc.shiyanlou.com/courses/uid1166617-20191206-1575613227863/wm\">"
   ]
  },
  {
   "cell_type": "markdown",
   "metadata": {},
   "source": [
    "无需任何计算，我们可以观察到直线 $y = 0.25x$ 不是一台很好的分类器。这条直线未将两种类型的小虫区分开来。因为两类小虫都在该条直线之上。"
   ]
  },
  {
   "cell_type": "markdown",
   "metadata": {},
   "source": [
    "其实我们可以很直观地观察到直线应该向上移动一点，但是我们要抵制诱惑，不能通过观察就画出一条合适的直线。我们希望能够找到一种可重复的方法，也就是用一系列的计算机指令来达到这个目标。计算机科学家称这一系列指令为算法（algorithm）。"
   ]
  },
  {
   "cell_type": "markdown",
   "metadata": {},
   "source": [
    "让我们观察第一个训练样本数据：宽度为 3.0 和长度为 1.0 瓢虫。如果我们使用这个实例测试函数 $y =Ax$ ，其中 $x$ 为 3.0 ，我们得到： "
   ]
  },
  {
   "cell_type": "markdown",
   "metadata": {},
   "source": [
    "$$y =0.25*3.0= 0.75$$"
   ]
  },
  {
   "cell_type": "markdown",
   "metadata": {},
   "source": [
    "在这个函数中，我们将参数 A 设置为初始随机选择的值 0.25 ，表明对于宽度为 3.0 的小虫，其长度应为 0.75 。但是，由于训练数据告诉我们这个长度必须为 1.0，因此我们知道这个数字太小了。"
   ]
  },
  {
   "cell_type": "markdown",
   "metadata": {},
   "source": [
    "现在，我们有了一个误差值。正如先前将千米转换为英里的预测器实例一样，我们可以利用这个误差值来搞清楚如何调整参数A。 "
   ]
  },
  {
   "cell_type": "markdown",
   "metadata": {},
   "source": [
    "但是，在我们调整参数 $A$ 之前，让我们考虑 $y$ 应该是什么值。如果 $y$ 为 $1.0$，那么直线就会恰好经过瓢虫所在的坐标点 $（x，y）=（3.0，1.0）$，也就是瓢虫所在的点。但是，我们并不希望出现这种情况。我们希望直线处于这个点的上方。为什么呢？因为我们希望所有瓢虫的点处于直线下方，而不是在直线上。这条直线需要成为瓢虫和毛虫之间的一条分界线，而不是给定小虫宽度、预测小虫长度的一个预测器。 "
   ]
  },
  {
   "cell_type": "markdown",
   "metadata": {},
   "source": [
    "因此，当 $x = 3.0$ 时，我们尝试使用 $y=1.1$ 的目标值。这只是比 1.0 大一点的数。我们也可以选择 1.2 甚至 1.3 ，但最好不要太大，因为这很可能会使得直线既在瓢虫的上方也在毛虫的上方，进而导致这个分类器没有一点作用。"
   ]
  },
  {
   "cell_type": "markdown",
   "metadata": {},
   "source": [
    "因此，期望的目标值是 1.1。误差值 E  = 期望目标值 - 实际输出值 = $1.1-0.75 = 0.35$"
   ]
  },
  {
   "cell_type": "markdown",
   "metadata": {},
   "source": [
    "让我们暂停下来提醒一下自己，将误差值、期望的目标值和计算值的意义在图上表示出来。"
   ]
  },
  {
   "cell_type": "markdown",
   "metadata": {},
   "source": [
    "<img width=\"300px\" src=\"https://doc.shiyanlou.com/courses/uid1166617-20191206-1575614055289/wm\">"
   ]
  },
  {
   "cell_type": "markdown",
   "metadata": {},
   "source": [
    "现在，我们需要对这个 E 做些什么，才能更好地指导我们调整参数 A 呢？这是一个重要的问题。"
   ]
  },
  {
   "cell_type": "markdown",
   "metadata": {},
   "source": [
    "在这个任务中，让我们退一步再想一想。我们希望用 y 中称为 E 的误差值，来搞清楚参数 A 所需改变的值。要做到这一点，我们需要知道两者的关系。A 与 E 是如何关联的呢？如果我们知道了这一点，那么我们就可以理解更改一个值如何影响另一个值。"
   ]
  },
  {
   "cell_type": "markdown",
   "metadata": {},
   "source": [
    "我们先从分类器的线性函数开始："
   ]
  },
  {
   "cell_type": "markdown",
   "metadata": {},
   "source": [
    "$$y =Ax$$"
   ]
  },
  {
   "cell_type": "markdown",
   "metadata": {},
   "source": [
    "我们知道，A 的初始猜测值给出了错误的 y 值。我们将正确的期望值 t 称为目标值。为了得到 t 值，我们需要稍微调整 A 的值。数学家使用增量符号 Δ 表示“微小的变化量”。下面我们将这个变化量写出来："
   ]
  },
  {
   "cell_type": "markdown",
   "metadata": {},
   "source": [
    "$$t = (A + ΔA)x$$"
   ]
  },
  {
   "cell_type": "markdown",
   "metadata": {},
   "source": [
    "让我们在图中将其画出来，以使其更容易理解。在图中，你可以看到新的斜率（A+ΔA）。 "
   ]
  },
  {
   "cell_type": "markdown",
   "metadata": {},
   "source": [
    "<img  width=\"300px\" src=\"https://doc.shiyanlou.com/courses/uid1166617-20191206-1575614261495/wm\">"
   ]
  },
  {
   "cell_type": "markdown",
   "metadata": {},
   "source": [
    "请记住，误差值 E 是期望的正确值与基于 A 的猜测值计算出来的值之间的差值。也就是说，$E = t - y$。"
   ]
  },
  {
   "cell_type": "markdown",
   "metadata": {},
   "source": [
    "又有 $y=Ax$，则："
   ]
  },
  {
   "cell_type": "markdown",
   "metadata": {},
   "source": [
    "$$t-y = (A + ΔA)x- Ax \n",
    "$$"
   ]
  },
  {
   "cell_type": "markdown",
   "metadata": {},
   "source": [
    "展开表达式并化简： "
   ]
  },
  {
   "cell_type": "markdown",
   "metadata": {},
   "source": [
    "$$E=t-y = (A + ΔA)x- Ax=(ΔA)x$$"
   ]
  },
  {
   "cell_type": "markdown",
   "metadata": {},
   "source": [
    "这是多么美妙啊！误差值 E 与 ΔA 存在着一种简单的关系。这种关系如此简单，以至于我认为这是错的，但实际上这是正确的。无论如何，这种简单的关系让我们的工作变得相对容易。 "
   ]
  },
  {
   "cell_type": "markdown",
   "metadata": {},
   "source": [
    "我们很容易沉迷于代数，或由于代数而分心。让我们提醒自己，我们所希望的是摆脱这些代数，用一些简明的语言达到我们的目标。"
   ]
  },
  {
   "cell_type": "markdown",
   "metadata": {},
   "source": [
    "根据误差值 E，我们希望知道需要将 A 调整多少，才能改进直线的斜率，得到一台更好的分类器。要做到这一点，我们只要重新调整上一个方程，将 ΔA 算出："
   ]
  },
  {
   "cell_type": "markdown",
   "metadata": {},
   "source": [
    "$$ ΔA=\\frac{E}{x}$$"
   ]
  },
  {
   "cell_type": "markdown",
   "metadata": {},
   "source": [
    "这就可以了！这就是我们一直在寻找的神奇表达式。我们可以使用误差值 E ，将所得到的 ΔA 作为调整分界线斜率 A 的量。"
   ]
  },
  {
   "cell_type": "markdown",
   "metadata": {},
   "source": [
    "让我们开始吧 ——更新最初的斜率。"
   ]
  },
  {
   "cell_type": "markdown",
   "metadata": {},
   "source": [
    "误差值为 $0.35$ ，$x$ 为 $3.0$ 。这使得 $ΔA = E / x = 0.35 / 3.0 = 0.1167$ 。这意味着当前的 $A = 0.25$ 需要加上 $0.1167$。这也意味着，修正后的 $A$ 值为 $(A +ΔA)$，即 $0.25 + 0.1167 = 0.3667$ 。当 $A=0.3667$ 时，使用这个 $A$ 值计算得到的 $y$ 值为 $1.1$，正如你所期望的，这就是我们想要的目标值。"
   ]
  },
  {
   "cell_type": "markdown",
   "metadata": {},
   "source": [
    "唷！我们做到了！我们找到了基于当前的误差值调整参数的方法。 "
   ]
  },
  {
   "cell_type": "markdown",
   "metadata": {},
   "source": [
    "让我们继续前进吧！"
   ]
  },
  {
   "cell_type": "markdown",
   "metadata": {},
   "source": [
    "现在，我们已经完成了一个实例训练，让我们从下一个实例中学习。在此实例中 $x=1.0,y=3.0$"
   ]
  },
  {
   "cell_type": "markdown",
   "metadata": {},
   "source": [
    "当线性函数使用更新后的 A = 0.3667，并把 x = 1.0 代入到线性函数中时，让我们观察会发生什么情况。我们得到 $ y = 0.3667 * 1.0 = 0.3667$。这与训练样本中 y = 3.0 相去甚远。"
   ]
  },
  {
   "cell_type": "markdown",
   "metadata": {},
   "source": [
    "基于与先前同样的推理，我们希望直线不要经过训练数据，而是稍微高于或低于训练数据，我们将所需的目标值设置为 2.9 。这样，直线就能在毛虫样本的下面。则误差值 E 为 $2.9 - 0.3667 = 2.5333$。"
   ]
  },
  {
   "cell_type": "markdown",
   "metadata": {},
   "source": [
    "比起先前，这个误差值更大，但是如果仔细想想，迄今为止，我们只使用一个单一的训练样本对线性函数进行训练，很明显，这使得直线偏向于这个单一的样本。"
   ]
  },
  {
   "cell_type": "markdown",
   "metadata": {},
   "source": [
    "与我们先前所做的一样，让我们再次改进 $A$ 。$ΔA = E / x $，即 $2.5333 / 1.0 = 2.5333$ 。即较新的 $A$ 为 $0.3667 + 2.5333 = 2.9$。这也意味着，对于 $x = 1.0$，函数得出了 $2.9$ 的答案，这正是所期望的值。 "
   ]
  },
  {
   "cell_type": "markdown",
   "metadata": {},
   "source": [
    "这个训练量有点大了，因此，让我们再次暂停，观察我们已经完成的内容。下图显示出了初始直线、向第一个训练样本学习后的改进直线和向第二个训练样本学习后的最终直线。"
   ]
  },
  {
   "cell_type": "markdown",
   "metadata": {},
   "source": [
    "<img  width=\"300px\" src=\"https://doc.shiyanlou.com/courses/uid1166617-20191206-1575615325125/wm\">"
   ]
  },
  {
   "cell_type": "markdown",
   "metadata": {},
   "source": [
    "等等，这是什么情况啊！看着这幅图，我们似乎并没有做到让直线以我们所希望的方式倾斜。这条直线没有整齐地划分出瓢虫和毛虫。"
   ]
  },
  {
   "cell_type": "markdown",
   "metadata": {},
   "source": [
    "好了，我们理解了先前的诉求。改进直线，以得出各个所需的 y 值。"
   ]
  },
  {
   "cell_type": "markdown",
   "metadata": {},
   "source": [
    "这种想法有什么错误呢？如果我们继续这样操作，使用各个训练数据样本进行改进，那么我们所得到的是，最终改进的直线与最后一次训练样本非常匹配。实际上，最终改进的直线不会顾及所有先前的训练样本，而是抛弃了所有先前训练样本的学习结果，只是对最近的一个实例进行了学习。"
   ]
  },
  {
   "cell_type": "markdown",
   "metadata": {},
   "source": [
    "如何解决这个问题呢？"
   ]
  },
  {
   "cell_type": "markdown",
   "metadata": {},
   "source": [
    "其实很简单！在机器学习中，这是一个重要的思路。我们应该进行**适度改进（moderate）**。也就是说，我们不要使改进过于激烈。我们采用 $ΔA$ 几分之一的一个变化值，而不是采用整个 $ΔA$，充满激情地跳跃到每一个新的 $A$ 值。使用这种方法，我们小心谨慎地向训练样本所指示的方向移动，保持先前训练迭代周期中所得到的值的一部分。在先前相对简单的千米转换为英里的预测器中，我们就已经观察到这种有节制的调整，我们小心翼翼地调整参数 $C$，使其只是实际误差值的几分之几。 "
   ]
  },
  {
   "cell_type": "markdown",
   "metadata": {},
   "source": [
    "这种自我节制的调整，还带来了一个非常强大、行之有效的“副作用”。因为从现实世界中测量的数据本来就会有错误或噪声，而有节制的调整可以抑制这些错误或噪声的影响。这种方法使得错误或噪声得到了调解和缓和。 "
   ]
  },
  {
   "cell_type": "markdown",
   "metadata": {},
   "source": [
    "好吧，让我们重新使用这种方法。但是这一次，在改进公式中，我们将添加一个调节系数："
   ]
  },
  {
   "cell_type": "markdown",
   "metadata": {},
   "source": [
    "$$ΔA= L(E / x)$$"
   ]
  },
  {
   "cell_type": "markdown",
   "metadata": {},
   "source": [
    "调节系数通常被称为学习率（learning rate），在此，我们称之为 $L$ 。我们就挑 $L = 0.5$ 作为一个合理的系数并开始学习。简单说来，这就意味着我们只更新原更新值的一半。"
   ]
  },
  {
   "cell_type": "markdown",
   "metadata": {},
   "source": [
    "再一次重复上述过程，我们有一个初始值 $A = 0.25$ 。使用第一个训练样本，我们得到 $y = 0.25 * 3.0 = 0.75$ ，期望值为 $1.1$ ，得到了误差值 $0.35$ 。$ΔA = L(E / x)= 0.5 * 0.35 / 3.0 = 0.0583$ 。更新后的 $A$ 值为 $0.25 + 0.0583 = 0.3083$。"
   ]
  },
  {
   "cell_type": "markdown",
   "metadata": {},
   "source": [
    "尝试使用新的 $A$ 值计算训练样本，在 $x = 3.0$ 时，得到 $y = 0.3083 * 3.0 = 0.9250$ 。现在，由于这个值小于 $1.1$，因此这条直线落在了训练样本错误的一边，但是，如果你将这视为后续的众多调整步骤的第一步，则这个结果不算太差。与初始直线相比，这条直线确实向正确方向移动了。"
   ]
  },
  {
   "cell_type": "markdown",
   "metadata": {},
   "source": [
    "我们继续使用第二个训练数据实例，$x = 1.0$ 。使用 $A = 0.3083$ ，我们得到 $y = 0.3083 * 1.0 = 0.3083$ 。所需值为 $2.9$，因此误差值是 $2.9-0.3083= 2.5917$ 。$ΔA = L(E / x) = 0.5 * 2.5917 / 1.0 = 1.2958$ 。当前，第二个更新的值 $A$ 等于 $0.3083 + 1.2958 = 1.6042$。"
   ]
  },
  {
   "cell_type": "markdown",
   "metadata": {},
   "source": [
    "让我们再次观察初始直线、改进后的直线和最终直线，观察这种有节制的改进是否在瓢虫和毛虫区域之间是否得到了更好的分界线。"
   ]
  },
  {
   "cell_type": "markdown",
   "metadata": {},
   "source": [
    "<img  width=\"300px\" src=\"https://doc.shiyanlou.com/courses/uid1166617-20191206-1575615528344/wm\">"
   ]
  },
  {
   "cell_type": "markdown",
   "metadata": {},
   "source": [
    "结果真的很不错!"
   ]
  },
  {
   "cell_type": "markdown",
   "metadata": {},
   "source": [
    "即使使用这两个简单的训练样本，利用带有调节学习速率的一种相对简单的改进方法，我们也非常迅速地得到了一条很好的分界线 $y = Ax$，其中 $A$ 为$1.6042$ 。 "
   ]
  },
  {
   "cell_type": "markdown",
   "metadata": {},
   "source": [
    "让我们先放下已经取得的成就。我们已经实现了自动化的学习方法，虽然方法非常简单，但卓有成效地对若干实例进行分类。"
   ]
  },
  {
   "cell_type": "markdown",
   "metadata": {},
   "source": [
    "这太棒了！"
   ]
  },
  {
   "cell_type": "markdown",
   "metadata": {},
   "source": [
    "### 实验总结"
   ]
  },
  {
   "cell_type": "markdown",
   "metadata": {},
   "source": [
    "- 我们使用简单的数学，理解了线性分类器输出误差值和可调节斜率参数之间的关系。\n",
    "- 使用朴素的调整方法会出现一个问题，即改进后的模型只与最后一次训练样本最匹配，“有效地”忽略了所有以前的训练样本。解决这个问题的一种好方法是使用学习率，调节改进速率，这样单一的训练样本就不能主导整个学习过程。\n",
    "- 来自真实世界的训练样本可能充满噪声或包含错误。适度更新有助于限制这些错误样本的影响。"
   ]
  },
  {
   "cell_type": "markdown",
   "metadata": {},
   "source": [
    "<hr><div style=\"color: #999; font-size: 12px;\"><i class=\"fa fa-copyright\" aria-hidden=\"true\"> 本课程内容版权归实验楼所有，禁止转载、下载及非法传播。</i></div>"
   ]
  }
 ],
 "metadata": {
  "kernelspec": {
   "display_name": "Python 3",
   "language": "python",
   "name": "python3"
  },
  "language_info": {
   "codemirror_mode": {
    "name": "ipython",
    "version": 3
   },
   "file_extension": ".py",
   "mimetype": "text/x-python",
   "name": "python",
   "nbconvert_exporter": "python",
   "pygments_lexer": "ipython3",
   "version": "3.7.0"
  }
 },
 "nbformat": 4,
 "nbformat_minor": 2
}
