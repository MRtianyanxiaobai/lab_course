{
 "cells": [
  {
   "cell_type": "markdown",
   "metadata": {},
   "source": [
    "## 简单的 Python 入门"
   ]
  },
  {
   "cell_type": "markdown",
   "metadata": {},
   "source": [
    "---"
   ]
  },
  {
   "cell_type": "markdown",
   "metadata": {},
   "source": [
    "#### 介绍"
   ]
  },
  {
   "cell_type": "markdown",
   "metadata": {},
   "source": [
    "在学习神经网络的具体编码之前，我们需要先来了解 Python 的简单语法。本实验将从最简单的输入输出讲起，一步一步带着你学习 Python 的变量、数组、函数、对象等相关知识。让你在短时间内掌握 Python 的简单开发。"
   ]
  },
  {
   "cell_type": "markdown",
   "metadata": {},
   "source": [
    "#### 知识点"
   ]
  },
  {
   "cell_type": "markdown",
   "metadata": {},
   "source": [
    "- 变量的定义\n",
    "- 数组的定义\n",
    "- 函数的定义\n",
    "- 类的定义"
   ]
  },
  {
   "cell_type": "markdown",
   "metadata": {},
   "source": [
    "---"
   ]
  },
  {
   "cell_type": "markdown",
   "metadata": {},
   "source": [
    "### 简单的 Python"
   ]
  },
  {
   "cell_type": "markdown",
   "metadata": {},
   "source": [
    "Python 是一门简单且易入门的语言。阅读和理解其他人编写的 Python 的指令，也是很容易的。现在的 Python 应用在许多不同的领域，包括科研、教学、全球范围内的基础设施、数据分析和人工智能领域。"
   ]
  },
  {
   "cell_type": "markdown",
   "metadata": {},
   "source": [
    "让我们来编写第一个 HelloWorld 程序并运行。"
   ]
  },
  {
   "cell_type": "markdown",
   "metadata": {},
   "source": [
    "如果你觉得移动指针点击上方工具栏的运行按钮太过麻烦，那么可以使用键盘快捷键Ctrl+Enter来运行程序。"
   ]
  },
  {
   "cell_type": "markdown",
   "metadata": {},
   "source": [
    "<i class=\"fa fa-arrow-circle-down\" aria-hidden=\"true\"> 教学代码：</i>"
   ]
  },
  {
   "cell_type": "code",
   "execution_count": null,
   "metadata": {},
   "outputs": [],
   "source": [
    "print(\"Hello World!\")"
   ]
  },
  {
   "cell_type": "markdown",
   "metadata": {},
   "source": [
    "<i class=\"fa fa-arrow-circle-down\" aria-hidden=\"true\"> 动手练习</i>｜如果你对课程所使用的实验楼 Notebook 在线环境并不熟悉，可以先学习 [<i class=\"fa fa-external-link-square\" aria-hidden=\"true\"> 使用指南课程</i>](https://www.shiyanlou.com/courses/1322)。"
   ]
  },
  {
   "cell_type": "code",
   "execution_count": null,
   "metadata": {},
   "outputs": [],
   "source": []
  },
  {
   "cell_type": "markdown",
   "metadata": {},
   "source": [
    "你应该得到一个回应，这个回应就是简单地打印出短语“Hello World！”。"
   ]
  },
  {
   "cell_type": "markdown",
   "metadata": {},
   "source": [
    "#### 变量的定义"
   ]
  },
  {
   "cell_type": "markdown",
   "metadata": {},
   "source": [
    "在 Python 中，变量定义不需要指定类型，直接赋值即可，代码如下。"
   ]
  },
  {
   "cell_type": "code",
   "execution_count": null,
   "metadata": {},
   "outputs": [],
   "source": [
    "x = 10 \n",
    "print(x) \n",
    "print(x+5) "
   ]
  },
  {
   "cell_type": "code",
   "execution_count": null,
   "metadata": {},
   "outputs": [],
   "source": []
  },
  {
   "cell_type": "markdown",
   "metadata": {},
   "source": [
    "第一行的 $x = 10$ 看起来像数学声明，告诉我们 $x$ 等于 $10$ 。在 $Python$ 中，这意味着 $x$ 被设置为 $10$ 。也就是说，$10$ 被放在了称为 $x$ 的虚拟盒子中。这非常简单，如下图所示。 "
   ]
  },
  {
   "cell_type": "markdown",
   "metadata": {},
   "source": [
    "<img width=\"200px\" src=\"https://doc.shiyanlou.com/courses/uid1166617-20191217-1576575452739/wm\">"
   ]
  },
  {
   "cell_type": "markdown",
   "metadata": {},
   "source": [
    "那么后面两句，也分简单了。分别是将这个箱子中的数字输出，以及将箱子中的数字取出，并且加上 5 后，输出。"
   ]
  },
  {
   "cell_type": "markdown",
   "metadata": {},
   "source": [
    "#### 循环结构"
   ]
  },
  {
   "cell_type": "markdown",
   "metadata": {},
   "source": [
    "计算机非常适合执行重复的任务，且它们的速度非常快！而让计算机重复做事情的一种很常见的方式就是使用称为循环。在讲解循环之前，我们先来，运行一下，下面的代码："
   ]
  },
  {
   "cell_type": "code",
   "execution_count": null,
   "metadata": {},
   "outputs": [],
   "source": [
    "list(range(10))"
   ]
  },
  {
   "cell_type": "code",
   "execution_count": null,
   "metadata": {},
   "outputs": [],
   "source": []
  },
  {
   "cell_type": "markdown",
   "metadata": {},
   "source": [
    "你会得到 10 个数字的列表，从 0 到 9。其中 `range` 的作用就是初始化一个从 0 到 10 迭代器（大于等于 0 ，小于 10 ），然后再把这 10 个数字传入了 list 中，创建出了一个 0 ~ 9 的列表。"
   ]
  },
  {
   "cell_type": "markdown",
   "metadata": {},
   "source": [
    "而我们的循环结构，也会利用 `range` 生成迭代器。代码如下："
   ]
  },
  {
   "cell_type": "code",
   "execution_count": null,
   "metadata": {
    "scrolled": true
   },
   "outputs": [],
   "source": [
    "for n in range(10): \n",
    "     print(n) \n",
    "     pass \n",
    "print(\"done\")"
   ]
  },
  {
   "cell_type": "code",
   "execution_count": null,
   "metadata": {},
   "outputs": [],
   "source": []
  },
  {
   "cell_type": "markdown",
   "metadata": {},
   "source": [
    "第一行是 `range(10)` ，它创建了 0 到 9 的数字列表，正如我们先前所见到的那样。"
   ]
  },
  {
   "cell_type": "markdown",
   "metadata": {},
   "source": [
    "`for n in` 创建了一个循环。在这个例子中，它对在列表中的每个数字都做了一些事情，将当前的值赋予变量 n 来保持计数。也就是说，在第一次循环的时候 n = 0，然后是 n = 1、n = 2，直到最后一项 n = 9。"
   ]
  },
  {
   "cell_type": "markdown",
   "metadata": {},
   "source": [
    "下一行 “print(n)”就是简单地打印 $n$ 的值。"
   ]
  },
  {
   "cell_type": "markdown",
   "metadata": {},
   "source": [
    "但是，在 “print(n)” 之前，应注意**缩进**。在 Python 中，缩进的使用是有意识地显示哪些指令在其他指令的管辖之下，因此缩进很重要。"
   ]
  },
  {
   "cell_type": "markdown",
   "metadata": {},
   "source": [
    "“pass” 指令标志循环的结束，下一行就回到正常的缩进，不再是循环的一部分了。这也就是为什么 “done” 只能打印一次，而不是 10 次的原因。"
   ]
  },
  {
   "cell_type": "markdown",
   "metadata": {},
   "source": [
    "那么现在如果我需要打印出 0 ~ 10 的平方，我们应该怎样做呢？代码如下："
   ]
  },
  {
   "cell_type": "code",
   "execution_count": null,
   "metadata": {
    "scrolled": false
   },
   "outputs": [],
   "source": [
    "for n in range(10):\n",
    "    print(\"The square of\", n, \"is\", n*n) \n",
    "    pass\n",
    "print(\"done\")"
   ]
  },
  {
   "cell_type": "code",
   "execution_count": null,
   "metadata": {},
   "outputs": [],
   "source": []
  },
  {
   "cell_type": "markdown",
   "metadata": {},
   "source": [
    "这已经相当强大！我们只使用一组很短的指令就快速地执行大量的工作。我们可以很容易使用`range(50)`，`range（1000）` 等，来扩大循环次数。"
   ]
  },
  {
   "cell_type": "markdown",
   "metadata": {},
   "source": [
    "#### 注释"
   ]
  },
  {
   "cell_type": "markdown",
   "metadata": {},
   "source": [
    "在我们介绍更多更强大的 Python 命令之前，先来看看以下简单的代码。"
   ]
  },
  {
   "cell_type": "code",
   "execution_count": null,
   "metadata": {},
   "outputs": [],
   "source": [
    "# the following prints out the cube of 2 \n",
    "print(2**3)"
   ]
  },
  {
   "cell_type": "code",
   "execution_count": null,
   "metadata": {},
   "outputs": [],
   "source": []
  },
  {
   "cell_type": "markdown",
   "metadata": {},
   "source": [
    "第一行的开头是哈希符号 ＃。Python 将忽略使用哈希符号 # 开头的行。"
   ]
  },
  {
   "cell_type": "markdown",
   "metadata": {},
   "source": [
    "这些语句并不是一无是处，我们可以在这些行上，写上有意义的代码注释，使得其他读者对代码更清晰。甚至在以后我们返回来看代码的时候，也能迅速看懂。"
   ]
  },
  {
   "cell_type": "markdown",
   "metadata": {},
   "source": [
    "#### 函数"
   ]
  },
  {
   "cell_type": "markdown",
   "metadata": {},
   "source": [
    "许多计算机语言，包括 Python 在内，带有函数这个概念。就像数学中的函数一样，有了函数之后，我们带任意一个实际的数值进去，都能得到一个想要的输出，进而达到一个复用的效果。这样也能够"
   ]
  },
  {
   "cell_type": "markdown",
   "metadata": {},
   "source": [
    "如果你能够足够明确地定义这些函数，这些可重用的代码片段就能独立存在，并且允许你写出更短、更优雅的代码。"
   ]
  },
  {
   "cell_type": "markdown",
   "metadata": {},
   "source": [
    "当希望了解函数的简单思想时，最好的办法是观察一个简单的函数，并使用函数做一些有趣的事情。输入以下代码并运行。"
   ]
  },
  {
   "cell_type": "code",
   "execution_count": null,
   "metadata": {},
   "outputs": [],
   "source": [
    "# function that takes 2 numbers as input\n",
    "# and outputs their average\n",
    "def avg(x,y):\n",
    "    print(\"first input is\", x)\n",
    "    print(\"second input is\", y)\n",
    "    a = (x + y) / 2.0\n",
    "    print(\"average is\", a)\n",
    "    return a\n"
   ]
  },
  {
   "cell_type": "code",
   "execution_count": null,
   "metadata": {},
   "outputs": [],
   "source": []
  },
  {
   "cell_type": "markdown",
   "metadata": {},
   "source": [
    "我们来探讨一下在这里所做的事情。"
   ]
  },
  {
   "cell_type": "markdown",
   "metadata": {},
   "source": [
    "Python 忽略了以 ＃ 开头的前两行，这是我们写的注释。"
   ]
  },
  {
   "cell_type": "markdown",
   "metadata": {},
   "source": [
    "def avg( x,y ) :"
   ]
  },
  {
   "cell_type": "markdown",
   "metadata": {},
   "source": [
    "- def ：告诉计算机，我们要定义一个新的可重用函数。\n",
    "- avg ：这一项是我们给函数的名字。虽然我们可以称函数为 “banana” 或 “ pluto”，但是使用有意义的名字，可以提醒我们函数实际上所做的事情，这更为合理。\n",
    "- x，y ：告诉 Python 这个函数有两个输入参数 x，y 。这两个参数可在函数内部被使用。"
   ]
  },
  {
   "cell_type": "markdown",
   "metadata": {},
   "source": [
    "Python 的设计者认为大量的括号会让人眼花缭乱，难易一一对应，因此 Python 只是用缩进来表示程序结构。然后函数的前两行就是普通的打印，第三行的 $ a = (x + y) / 2.0 $ 就是对 x 和 y 求平均值，并把它们相加，最后将结果放入名为 a 的箱子（变量）中。"
   ]
  },
  {
   "cell_type": "markdown",
   "metadata": {},
   "source": [
    "下面我们来调用这个函数计算 2 ，4 的平均数 和 200，401 的平均数。"
   ]
  },
  {
   "cell_type": "code",
   "execution_count": null,
   "metadata": {},
   "outputs": [],
   "source": [
    "avg(2,4)\n",
    "avg(200,401)"
   ]
  },
  {
   "cell_type": "code",
   "execution_count": null,
   "metadata": {},
   "outputs": [],
   "source": []
  },
  {
   "cell_type": "markdown",
   "metadata": {},
   "source": [
    "当然，当我们想要计算其他的数的平均数时，也只需要调用 `avg` 函数即可，而不需要重新写一次公式，这就是函数的益处。"
   ]
  },
  {
   "cell_type": "markdown",
   "metadata": {},
   "source": [
    "当我们编码神经网络时，会使用可重用函数。例如，编写一个可重用的函数，计算 S 激活函数，这样我们就可以多次调用它了。"
   ]
  },
  {
   "cell_type": "markdown",
   "metadata": {},
   "source": [
    "#### 数组"
   ]
  },
  {
   "cell_type": "markdown",
   "metadata": {},
   "source": [
    "数组就像电子表格一样。如果你用过电子表格，那么你应该知道，我们使用 B1 或 C5 这种方式来指示某个单元。并且可以用 C3 + D7 来表示某两个单元格的相加。"
   ]
  },
  {
   "cell_type": "markdown",
   "metadata": {},
   "source": [
    "<img width=\"300px\" src=\"https://doc.shiyanlou.com/courses/uid1166617-20191218-1576649914614/wm\">"
   ]
  },
  {
   "cell_type": "markdown",
   "metadata": {},
   "source": [
    "当我们要编码神经网络时，将使用数组来表示输入信号矩阵、权重矩阵和输出信号矩阵。并且，当神经网络内部的信号前馈或误差在神经网络中反向传播时，我们还将使用数组来表示这些信号和误差。因此，让我们一起来熟悉数组。"
   ]
  },
  {
   "cell_type": "markdown",
   "metadata": {},
   "source": [
    "这里在使用数组时，我们需要用到额外的工具包：Numpy。Python 中利用 `import` 关键词导入工具包。"
   ]
  },
  {
   "cell_type": "code",
   "execution_count": null,
   "metadata": {},
   "outputs": [],
   "source": [
    "import numpy\n",
    "print(numpy.__version__) #查看 Numpy 工具包的版本。"
   ]
  },
  {
   "cell_type": "code",
   "execution_count": null,
   "metadata": {},
   "outputs": [],
   "source": []
  },
  {
   "cell_type": "markdown",
   "metadata": {},
   "source": [
    "接下来，让我们尝试这里用 Numpy 来初始化矩阵。"
   ]
  },
  {
   "cell_type": "code",
   "execution_count": null,
   "metadata": {},
   "outputs": [],
   "source": [
    "a = numpy.zeros([3,2]) #初始化了一个 三行，两列的全 0 矩阵\n",
    "print(a) #输出这个矩阵"
   ]
  },
  {
   "cell_type": "code",
   "execution_count": null,
   "metadata": {},
   "outputs": [],
   "source": []
  },
  {
   "cell_type": "markdown",
   "metadata": {},
   "source": [
    "这段代码使用 Numpy ，创建了 3 乘以 2 的数组，并且将所有单元的值都设置为 0 ，我们将整个数组赋给了名为 a 的变量。然后，我们打印 a 。我们可以观察这个数组，这个数组就像是一个 3 行 2 列的表格，其中所有单元都为 0 。"
   ]
  },
  {
   "cell_type": "markdown",
   "metadata": {},
   "source": [
    "现在，让我们修改数组的内容，将其中一些 0 更改为其他值。下面的代码演示了如何指定特定单元，使用新值来覆盖旧值。这就像是指定电子表格的单元格或街道地图的网格一样。"
   ]
  },
  {
   "cell_type": "code",
   "execution_count": null,
   "metadata": {},
   "outputs": [],
   "source": [
    "a[0,0] = 1 #将第 0 行，第 0 列的值置为 1\n",
    "a[0,1] = 2 \n",
    "a[1,0] = 9 \n",
    "a[2,1] = 12 \n",
    "print(a) "
   ]
  },
  {
   "cell_type": "code",
   "execution_count": null,
   "metadata": {},
   "outputs": [],
   "source": []
  },
  {
   "cell_type": "markdown",
   "metadata": {},
   "source": [
    "注意：Python 中的所有计数都是从 0 开始的。也就是说 a 的行号为 0、1、2 ，列号为 0、1。"
   ]
  },
  {
   "cell_type": "markdown",
   "metadata": {},
   "source": [
    "那么因此如果我们访问的范围，超过了该数组的最大值，就会报错。如下："
   ]
  },
  {
   "cell_type": "code",
   "execution_count": null,
   "metadata": {},
   "outputs": [],
   "source": [
    "print(a[3,1])"
   ]
  },
  {
   "cell_type": "code",
   "execution_count": null,
   "metadata": {},
   "outputs": [],
   "source": []
  },
  {
   "cell_type": "markdown",
   "metadata": {},
   "source": [
    "当你运行是，就会发现，输出了 `out of bounds` 的错误描述，我们称之为数组越界。"
   ]
  },
  {
   "cell_type": "markdown",
   "metadata": {},
   "source": [
    "在前馈信号或通过网络反向传播误差时，需要进行大量计算，通过使用数组或矩阵，我们可以简化指令，因此数组或矩阵非常有用。在本书第1章中，我们就已经看到了这一点。"
   ]
  },
  {
   "cell_type": "markdown",
   "metadata": {},
   "source": [
    "#### 绘制数组"
   ]
  },
  {
   "cell_type": "markdown",
   "metadata": {},
   "source": [
    "就像大型的数字表格或数字列表一样，你再怎么仔细观察里面的数值，也得不到任何深入的理解。可视化数组有助于我们快速获取数组的一般意义。绘制二维数字数组的一种方式就是将它们视为二维平面，根据数组中单元格的值对单元格进行着色。"
   ]
  },
  {
   "cell_type": "markdown",
   "metadata": {},
   "source": [
    "你可以简单地选择根据颜色标度，将数值转换为某种颜色，或者将超过某一阈值的单元格涂上黑色，剩余其他的一切单元格都涂为白色。"
   ]
  },
  {
   "cell_type": "markdown",
   "metadata": {},
   "source": [
    "在绘制数组之前，我们需要倒入的工具包 `matplotlib` 中的图形绘制相关的小工具包。"
   ]
  },
  {
   "cell_type": "code",
   "execution_count": null,
   "metadata": {},
   "outputs": [],
   "source": [
    "import  matplotlib.pyplot"
   ]
  },
  {
   "cell_type": "code",
   "execution_count": null,
   "metadata": {},
   "outputs": [],
   "source": []
  },
  {
   "cell_type": "markdown",
   "metadata": {},
   "source": [
    "还有一件事要注意，要在Notebook上绘制图形时，我们最好发出明确的指令，免得 Python 打开其他绘制窗口。指令如下："
   ]
  },
  {
   "cell_type": "code",
   "execution_count": null,
   "metadata": {},
   "outputs": [],
   "source": [
    "%matplotlib inline"
   ]
  },
  {
   "cell_type": "code",
   "execution_count": null,
   "metadata": {},
   "outputs": [],
   "source": []
  },
  {
   "cell_type": "markdown",
   "metadata": {},
   "source": [
    "现在，我们可以绘制数组了。输入以下代码并运行。"
   ]
  },
  {
   "cell_type": "code",
   "execution_count": null,
   "metadata": {},
   "outputs": [],
   "source": [
    "matplotlib.pyplot.imshow(a, interpolation=\"nearest\") "
   ]
  },
  {
   "cell_type": "code",
   "execution_count": null,
   "metadata": {},
   "outputs": [],
   "source": []
  },
  {
   "cell_type": "markdown",
   "metadata": {},
   "source": [
    "创建绘图的指令是imshow()，第一个参数是我们要绘制的数组。第二个叫做 interpolation 的参数， 是告诉Python，不要为了让绘图看起来更加平滑而混合颜色。"
   ]
  },
  {
   "cell_type": "markdown",
   "metadata": {},
   "source": [
    "#### 对象"
   ]
  },
  {
   "cell_type": "markdown",
   "metadata": {},
   "source": [
    "我们再来学习一个 Python 的思想，即对象。对象类似于可重用函数。但是，比起简单的函数，对象可以做的事情要多得多。 "
   ]
  },
  {
   "cell_type": "markdown",
   "metadata": {},
   "source": [
    "要了解对象，最简单的方法就是观察它们的应用，而不是学习一大堆抽象的概念。让我们看看下列代码。"
   ]
  },
  {
   "cell_type": "code",
   "execution_count": null,
   "metadata": {},
   "outputs": [],
   "source": [
    "# class for a dog object\n",
    "class Dog:\n",
    "    # dogs can bark()\n",
    "    def bark(self):\n",
    "        print(\"汪！汪！汪!\")\n",
    "        pass\n",
    "    pass"
   ]
  },
  {
   "cell_type": "code",
   "execution_count": null,
   "metadata": {},
   "outputs": [],
   "source": []
  },
  {
   "cell_type": "markdown",
   "metadata": {},
   "source": [
    "让我们从熟悉的内容开始。你可以看到，在代码内有一个函数名为 bark()。如果我们调用这个函数，就很容易看到这个动作，即在屏幕上打印出了“汪！汪！汪!”。"
   ]
  },
  {
   "cell_type": "markdown",
   "metadata": {},
   "source": [
    "现在，让我们来看看这个熟悉的函数定义。你可以看到关键字为 class 、名字为 Dog 和一个看起来像函数的结构。"
   ]
  },
  {
   "cell_type": "markdown",
   "metadata": {},
   "source": [
    "这与函数的定义相似，也有一个名字。但，不同之处在于，函数使用关键字 def，而定义类，则使用关键词class。"
   ]
  },
  {
   "cell_type": "markdown",
   "metadata": {},
   "source": [
    "在深入讨论 class（类）与对象有何区别之前，让我们再一次看一些真实而简单的代码，将这些抽象的思想带到生活中。"
   ]
  },
  {
   "cell_type": "code",
   "execution_count": null,
   "metadata": {
    "scrolled": true
   },
   "outputs": [],
   "source": [
    "sizzles = Dog() \n",
    "sizzles.bark()"
   ]
  },
  {
   "cell_type": "code",
   "execution_count": null,
   "metadata": {},
   "outputs": [],
   "source": []
  },
  {
   "cell_type": "markdown",
   "metadata": {},
   "source": [
    "可以看到第一行代码创建了一个名为 sizzles 的变量，这个变量其实就是一个通过 Dog 类创建的一个实例。我们称这些实例为对象。"
   ]
  },
  {
   "cell_type": "markdown",
   "metadata": {},
   "source": [
    "换句话说，我们创建了一种叫做 sizzles 的狗。 sizzles 是一个对象，按照狗（Dog）类的形象创建。因此 sizzles 能够调用 Dog 里面定义的 brak 函数，并发出“汪！汪！汪!” 的叫声。"
   ]
  },
  {
   "cell_type": "markdown",
   "metadata": {},
   "source": [
    "你可能已经发现了函数定义 bark（self）中的 self。这似乎很奇怪，我对此也感到很奇怪。我非常喜欢Python，但是我并不认为 Python 是完美的。self 之所以出现在那里，是为了当 Python 创建函数时，Python 能将函数赋予正确的对象。但是我个人的看法是：由于 bark() 是在类定义的内部，因此 Python 应该知道这个函数连接到了哪个对象，这是显而易见的。"
   ]
  },
  {
   "cell_type": "markdown",
   "metadata": {},
   "source": [
    "让我们来看看所使用的对象和类。仔细观察下面代码。"
   ]
  },
  {
   "cell_type": "code",
   "execution_count": null,
   "metadata": {},
   "outputs": [],
   "source": [
    "sizzles = Dog()\n",
    "mutley = Dog()\n",
    "\n",
    "sizzles.bark()\n",
    "mutley.bark()"
   ]
  },
  {
   "cell_type": "code",
   "execution_count": null,
   "metadata": {},
   "outputs": [],
   "source": []
  },
  {
   "cell_type": "markdown",
   "metadata": {},
   "source": [
    "真有趣！我们创建了名为 sizzles 和 mutley 的两个对象。要意识到，重要的一点是这两个对象都创建自 Dog() 类的定义。这真是太强大了！我们定义了 Dog 的形象以及它们的行为，然后我们创建了真正的实例。"
   ]
  },
  {
   "cell_type": "markdown",
   "metadata": {},
   "source": [
    "这就是类和对象之间的区别，类只是定义，对象是所定义类的真正实例。类是菜谱书中的蛋糕配方，对象是按照配方做出的一个蛋糕。下图生动地显示了从类的配方中，如何制作出对象。 "
   ]
  },
  {
   "cell_type": "markdown",
   "metadata": {},
   "source": [
    "<img width=\"400px\" src=\"https://doc.shiyanlou.com/courses/uid1166617-20191218-1576660040534/wm\">"
   ]
  },
  {
   "cell_type": "markdown",
   "metadata": {},
   "source": [
    "这些从类中创建的对象有什么作用呢？为什么要这么麻烦呢？不需要所有额外的代码，直接打印出单词“汪！汪！汪!”，岂不是更简单！"
   ]
  },
  {
   "cell_type": "markdown",
   "metadata": {},
   "source": [
    "嗯，当你看到所有这些类型的对象都创建自相同的模板时，就会发现这是多么的有用处了。这种方法完全省去了单独创建每个对象的工作。"
   ]
  },
  {
   "cell_type": "markdown",
   "metadata": {},
   "source": [
    "但是，真正的好处是对象可以整齐的封装自己应该有的数据和函数。我们可以把狗的一些行为和属性装在里面，并添加一些方法来观察和改变这些数据。仔细观察下面的新定义的 Dog 类。"
   ]
  },
  {
   "cell_type": "code",
   "execution_count": null,
   "metadata": {},
   "outputs": [],
   "source": [
    "# class for a dog object\n",
    "class Dog:\n",
    "    # 实例化对象时，会调用这个方法，传入宠物的名字和体温\n",
    "    def __init__(self, petname, temp):\n",
    "        #将这两个变量保存到本对象中\n",
    "        self.name = petname\n",
    "        self.temperature = temp\n",
    "   \n",
    "    # 输出宠物的状态：名字和温度\n",
    "    def status(self):\n",
    "        print(\"dog name is \", self.name)\n",
    "        print(\"dog temperature is \", self.temperature)\n",
    "        pass\n",
    "    \n",
    "    # 重新设置宠物的体温\n",
    "    def setTemperature(self, temp):\n",
    "        self.temperature = temp\n",
    "        pass\n",
    "    \n",
    "    # 狗的狂吠动作\n",
    "    def bark(self):\n",
    "        print(\"汪！汪！汪!\")\n",
    "        pass\n",
    "    pass"
   ]
  },
  {
   "cell_type": "code",
   "execution_count": null,
   "metadata": {},
   "outputs": [],
   "source": []
  },
  {
   "cell_type": "markdown",
   "metadata": {},
   "source": [
    "首先要注意的事情是，我们添加了 3 个新函数到 Dog 类中。我们已经有了 bark() 函数，现在又有了新的函数，名为 __init __() 、 status() 和 setTemperature() 。通过上面注释，我们应该理解每个新函数的作用。"
   ]
  },
  {
   "cell_type": "markdown",
   "metadata": {},
   "source": [
    "__init __() 的函数。为什么给它取一个这么古怪的名字呢？这个名字很特别，当第一次创建对象时，Python 会调用这个名为 __init __() 的函数。在这个神奇的初始化函数中，我们做了什么呢？我们似乎只创建了 2 个新变量，分别名为 self.name 和 self.temperature 。你可以从传递给函数的 petname 和 temp 变量中看到它们的值。"
   ]
  },
  {
   "cell_type": "markdown",
   "metadata": {},
   "source": [
    "“self.”部分意味着这个变量是这个对象本身的一部分，因此它有一个“self”。也就是说，这些变量只属于这个对象，而独立于其他 Dog 对象和 Python 中的一般变量。我们不希望混淆这只狗的名字与其他狗的名字！"
   ]
  },
  {
   "cell_type": "markdown",
   "metadata": {},
   "source": [
    "下一个是status()函数，这个函数非常简单。它不带任何参数，只是打印出Dog的对象名和温度变量。"
   ]
  },
  {
   "cell_type": "markdown",
   "metadata": {},
   "source": [
    "setTemperature() 函数，它将 self.temperature 设置为所提供的 temp 参数。这意味着，在创建对象之后，在任何时间内你都可以改变对象的温度。"
   ]
  },
  {
   "cell_type": "markdown",
   "metadata": {},
   "source": [
    "让我们再运作起来，观察这一切，使得这个概念变得清晰。下面代码，显示使用这些新函数定义的新 Dog 类以及名为 lassie 的新的 Dog 对象。我们使用参数将其命名为“Lassie”，设置初始温度为 37 ，创建了这个对象。"
   ]
  },
  {
   "cell_type": "code",
   "execution_count": null,
   "metadata": {},
   "outputs": [],
   "source": [
    "lassie =Dog('lassie',37)\n",
    "lassie.status()"
   ]
  },
  {
   "cell_type": "code",
   "execution_count": null,
   "metadata": {},
   "outputs": [],
   "source": []
  },
  {
   "cell_type": "markdown",
   "metadata": {},
   "source": [
    "你可以发现，调用 Dog 对象 lassie 的 status() 函数可以打印出狗的名字和它当前的温度。从lassie 被创建后，温度就从未被改变过。"
   ]
  },
  {
   "cell_type": "markdown",
   "metadata": {},
   "source": [
    "现在，让我们改变温度，并通过请求另一个更新的状态，来检查在对象内部温度是否已经被改变了："
   ]
  },
  {
   "cell_type": "code",
   "execution_count": null,
   "metadata": {},
   "outputs": [],
   "source": [
    "lassie.setTemperature(40) \n",
    "lassie.status()"
   ]
  },
  {
   "cell_type": "code",
   "execution_count": null,
   "metadata": {},
   "outputs": [],
   "source": []
  },
  {
   "cell_type": "markdown",
   "metadata": {},
   "source": [
    "从结果可以看出，setTemperature(40) 确实改变了对象的内部的温度。"
   ]
  },
  {
   "cell_type": "markdown",
   "metadata": {},
   "source": [
    "### 实验总结"
   ]
  },
  {
   "cell_type": "markdown",
   "metadata": {},
   "source": [
    "Python 是一门简单且易入门的语言。阅读和理解其他人编写的 Python 的指令，也是很容易的。现在的 Python 应用在许多不同的领域，包括科研、教学、全球范围内的基础设施、数据分析和人工智能领域。我们已经学到了很多对象相关的知识，其中有一些知识是高级主题，这些知识一点都不难，我们真的应该为自己感到高兴！我们已经掌握了足够的 Python 知识，在下一个实验中，我们就可以开始制作神经网络了。"
   ]
  },
  {
   "cell_type": "markdown",
   "metadata": {},
   "source": [
    "<hr><div style=\"color: #999; font-size: 12px;\"><i class=\"fa fa-copyright\" aria-hidden=\"true\"> 本课程内容版权归实验楼所有，禁止转载、下载及非法传播。</i></div>"
   ]
  }
 ],
 "metadata": {
  "kernelspec": {
   "display_name": "Python 3",
   "language": "python",
   "name": "python3"
  },
  "language_info": {
   "codemirror_mode": {
    "name": "ipython",
    "version": 3
   },
   "file_extension": ".py",
   "mimetype": "text/x-python",
   "name": "python",
   "nbconvert_exporter": "python",
   "pygments_lexer": "ipython3",
   "version": "3.7.0"
  }
 },
 "nbformat": 4,
 "nbformat_minor": 2
}
