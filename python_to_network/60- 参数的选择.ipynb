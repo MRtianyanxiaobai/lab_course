{
 "cells": [
  {
   "cell_type": "markdown",
   "metadata": {},
   "source": [
    "## 参数的选择"
   ]
  },
  {
   "cell_type": "markdown",
   "metadata": {},
   "source": [
    "---"
   ]
  },
  {
   "cell_type": "markdown",
   "metadata": {},
   "source": [
    "#### 介绍"
   ]
  },
  {
   "cell_type": "markdown",
   "metadata": {},
   "source": [
    "本实验首先以一个范例入手，阐述了权重更新的全过程，加深了我们对梯度下降算法的理解。然后接下来从输入，输出这两个方面，阐述了激活函数的选取方式，以及目标值的最大最小值。最后探讨了随机初始化权重可能造成的问题，提出来一种较为合理的权重初始化方式。"
   ]
  },
  {
   "cell_type": "markdown",
   "metadata": {},
   "source": [
    "#### 知识点"
   ]
  },
  {
   "cell_type": "markdown",
   "metadata": {},
   "source": [
    "- 权重更新的范例\n",
    "- 激活函数的选择\n",
    "- 初始化权重的方法\n",
    "- 目标值的使用范围\n"
   ]
  },
  {
   "cell_type": "markdown",
   "metadata": {},
   "source": [
    "---"
   ]
  },
  {
   "cell_type": "markdown",
   "metadata": {},
   "source": [
    "### 权重更新范例"
   ]
  },
  {
   "cell_type": "markdown",
   "metadata": {},
   "source": [
    "我们来演示几个有数字的示例，让读者看看这种权重更新的方法是可以成功的。"
   ]
  },
  {
   "cell_type": "markdown",
   "metadata": {},
   "source": [
    "下面的网络是我们之前演示过的一个，但是这次，我们添加了隐藏层第一个节点 $o_{j = 1}$ 和隐藏层第二个节点 $o_{j = 2}$ 的示例输出值。"
   ]
  },
  {
   "cell_type": "markdown",
   "metadata": {},
   "source": [
    "<img width=\"500px\" src=\"https://doc.shiyanlou.com/courses/uid1166617-20191217-1576565732919/wm\">"
   ]
  },
  {
   "cell_type": "markdown",
   "metadata": {},
   "source": [
    "我们要更新隐藏层和输出层之间的权重 $w_{1,1}$ 。当前，这个值为 $2.0$。 \n"
   ]
  },
  {
   "cell_type": "markdown",
   "metadata": {},
   "source": [
    "让我们再次写出误差斜率。"
   ]
  },
  {
   "cell_type": "markdown",
   "metadata": {},
   "source": [
    "<img width=\"600px\" src=\"https://doc.shiyanlou.com/courses/uid1166617-20191217-1576566052648/wm\">"
   ]
  },
  {
   "cell_type": "markdown",
   "metadata": {},
   "source": [
    "让我们一项一项地进行运算："
   ]
  },
  {
   "cell_type": "markdown",
   "metadata": {},
   "source": [
    "- 第一项（$t_k - o_k$）得到误差 $e_1 = 0.8$。 \n",
    "- $S$ 函数内的求和 $Σ_jw_{j,k} \\cdot o_j$ 为 $(2.0 \\times 0.4)+(3.0 \\cdot 0.5)= 2.3$ 。 \n",
    "- $Sigmoid( 2.3 ) = \\frac{1}{1 + e^{-2.3} } = 0.909$  。中间的表达式为 $0.909 \\times（1-0.909）= 0.083$ 。 \n",
    "- 由于我们感兴趣的是权重 $w_{1,1} $ ，其中 $j=1$ ，因此最后一项 $o_j$ 也很简单，也就是 $o_{j= 1}$。此处，$o_j$ 值就是 $0.4$。 "
   ]
  },
  {
   "cell_type": "markdown",
   "metadata": {},
   "source": [
    "将这三项相乘，同时不要忘记表达式前的负号，最后我们得到结果为：$-0.0265$ 。"
   ]
  },
  {
   "cell_type": "markdown",
   "metadata": {},
   "source": [
    "如果学习率为 $0.1$，那么得出的改变量为 $- (0.1 \\times -0.02650)= + 0.002650$ 。因此，新的 $w_{1,1}$ 就是原来的 $2.0 + 0.00265 = 2.00265$。 "
   ]
  },
  {
   "cell_type": "markdown",
   "metadata": {},
   "source": [
    "虽然这是一个相当小的变化量，但权重经过成百上千次的迭代，最终就能训练出较好的模型。这样训练有素的神经网络就会生成与训练样本相同的输出。"
   ]
  },
  {
   "cell_type": "markdown",
   "metadata": {},
   "source": [
    "###  参数的选择与初始化"
   ]
  },
  {
   "cell_type": "markdown",
   "metadata": {},
   "source": [
    "在理解神经网络的传播原理后，我们要思考如何最好地准备训练数据，初始随机权重，甚至设计输出值，给训练过程一个成功的机会。 "
   ]
  },
  {
   "cell_type": "markdown",
   "metadata": {},
   "source": [
    "你没有看错！并不是所有使用神经网络的尝试都能够成功，这有许多原因。一些问题可以通过改进训练数据、初始权重、设计良好的输出方案来解决。让我们逐个讨论。"
   ]
  },
  {
   "cell_type": "markdown",
   "metadata": {},
   "source": [
    "####  输入"
   ]
  },
  {
   "cell_type": "markdown",
   "metadata": {},
   "source": [
    "仔细观察下图的 $S$ 激活函数。你可以发现，如果输入变大，激活函数就会变得非常平坦。"
   ]
  },
  {
   "cell_type": "markdown",
   "metadata": {},
   "source": [
    "<img  width=\"300px\" src=\"https://doc.shiyanlou.com/courses/uid1166617-20191217-1576567832966/wm\">"
   ]
  },
  {
   "cell_type": "markdown",
   "metadata": {},
   "source": [
    "又因为激活函数越平坦的地方斜率越小，则梯度越小。"
   ]
  },
  {
   "cell_type": "markdown",
   "metadata": {},
   "source": [
    "回头仔细观察关于权重变化的表达式。权重的改变取决于激活函数的梯度。小梯度意味着限制神经网络学习的能力。这就是所谓的饱和神经网络。这意味着，我们应该尽量保持小的输入。"
   ]
  },
  {
   "cell_type": "markdown",
   "metadata": {},
   "source": [
    "有趣的是，这个表达式也取决于输入信号$（o_j）$，因此，我们也不应该让输入信号太小。当计算机处理非常小或非常大的数字时，可能会丧失精度，因此，使用非常小的值也会出现问题。"
   ]
  },
  {
   "cell_type": "markdown",
   "metadata": {},
   "source": [
    "一个好的建议是重新调整输入值，将其范围控制在 $0.0$ 到 $1.0$ 。输入 $0$ 会将 $o_j$ 设置为  $0$ ，这样权重更新表达式就会等于 $0$，从而造成学习能力的丧失。因此在某些情况下，我们会将此输入加上一个小小的偏移，如 $0.01$ ，避免输入 $0$ 带来麻烦。"
   ]
  },
  {
   "cell_type": "markdown",
   "metadata": {},
   "source": [
    "#### 输出"
   ]
  },
  {
   "cell_type": "markdown",
   "metadata": {},
   "source": [
    "神经网络的输出是最后一层节点弹出的信号。如果我们使用的激活函数不能生成大于 $1$ 的值，那么尝试将训练目标值设置为比较大的值就有点愚蠢了。请记住，逻辑函数甚至不能取到 $1.0$ ，只能接近 $1.0$ 。数学家称之为渐近于 $1.0$ 。"
   ]
  },
  {
   "cell_type": "markdown",
   "metadata": {},
   "source": [
    "下图清楚地表明，逻辑激活函数的输出值根本不可能大于 1.0、小于 0。"
   ]
  },
  {
   "cell_type": "markdown",
   "metadata": {},
   "source": [
    "<img width=\"300px\" src = \"https://doc.shiyanlou.com/courses/uid1166617-20191217-1576569102597/wm\">"
   ]
  },
  {
   "cell_type": "markdown",
   "metadata": {},
   "source": [
    "如果我们将目标值设置在这些不可能达到的范围，训练网络将会驱使更大的权重，以获得越来越大的输出。而这些输出实际上是不可能由激活函数生成的。这使得网络饱和，这种情况是很糟糕的。"
   ]
  },
  {
   "cell_type": "markdown",
   "metadata": {},
   "source": [
    "因此，我们应该重新调整目标值，匹配激活函数可能的输出，注意避开激活函数不可能达到的值。"
   ]
  },
  {
   "cell_type": "markdown",
   "metadata": {},
   "source": [
    "虽然，常见的使用范围为 $0.0～1.0$，但是由于 $0.0$ 和 $1.0$ 这两个数也不可能是目标值，并且有驱动产生过大的权重的风险，因此一些人也使用 $0.01～0.99$ 的范围。 "
   ]
  },
  {
   "cell_type": "markdown",
   "metadata": {},
   "source": [
    "#### 随机初始权重"
   ]
  },
  {
   "cell_type": "markdown",
   "metadata": {},
   "source": [
    "与输入和输出一样，同样的道理也适用于初始权重的设置。由于大的初始权重会造成大的信号传递给激活函数，导致网络饱和，从而降低网络学习到更好的权重的能力，因此应该避免大的初始权重值。"
   ]
  },
  {
   "cell_type": "markdown",
   "metadata": {},
   "source": [
    "我们可以从 $-1.0～+1.0$ 之间随机均匀地选择初始权重。比起使用非常大的范围，比如说 $-1000～+1000$，这是一个好得多的思路。"
   ]
  },
  {
   "cell_type": "markdown",
   "metadata": {},
   "source": [
    "那么，我们能做得更好吗？"
   ]
  },
  {
   "cell_type": "markdown",
   "metadata": {},
   "source": [
    "对于特定形状的网络和激活函数，数学家和计算机科学家曾进行过数学计算，制定出了经验法则，用以设置随机初始权重。"
   ]
  },
  {
   "cell_type": "markdown",
   "metadata": {},
   "source": [
    "在此处，我们不纠结于计算细节，其核心思想是，如果很多信号进入一个节点，并且这些信号的表现已经不错了，不会太大，也不会分布得奇奇怪怪，那么在对这些信号进行组合并应用激活函数时，权重应该支持保持这些表现良好的信号。"
   ]
  },
  {
   "cell_type": "markdown",
   "metadata": {},
   "source": [
    "换句话说，我们可以在一个节点传入链接数量平方根倒数的大致范围内随机采样，用以初始化权重。例如，如果每个节点具有 $3$ 条传入链接，那么初始权重的范围应该在从 $- \\frac{1}{\\sqrt{3}}$ 到 $+ \\frac{1}{\\sqrt{3}}$ ，即 $± 0.577$ 之间。如果每个节点具有 $100$ 条传入链接，那么权重的范围应该在 $±0.1$ 之间。"
   ]
  },
  {
   "cell_type": "markdown",
   "metadata": {},
   "source": [
    "这样做是有意义的。一些过大的初始权重将会在偏置方向上偏置激活函数。并且非常大的权重将会使激活函数饱和。因为，一个节点的传入链接越多，就有越多的信号被叠加在一起，那么和就会越大。所以，我们初始化使的每个链接的权重大小范围与其所连接的点的链接数有关。"
   ]
  },
  {
   "cell_type": "markdown",
   "metadata": {},
   "source": [
    "如果你已经熟悉从概率分布中进行采样的思想，那么这一经验法则实际上讲的是，从均值为 0 、标准方差等于节点传入链接数量平方根倒数的正态分布中进行采样。"
   ]
  },
  {
   "cell_type": "markdown",
   "metadata": {},
   "source": [
    "下图总结了简单的方法和比较复杂的正态分布方法。"
   ]
  },
  {
   "cell_type": "markdown",
   "metadata": {},
   "source": [
    "<img width=\"300px\" src=\"https://doc.shiyanlou.com/courses/uid1166617-20191217-1576569678362/wm\">"
   ]
  },
  {
   "cell_type": "markdown",
   "metadata": {},
   "source": [
    "### 实验总结"
   ]
  },
  {
   "cell_type": "markdown",
   "metadata": {},
   "source": [
    "- 如果输入、输出和初始权重数据的准备与网络设计和实际求解的问题不匹配，那么神经网络并不能很好地工作。\n",
    "- 大信号（这有时候是由大权重带来的）可能导致应用在信号上的激活函数的斜率变得非常平缓，进而降低神经网络学习到更好权重的能力。\n",
    "- 零值信号或零值权重。这也可以使网络丧失学习更好权重的能力。\n",
    "- 输入应该调整到较小值，但不能为零。一个常见的范围为 0.01～0.99，或 -1.0～1.0 ，使用哪个范围，取决于是否匹配了问题。\n",
    "- 输出应该在激活函数能够生成的值的范围内。逻辑 S 函数是不可能生成小于等于 0 或大于等于 1 的值。将训练目标值设置在有效的范围之外，将会驱使产生越来越大的权重，导致网络饱和。一个合适的范围为 0.01～0.99 。"
   ]
  },
  {
   "cell_type": "markdown",
   "metadata": {},
   "source": [
    "<hr><div style=\"color: #999; font-size: 12px;\"><i class=\"fa fa-copyright\" aria-hidden=\"true\"> 本课程内容版权归实验楼所有，禁止转载、下载及非法传播。</i></div>"
   ]
  }
 ],
 "metadata": {
  "kernelspec": {
   "display_name": "Python 3",
   "language": "python",
   "name": "python3"
  },
  "language_info": {
   "codemirror_mode": {
    "name": "ipython",
    "version": 3
   },
   "file_extension": ".py",
   "mimetype": "text/x-python",
   "name": "python",
   "nbconvert_exporter": "python",
   "pygments_lexer": "ipython3",
   "version": "3.7.0"
  }
 },
 "nbformat": 4,
 "nbformat_minor": 2
}
