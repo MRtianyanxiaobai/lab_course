{
 "cells": [
  {
   "cell_type": "markdown",
   "metadata": {},
   "source": [
    "## 多分类器与神经网络"
   ]
  },
  {
   "cell_type": "markdown",
   "metadata": {},
   "source": [
    "---"
   ]
  },
  {
   "cell_type": "markdown",
   "metadata": {},
   "source": [
    "#### 介绍"
   ]
  },
  {
   "cell_type": "markdown",
   "metadata": {},
   "source": [
    "本实验，着重分析了上一个实验中的分类器的局限性，并且提出来多分类器的概念。然后通过这个概念，引入神经网络。从神经网络的起源出发，详解介绍了神经网络的结构，激活函数引入的目的以及模型训练的本质。"
   ]
  },
  {
   "cell_type": "markdown",
   "metadata": {},
   "source": [
    "#### 知识点"
   ]
  },
  {
   "cell_type": "markdown",
   "metadata": {},
   "source": [
    "- 线性分类器的局限\n",
    "- 激活函数的意义\n",
    "- 神经网络的起源\n",
    "- 神经网络的结构\n",
    "- 模型训练的本质\n",
    "- 全连接的意义"
   ]
  },
  {
   "cell_type": "markdown",
   "metadata": {},
   "source": [
    "---"
   ]
  },
  {
   "cell_type": "markdown",
   "metadata": {},
   "source": [
    "### 线性分类器的局限性"
   ]
  },
  {
   "cell_type": "markdown",
   "metadata": {},
   "source": [
    "上次实验中，我们展示了简单的预测器和分类器。正如我们刚才所观察到的，这些预测器和分类器，接受了某个输入，进行了一些计算，然后抛出了一个答案。虽然这些预测器和分类器行之有效，却不足以求解一些更有趣的问题，而我们希望应用神经网络来求解这些问题。 "
   ]
  },
  {
   "cell_type": "markdown",
   "metadata": {},
   "source": [
    "此处，我们将使用一个简单而鲜明的实例，来说明线性分类器的局限性。我们为什么要说明线性分类器的局限性，而不直接跳转到讨论神经网络呢？原因就是，神经网络的一个重要的设计特征来源于对这个局限性的理解，因此值得花一些时间来讨论这个局限性。"
   ]
  },
  {
   "cell_type": "markdown",
   "metadata": {},
   "source": [
    "我们不再讨论花园里的小虫。现在，我们来观察布尔逻辑函数。也就是常说的 AND、OR 等"
   ]
  },
  {
   "cell_type": "markdown",
   "metadata": {},
   "source": [
    "如果我们说“如果今天是周末，OR（或）今天是你的年假，那么你就可以在公园里玩”。这里，我们使用了布尔 OR 函数。如果这些条件有任何一个为真或全部为真，那么布尔 OR 函数为真。这无需像布尔 AND 函数一样，必须两个条件都为真。因此，即使“这不是周末”，但是“我已经申请了年假，我一样可以去公园玩”。"
   ]
  },
  {
   "cell_type": "markdown",
   "metadata": {},
   "source": [
    "正如上一个试验所述，我们将这些函数视为机器，这些机器接受了一些输入，做了一些工作，并输出答案。布尔逻辑函数通常需要两个输入，并输出一个答案。"
   ]
  },
  {
   "cell_type": "markdown",
   "metadata": {},
   "source": [
    "<img width=\"500px\" src=\"https://doc.shiyanlou.com/courses/uid1166617-20191206-1575624919080/wm\">"
   ]
  },
  {
   "cell_type": "markdown",
   "metadata": {},
   "source": [
    "计算机通常使用数字 1 表示真，使用数字 0 表示假。下列的表格使用这种相对简洁的表示方法，基于输入值 A 和输入值 B 的所有组合，表示了逻辑 AND 和 OR 函数。 "
   ]
  },
  {
   "cell_type": "markdown",
   "metadata": {},
   "source": [
    "| 输入值A | 输入值B | 逻辑AND | 逻辑OR |\n",
    "|:-------:|:-------:|:-------:|:------:|\n",
    "|    0    |    0    |    0    |    0   |\n",
    "|    0    |    1    |    0    |    1   |\n",
    "|    1    |    0    |    0    |    1   |\n",
    "|    1    |    1    |    1    |    1   |"
   ]
  },
  {
   "cell_type": "markdown",
   "metadata": {},
   "source": [
    "你可以很清楚地看到，只有 A 和 B 同时为真时，AND 函数才为真。同样，你也可以看到，只要 A 和 B 有一个为真时，OR 就为真。"
   ]
  },
  {
   "cell_type": "markdown",
   "metadata": {},
   "source": [
    "在计算机科学中，布尔逻辑函数非常重要。事实上，最早的电子计算机就是使用执行这些逻辑函数的微电路构造的。即使是算术，也是使用这些本身很简单的布尔逻辑函数的电路组合来完成的。 "
   ]
  },
  {
   "cell_type": "markdown",
   "metadata": {},
   "source": [
    "想象一下，不论数据是否由布尔逻辑函数控制，使用简单的线性分类器就可以从训练数据中学习。对于试图在一些观察和另一些观察之间找到因果关系或相关关系的科学家而言，这是很自然也是很有用的一种工具。例如，下雨天并且 （AND） 当天温度高于 35 摄氏度时，会出现更多疟疾病人吗？当这两个条件（布尔OR）有任何一个条件为真时，会出现更多疟疾病人吗？"
   ]
  },
  {
   "cell_type": "markdown",
   "metadata": {},
   "source": [
    "请看下图，这幅图在坐标系中显示了两个输入值 A 和 B 的 AND 关系。当 A 和 B 都为真时，则输出为真，用绿色表示。否则输出为假，用红色表示。"
   ]
  },
  {
   "cell_type": "markdown",
   "metadata": {},
   "source": [
    "<img width=\"250px\" src=\"https://doc.shiyanlou.com/courses/uid1166617-20191206-1575625097567/wm\">"
   ]
  },
  {
   "cell_type": "markdown",
   "metadata": {},
   "source": [
    "你还可以看到一条直线，将绿色区域和红色区域划分开来。正如我们先前完成的演示，这条直线是线性分类器可以学习到的一个线性函数。"
   ]
  },
  {
   "cell_type": "markdown",
   "metadata": {},
   "source": [
    "事实上，有许多不同的分界线，也可以很好地对区域进行划分，但是，最重要的一点是，对于形如 $y = ax + b$ 的简单的线性分类器，确实可以学习到布尔 AND 函数。 "
   ]
  },
  {
   "cell_type": "markdown",
   "metadata": {},
   "source": [
    "现在，使用类似的方式绘制出的布尔 OR 函数："
   ]
  },
  {
   "cell_type": "markdown",
   "metadata": {},
   "source": [
    "<img width=\"250px\" src=\"https://doc.shiyanlou.com/courses/uid1166617-20191206-1575625225497/wm\">"
   ]
  },
  {
   "cell_type": "markdown",
   "metadata": {},
   "source": [
    "此时只有 0 OR 0 为假，因此只有点 （0,0） 为红色。"
   ]
  },
  {
   "cell_type": "markdown",
   "metadata": {},
   "source": [
    "所有其他的组合，A 和 B 中至少有一个为真，因此输出为真。这幅图的妙处在于，它清楚地表明了线性分类器也可以学习到布尔 OR 函数。"
   ]
  },
  {
   "cell_type": "markdown",
   "metadata": {},
   "source": [
    "还有另一种布尔函数称为 XOR，这是 eXclusive OR（异或）的缩写，这种函数只有在 A 或 B 仅有一个为真但两个输入不同时为真的情况下，才输出为真。也就是说，当两个输入都为假或都为真时，输出为假。下表总结了这一点。"
   ]
  },
  {
   "cell_type": "markdown",
   "metadata": {},
   "source": [
    "<img width=\"500px\" src=\"https://doc.shiyanlou.com/courses/uid1166617-20191206-1575625015556/wm\">"
   ]
  },
  {
   "cell_type": "markdown",
   "metadata": {},
   "source": [
    "现在，观察这个函数的图，其中网格节点上的输出已经画上了相应的颜色。 "
   ]
  },
  {
   "cell_type": "markdown",
   "metadata": {},
   "source": [
    "<img width=\"250px\" src=\"https://doc.shiyanlou.com/courses/uid1166617-20191206-1575625445132/wm\">"
   ]
  },
  {
   "cell_type": "markdown",
   "metadata": {},
   "source": [
    "这是一个挑战！我们似乎不能只用一条单一的直线将红色区域和蓝色区域划分开来。"
   ]
  },
  {
   "cell_type": "markdown",
   "metadata": {},
   "source": [
    "事实上，对于布尔 XOR 函数而言，不可能使用一条单一的直线成功地将红色区域和蓝色区域划分开来。也就是说，如果出现的是由 XOR 函数支配的训练数据，那么一个简单的线性分类器无法学习到布尔 XOR 函数。"
   ]
  },
  {
   "cell_type": "markdown",
   "metadata": {},
   "source": [
    "这就是简单的线性分类器的一个主要的限制。"
   ]
  },
  {
   "cell_type": "markdown",
   "metadata": {},
   "source": [
    "好在解决的办法很容易，如下图所示，我们可以使用两条直线对不同的区域进行划分。也就是说，我们可以使用多个分类器一起工作。这是神经网络的核心思想。你可以想象，多条直线可以分离出异常形状的区域，并对各个区域进行分类。 "
   ]
  },
  {
   "cell_type": "markdown",
   "metadata": {},
   "source": [
    "<img width=\"250px\" src=\"https://doc.shiyanlou.com/courses/uid1166617-20191206-1575625490278/wm\">"
   ]
  },
  {
   "cell_type": "markdown",
   "metadata": {},
   "source": [
    "在我们深入探讨由多个分类器组合所构建的神经网络之前，让我们回归自然来观察动物的大脑，这些动物的大脑启发了神经网络的方法。 "
   ]
  },
  {
   "cell_type": "markdown",
   "metadata": {},
   "source": [
    "### 神经元"
   ]
  },
  {
   "cell_type": "markdown",
   "metadata": {},
   "source": [
    "此前，我们曾表示，虽然一些计算机拥有大量的电子计算元件、巨大的存储空间，并且这些计算机的运行频率比肉蓬蓬、软绵绵的生物大脑要快得多，但是即使是像鸽子一样小的大脑，其能力也远远大于这些电子计算机，这使得科学家们对动物的大脑迷惑不解。"
   ]
  },
  {
   "cell_type": "markdown",
   "metadata": {},
   "source": [
    "让我们来观察生物大脑中的基本单元——神经元。 "
   ]
  },
  {
   "cell_type": "markdown",
   "metadata": {},
   "source": [
    "<img width=\"400px\" src=\"https://doc.shiyanlou.com/courses/uid1166617-20191209-1575858635125/wm\">"
   ]
  },
  {
   "cell_type": "markdown",
   "metadata": {},
   "source": [
    "虽然神经元有各种形式，但是所有的神经元都是通过轴突，将电信号从一段传递到另外一端的过程。这就是身体感知光、声、触压、热等信号的机制。来自专门的感觉神经元的信号沿着神经系统，传输到大脑，而大脑本身主要也是由神经元构成的。"
   ]
  },
  {
   "cell_type": "markdown",
   "metadata": {},
   "source": [
    "下面是由西班牙神经学家在 1899 年绘制的鸽子大脑的神经元草图。你可以看到关键部件——树突和终端。"
   ]
  },
  {
   "cell_type": "markdown",
   "metadata": {},
   "source": [
    "我们需要多少个神经元才能执行相对复杂的有趣任务呢？"
   ]
  },
  {
   "cell_type": "markdown",
   "metadata": {},
   "source": [
    "一般说来，能力非常强的人类大脑有大约 1000 亿个神经元！一只果蝇拥有约 10 万个神经元，能够飞翔、觅食、躲避危险、寻找食物以及执行许多相当复杂的任务。10 万个神经元，这个数字恰好落在了现代计算机试图复制的范围内。一只线虫仅仅具有 302 个神经元，与今天的数字计算机资源相比，简直就是微乎其微！但是一只线虫能够完成一些相当有用的任务，而这任务对于尺寸大得多的传统计算机程序而言却难以完成。"
   ]
  },
  {
   "cell_type": "markdown",
   "metadata": {},
   "source": [
    "那么，其中有什么秘密吗？生物的大脑要慢得多，并且比起现代计算机，其计算元件相对较少，但是为什么生物的大脑却有如此能力呢？"
   ]
  },
  {
   "cell_type": "markdown",
   "metadata": {},
   "source": [
    "因此，让我们来看看一个神经元是如何工作的。它接受了一个电输入，输出另一个电信号。这看起来，与我们先前所观察的分类或预测的机器一模一样，这些机器也是接受了一个输入，进行一些处理，然后弹出一个输出。"
   ]
  },
  {
   "cell_type": "markdown",
   "metadata": {},
   "source": [
    "因此，我们可以与以前一样，将神经元表示为线性函数吗？虽然这是个好主意，但是不可以这样做。生物神经元与简单的线性函数不一样，不能简单地对输入做出的响应，生成输出。也就是说，它的输出不能采用这种形式： 输出 = （ 常数 * 输入） + （ 另一常数）。 \n"
   ]
  },
  {
   "cell_type": "markdown",
   "metadata": {},
   "source": [
    "实验表明，神经元不会立即反应，而是会抑制输入，直到输入增强，强大到可以触发输出。你可以这样认为，在产生输出之前，输入必须到达一个阈值。就像水在杯中一样，只有水装满了杯子，才可能溢出。直观上，这是有道理的——神经元不希望传递微小的噪声信号，而只是传递有意识的明显信号。下图说明了这种思想，只有输入超过了阈值（ Threshold ），足够接通电路，才会产生输出信号。 "
   ]
  },
  {
   "cell_type": "markdown",
   "metadata": {},
   "source": [
    "<img width=\"300px\" src=\"https://doc.shiyanlou.com/courses/uid1166617-20191209-1575859556303/wm\">"
   ]
  },
  {
   "cell_type": "markdown",
   "metadata": {},
   "source": [
    "我们将这种考虑了阈值的函数称之为激活函数。在数学上，有许多激活函数可以达到这样的效果。一个简单的阶跃函数可以实现这种效果。"
   ]
  },
  {
   "cell_type": "markdown",
   "metadata": {},
   "source": [
    "<img width=\"300px\" src=\"https://doc.shiyanlou.com/courses/uid1166617-20191209-1575859693690/wm\">"
   ]
  },
  {
   "cell_type": "markdown",
   "metadata": {},
   "source": [
    "你可以看到，在输入值较小的情况下，输出为零。然而，一旦输入达到阈值，输出就一跃而起。具有这种行为的人工神经元就像一个真正的生物神经元。科学家所使用的术语实际上非常形象地描述了这种行为，他们说，输入达到阈值时，神经元就激发了。"
   ]
  },
  {
   "cell_type": "markdown",
   "metadata": {},
   "source": [
    "我们可以改进阶跃函数。下图所示的 S 形函数称为 S 函数（Sigmoid Function）。这个函数，比起冷冰冰、硬邦邦的阶跃函数要相对平滑，这使得这个函数更自然、更接近现实。自然界很少有冰冷尖锐的边缘！"
   ]
  },
  {
   "cell_type": "markdown",
   "metadata": {},
   "source": [
    "<img width=\"300px\" src=\"https://doc.shiyanlou.com/courses/uid1166617-20191209-1575860222394/wm\">"
   ]
  },
  {
   "cell_type": "markdown",
   "metadata": {},
   "source": [
    "我们将继续使用这种平滑的 S 形函数制作神经网络。虽然人工智能研究人员还使用其他外形类似的函数，但是 S 函数简单且常见，因此 S 函数对我们非常重要。"
   ]
  },
  {
   "cell_type": "markdown",
   "metadata": {},
   "source": [
    "S 函数，有时也称为逻辑函数： "
   ]
  },
  {
   "cell_type": "markdown",
   "metadata": {},
   "source": [
    "<img width=\"400px\" src=\"https://doc.shiyanlou.com/courses/uid1166617-20191209-1575860330606/wm\">"
   ]
  },
  {
   "cell_type": "markdown",
   "metadata": {},
   "source": [
    "这个表达式乍看来比较可怕，其实也是“纸老虎”。字母 $e$ 是数学常数 $2.71828 ……$，这是一个非常有趣的数字，出现在各种数学和物理学领域，我使用省略号的原因是，这是一个无限不循环小数。这样的数字有一个奇特的名字——超越数（ Transcendental Number ）。这很有趣，很好玩吧，但是出于我们的目的，你可以把它当作 $2.71828$。上面那个看起来有点可怕的函数的主要流程如下："
   ]
  },
  {
   "cell_type": "markdown",
   "metadata": {},
   "source": [
    "- 先对输入 $x$ 取反，计算出 $e$ 的 $-x$ 次方。\n",
    "- 然后，将所得到的结果加 $1$ ，得到 $1 + e^{ -x}$ 。\n",
    "- 最后，对整个结果取倒数，也就是 $1$ 除以 $( 1+e^ {-x}) $ ，做为输出值 $y$ 给出。"
   ]
  },
  {
   "cell_type": "markdown",
   "metadata": {},
   "source": [
    "这就是上面那个看起来有点可怕的函数，它对输入的 $x$ 进行操作，然后给出输出值 y 。因此，这没有那么可怕。"
   ]
  },
  {
   "cell_type": "markdown",
   "metadata": {},
   "source": [
    "出于兴趣，由于任何数的 $0$ 次方都等于 $1$，因此当 $x$ 为 $0$ 时，$e^{ -x}$ 为 1 。因此 $y$ 变成了 $\\frac{1}{1+1}$  ，为 $\\frac{1}{2}$ 。此时，基本 S 形函数在 $y = \\frac{1}{2} $ 时，对 $y$ 轴进行切分。"
   ]
  },
  {
   "cell_type": "markdown",
   "metadata": {},
   "source": [
    "我们使用这种 S 函数，而不使用其他可以用于神经元输出的 S 形函数，还有另一个非常重要的原因。那就是，这个 S 函数比起其他 S 形函数计算起来容易得多，在后面的实践中，我们会看到为什么。"
   ]
  },
  {
   "cell_type": "markdown",
   "metadata": {},
   "source": [
    "让我们回到神经元，读者要认识到的第一件事情是生物神经元可以接受许多输入，而不仅仅是一个输入。刚才，我们发现了布尔逻辑机器可以有两个输入，因此，有多个输入的想法并不新鲜，并非不同寻常。"
   ]
  },
  {
   "cell_type": "markdown",
   "metadata": {},
   "source": [
    "面对这么多的输入，我们该做些什么呢？我们只需对它们进行相加，得到最终总和，作为S函数的输入，然后输出结果即可。这实际上反映了神经元的工作机制。下图说明了这种组合输入，然后对最终输入总和使用阈值的思路。"
   ]
  },
  {
   "cell_type": "markdown",
   "metadata": {},
   "source": [
    "<img width=\"600px\" src=\"https://doc.shiyanlou.com/courses/uid1166617-20191209-1575861012152/wm\">"
   ]
  },
  {
   "cell_type": "markdown",
   "metadata": {},
   "source": [
    "如果组合的信号还是不够强大，那么 $S$ 阈值函数就会抑制输出信号。如果总和 $x$ 足够大，$S$ 函数就会激发神经元。有趣的是，如果其中只有一个输入足够大，其他输入都很小，那么这也可能激发神经元。更重要的是，如果输入中每一个神经元都一般大，但不是非常大，这样的信号组合也会非常大，也能超过阈值，激发神经元。这就给读者带来了一种直观的感觉，即这些神经元也可以进行一些相对复杂、在某种意义上有点模糊的计算。"
   ]
  },
  {
   "cell_type": "markdown",
   "metadata": {},
   "source": [
    "树突收集了这些电信号，将其组合成更强的电信号。如果信号足够强，超过阈值，神经元就会发射信号，沿着轴突，到达终端，将信号传递给下一个神经元的树突。下图显示了使用这种方式连接的若干神经元。"
   ]
  },
  {
   "cell_type": "markdown",
   "metadata": {},
   "source": [
    "<img width=\"400px\" src=\"https://doc.shiyanlou.com/courses/uid1166617-20191209-1575861313373/wm\">"
   ]
  },
  {
   "cell_type": "markdown",
   "metadata": {},
   "source": [
    "需要注意的一点是，每个神经元接受多个神经元的输入，并且如果神经元被激发了，它也同时提供信号给更多的神经元。"
   ]
  },
  {
   "cell_type": "markdown",
   "metadata": {},
   "source": [
    "将这种自然形式复制到人造模型：构建多层神经元，每一层中的神经元都与在其前后层的神经元互相连接。下图详细描述了这种思想。"
   ]
  },
  {
   "cell_type": "markdown",
   "metadata": {},
   "source": [
    "<img width=\"400px\" src=\"https://doc.shiyanlou.com/courses/uid1166617-20191209-1575870407705/wm\">"
   ]
  },
  {
   "cell_type": "markdown",
   "metadata": {},
   "source": [
    "你可以看到三层神经元，每一层有三个人工神经元或节点。你还可以看到每个节点都与前一层或后续层的其他每一个节点互相连接。"
   ]
  },
  {
   "cell_type": "markdown",
   "metadata": {},
   "source": [
    "但是，在这个很酷的体系架构中，哪一部分能够执行学习功能呢？针对训练样本，我们应该如何调整做出反应呢？有没有和先前线性分类器中的斜率类似的参数供我们调整呢？"
   ]
  },
  {
   "cell_type": "markdown",
   "metadata": {},
   "source": [
    "最明显的一点就是调整节点之间的连接强度。在一个节点内，我们可以调整输入的总和或 S 阈值函数的形状，但是比起简单地调整节点之间的连接强度，调整 S 阈值函数的形状要相对复杂。 "
   ]
  },
  {
   "cell_type": "markdown",
   "metadata": {},
   "source": [
    "如果相对简单的方法可以工作，那么请坚持这种方法！下图再一次显示了连接的节点，但是这次在每个连接上显示了相关的权重。较小的权重将弱化信号，而较大的权重将放大信号。"
   ]
  },
  {
   "cell_type": "markdown",
   "metadata": {},
   "source": [
    "<img width=\"400px\" src=\"https://doc.shiyanlou.com/courses/uid1166617-20191209-1575870672890/wm\">"
   ]
  },
  {
   "cell_type": "markdown",
   "metadata": {},
   "source": [
    "如上图所示，权重 $w_{1,2}$ 可以减小或放大从上一层的 $1$ 节点  传递到下一层的 $2$ 节点的信号的强度。"
   ]
  },
  {
   "cell_type": "markdown",
   "metadata": {},
   "source": [
    "当然，你可能有充分的理由来挑战这种设计，质问为什么必须把前后层的每一个神经元与所有其他层的神经元互相连接，并且你甚至可以提出各种创造性的方式将这些神经元连接起来。"
   ]
  },
  {
   "cell_type": "markdown",
   "metadata": {},
   "source": [
    "我们不采用创造性的方式将神经元连接起来，原因有两点:"
   ]
  },
  {
   "cell_type": "markdown",
   "metadata": {},
   "source": [
    "- 这种完全连接形式事实上可以相对容易地编码成计算机指令。\n",
    "- 神经网络的学习过程将会弱化这些实际上不需要的连接（也就是将那些没有用的连接的权重置为 0 ），因此全部相连的结构无伤大雅。"
   ]
  },
  {
   "cell_type": "markdown",
   "metadata": {},
   "source": [
    "因此可以说，神经网络的训练其实就是通过调整优化网络内部的权重而进而改善输出的过程。"
   ]
  },
  {
   "cell_type": "markdown",
   "metadata": {},
   "source": [
    "在这个过程中，有些权重可能会变为零或接近于零。变成零或接近零的权重意味着这些链接对网络的贡献为零。因为零权重乘以任何数都为零。那么这些信号在神经元中，具体是怎样变化的呢？他们何时应该增大，何时又应该减小呢？下一个实验，我们会具体解答这些问题。"
   ]
  },
  {
   "cell_type": "markdown",
   "metadata": {},
   "source": [
    "### 实验总结"
   ]
  },
  {
   "cell_type": "markdown",
   "metadata": {},
   "source": [
    "- 如果数据本身不是由单一线性过程支配，那么一个简单的线性分类器不能对数据进行划分。但是解决方案很容易，你只需要使用多个线性分类器来划分由单一直线无法分离的数据。 \n",
    "- 由互相连接的神经元组成的生物大脑是人工神经网络的灵感来源。\n",
    "- 可以通过 S 函数很好的抑制，激活神经元。"
   ]
  },
  {
   "cell_type": "markdown",
   "metadata": {},
   "source": [
    "<hr><div style=\"color: #999; font-size: 12px;\"><i class=\"fa fa-copyright\" aria-hidden=\"true\"> 本课程内容版权归实验楼所有，禁止转载、下载及非法传播。</i></div>"
   ]
  }
 ],
 "metadata": {
  "kernelspec": {
   "display_name": "Python 3",
   "language": "python",
   "name": "python3"
  },
  "language_info": {
   "codemirror_mode": {
    "name": "ipython",
    "version": 3
   },
   "file_extension": ".py",
   "mimetype": "text/x-python",
   "name": "python",
   "nbconvert_exporter": "python",
   "pygments_lexer": "ipython3",
   "version": "3.7.0"
  }
 },
 "nbformat": 4,
 "nbformat_minor": 2
}
