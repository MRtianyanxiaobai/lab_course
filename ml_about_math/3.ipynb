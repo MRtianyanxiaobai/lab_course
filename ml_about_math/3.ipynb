{
 "cells": [
  {
   "cell_type": "markdown",
   "metadata": {},
   "source": [
    "## 概率论和统计学"
   ]
  },
  {
   "cell_type": "markdown",
   "metadata": {},
   "source": [
    "-----------------"
   ]
  },
  {
   "cell_type": "markdown",
   "metadata": {},
   "source": [
    "#### 介绍"
   ]
  },
  {
   "cell_type": "markdown",
   "metadata": {},
   "source": [
    "概率论是一种用于表示不确定性声明的数学框架。很多机器学习算法的设计都会依赖于对数据的概率假设。同样，我们还可以使用概率和统计的相关知识，从理论上分析我们提出的 AI 系统的行为。 本实验主要是对机器学习中常用的概率论和统计学习方法进行讲述。"
   ]
  },
  {
   "cell_type": "markdown",
   "metadata": {},
   "source": [
    "#### 知识点"
   ]
  },
  {
   "cell_type": "markdown",
   "metadata": {},
   "source": [
    "- 概率公式\n",
    "- 随机变量\n",
    "- 概率分布\n",
    "- 数学期望\n",
    "- 方差、标准差和协方差\n",
    "- 假设检验"
   ]
  },
  {
   "cell_type": "markdown",
   "metadata": {},
   "source": [
    "---"
   ]
  },
  {
   "cell_type": "markdown",
   "metadata": {},
   "source": [
    "### 概率论的三大公式"
   ]
  },
  {
   "cell_type": "markdown",
   "metadata": {},
   "source": [
    "概率论是一种用于表示不确定性声明的数学框架。很多机器学习算法的设计都会依赖于对数据的概率假设。同样我们还可以使用概率和统计的相关知识，从理论上分析我们提出的 AI 系统的行为。接下来，让我们介绍一下概率论中最为重要的几个概率公式。"
   ]
  },
  {
   "cell_type": "markdown",
   "metadata": {},
   "source": [
    "#### 条件概率"
   ]
  },
  {
   "cell_type": "markdown",
   "metadata": {},
   "source": [
    "条件概率即在某个条件之下的概率。如当事件 A 发生时，事件 B 发生的概率就可以被称作条件概率，记作 P(B|A)。又比如，给定条件 $x = a$ 时,$y=b$ 的概率就是条件概率，记作 $P(y=b|x=a)$。括号中竖线右边记录着条件，左边记录着结果。"
   ]
  },
  {
   "cell_type": "markdown",
   "metadata": {},
   "source": [
    "条件概率 $P(B|A)$ 的计算公式如下："
   ]
  },
  {
   "cell_type": "markdown",
   "metadata": {},
   "source": [
    "$$P(B|A)=\\frac{P(AB)}{P(A)}$$"
   ]
  },
  {
   "cell_type": "markdown",
   "metadata": {},
   "source": [
    "举个例子，一个盒子里混有 100 只新旧乒乓球，且这些乒乓球中有红色和黄色两种。分类如下："
   ]
  },
  {
   "cell_type": "markdown",
   "metadata": {},
   "source": [
    "|    | 黄色 | 白色 |\n",
    "| -- | ---- | ---- |\n",
    "| 新 | 40   | 30   |\n",
    "| 旧 | 20   | 10   |"
   ]
  },
  {
   "cell_type": "markdown",
   "metadata": {},
   "source": [
    "如果我从盒子中取出了一个球，已知该球为 黄色，那么请问该球为新球的概率是多少呢？"
   ]
  },
  {
   "cell_type": "markdown",
   "metadata": {},
   "source": [
    "我们可以从上表看出，这个黄色球为新球的概率为$ P=\\frac{40}{60}$（因为已经知道是黄色了，所以分母为 60）。"
   ]
  },
  {
   "cell_type": "markdown",
   "metadata": {},
   "source": [
    "当然，我们也可以使用上面讲到的条件概率的方法："
   ]
  },
  {
   "cell_type": "markdown",
   "metadata": {},
   "source": [
    "设事件 A ={从盒子中随机取一个球，该球为黄球}，则根据上表可得 $P(A) =\\frac{30+40}{100}=\\frac{60}{100} $。\n"
   ]
  },
  {
   "cell_type": "markdown",
   "metadata": {},
   "source": [
    "设事件 B ={从盒子中随机取一个球，该球是新球}，则根据上表可知，取出的球为黄色新球的概率为：$P(AB)=\\frac{40}{100}$。"
   ]
  },
  {
   "cell_type": "markdown",
   "metadata": {},
   "source": [
    "则取出一个球为黄色球，那么该球也为新球的概率如下："
   ]
  },
  {
   "cell_type": "markdown",
   "metadata": {},
   "source": [
    "$$P(B|A)=\\frac{P(AB)}{P(A)}=\\frac{{40}/{100}}{{60}/{100}}=\\frac{40}{60}$$"
   ]
  },
  {
   "cell_type": "markdown",
   "metadata": {},
   "source": [
    "请注意，这里的事件 $P(AB)\\neq P(A)\\times P(B)$，因为事件 A 和事件 B 不独立。"
   ]
  },
  {
   "cell_type": "markdown",
   "metadata": {},
   "source": [
    "#### 全概率公式"
   ]
  },
  {
   "cell_type": "markdown",
   "metadata": {},
   "source": [
    "定义：设 $A_1,A_2,...A_n$，为一列互不相容的事件且 $A_1 \\cup A_2 \\cup,... \\cup A_n=\\Omega$，则对任意事件 B，都存在如下关系："
   ]
  },
  {
   "cell_type": "markdown",
   "metadata": {},
   "source": [
    "$$P(B)=\\sum_{i=1}^nP(A_i)P(B|A_i) $$"
   ]
  },
  {
   "cell_type": "markdown",
   "metadata": {},
   "source": [
    "全概率公式可以通过下图进行解释："
   ]
  },
  {
   "cell_type": "markdown",
   "metadata": {},
   "source": [
    "<img width=\"400px\" src=\"https://doc.shiyanlou.com/courses/2316/1166617/aba4a79c6f6ada95881acca6263a26d0-0/wm\">"
   ]
  },
  {
   "cell_type": "markdown",
   "metadata": {},
   "source": [
    "当我们直接求取 P(B) 非常困难时，我们可以将事件 B 分成多个部分:\n",
    "$$ P(B) = P(A_1B)+ P(A_2B)+P(A_3B)+P(A_4B)+P(A_5B)$$"
   ]
  },
  {
   "cell_type": "markdown",
   "metadata": {},
   "source": [
    "然后再根据条件概率公式,将上列式子转换一下：\n",
    "\n",
    "$$P(B)=\\sum_{i=1}^nP(A_iB) =\\sum_{i=1}^nP(A_i)P(B|A_i) $$"
   ]
  },
  {
   "cell_type": "markdown",
   "metadata": {},
   "source": [
    "这就是全概率公式的来历。该公式的主要思想就是，在计算 P(A) 较困难时，我们可以通过将事件 A 分解成几个小事件，通过计算小事件的概率，然后相加，进而求得大事件的概率。"
   ]
  },
  {
   "cell_type": "markdown",
   "metadata": {},
   "source": [
    "举一个简单的例子，假设某车间使用甲、乙、丙、丁四台机床。各个机床的次品率分别为 5%，4%，3%，3.5%，且它们各自的产品占了总产量的 20%，35%，25%，20%。现在把它们混在一起，问随机取出一个产品为次品的概率。"
   ]
  },
  {
   "cell_type": "markdown",
   "metadata": {},
   "source": [
    "思路：根据题目描述，我们可以知道：\n",
    "- 某个产品来自于某个机床的概率 $P(A_i)=[20\\%，35\\%，25\\%，20\\%]$ （使用占比估算概率）。\n",
    "- 次品率 $P(B|A_i)=[5\\%，4\\%，3\\%，3.5\\%]$（该次品率为每个机床下的次品率，分母为机床各自的产品数量）。"
   ]
  },
  {
   "cell_type": "markdown",
   "metadata": {},
   "source": [
    "而我们现在需要求的是 P(B),即分母为总产品数量的次品率。根据全概率公式，我们可以利用向量乘法求得该产品的中次品率："
   ]
  },
  {
   "cell_type": "code",
   "execution_count": null,
   "metadata": {},
   "outputs": [],
   "source": [
    "import numpy as np\n",
    "pa = np.array([20.0, 35, 25, 20])*0.01  # 将百分数转为小数\n",
    "pb_A = np.array([5.0, 4, 3, 3.5])*0.01\n",
    "# 利用全概率公式计算次品率:先相乘再求和\n",
    "pb = np.sum(np.multiply(pa, pb_A))\n",
    "print(\"总次品率为：{}%\".format(pb*100))"
   ]
  },
  {
   "cell_type": "code",
   "execution_count": null,
   "metadata": {},
   "outputs": [],
   "source": []
  },
  {
   "cell_type": "markdown",
   "metadata": {},
   "source": [
    "#### 贝叶斯公式 "
   ]
  },
  {
   "cell_type": "markdown",
   "metadata": {},
   "source": [
    "定义：设 $A_1,A_2,...A_n$，为一列互不相容的事件且 $A_1 \\cup A_2 \\cup,... \\cup A_n=\\Omega$。若现在事件 B 已发生， $A_i$ 发生的概率："
   ]
  },
  {
   "cell_type": "markdown",
   "metadata": {},
   "source": [
    "$$P(A_i|B)=\\frac{P(AB_i)}{P(B)}=\\frac{P(A_i)P(B|A_i)}{P(B)}$$"
   ]
  },
  {
   "cell_type": "markdown",
   "metadata": {},
   "source": [
    "上式即为贝叶斯公式的推导，其实无论是全概率公式的推导还是贝叶斯公式的推导，他们的核心都是使用条件概率公式。"
   ]
  },
  {
   "cell_type": "markdown",
   "metadata": {},
   "source": [
    "贝叶斯公式和全概率公式的不同：假设这里存在几种方式来达到一个相同的目标，每种方式达到目标的概率不同。全概率公式就是用于计算最终能够达到该目标的概率值（即不管使用哪种方式）。而贝叶斯公式计算的是，已知目标已经达成的条件下，使用每种方式的概率。"
   ]
  },
  {
   "cell_type": "markdown",
   "metadata": {},
   "source": [
    "还是拿上面机床加工产品举例，设抽出产品为次品为事件 B，第 $i$ 个机床产生产品为事件 $A_i$，其他数据不变。"
   ]
  },
  {
   "cell_type": "markdown",
   "metadata": {},
   "source": [
    "假设现在还是将所有的产品混在一起，然后从中抽出一个产品。发现这个产品是次品，问该产品来自各个机床的概率 $P(A_i|B)$。"
   ]
  },
  {
   "cell_type": "markdown",
   "metadata": {},
   "source": [
    "根据题目，我们需要求的就是 $P(A_i|B)$ 。那么利用贝叶斯公式，我们可以计算："
   ]
  },
  {
   "cell_type": "code",
   "execution_count": null,
   "metadata": {},
   "outputs": [],
   "source": [
    "#根据贝叶斯公式，计算来自每个机床的概率\n",
    "#这里的 pb 可以通过全概率公式进行计算\n",
    "pA_b =(pa*pb_A) /pb\n",
    "for i in range(4):\n",
    "    print(\"该产品来自第 {} 个机床的概率：{}\".format(i+1,pA_b[i]))"
   ]
  },
  {
   "cell_type": "code",
   "execution_count": null,
   "metadata": {},
   "outputs": [],
   "source": []
  },
  {
   "cell_type": "markdown",
   "metadata": {},
   "source": [
    "### 概率分布"
   ]
  },
  {
   "cell_type": "markdown",
   "metadata": {},
   "source": [
    "#### 数据的类型"
   ]
  },
  {
   "cell_type": "markdown",
   "metadata": {},
   "source": [
    "在编程中，我们常常需要一些随机值（比如在模拟抛硬币时）。我们将这些存储随机值的变量称之为随机变量。"
   ]
  },
  {
   "cell_type": "markdown",
   "metadata": {},
   "source": [
    "随机变量根据产生的数值范围不同，可以分成两种类型："
   ]
  },
  {
   "cell_type": "markdown",
   "metadata": {},
   "source": [
    "- 离散型随机变量：如果随机变量 X 只能取有限个或至多个可列值，则称 X 为离散型随机变量。比如 取集合 {0,1} 的随机变量就为离散型变量（只存在两个值）。\n",
    "- 连续型随机变量：如果随机变量 X 的所有可能取值不可以逐个列举出来，而是取数轴上某一区间内的任一点的随机值，则 X 为连续型随机变量。比如取值为 (0,1] 的随机变量就为连续型变量（0 到 1 之间存在无数个点）。   "
   ]
  },
  {
   "cell_type": "markdown",
   "metadata": {},
   "source": [
    "无论是哪种随机变量，它的产生原理就是给它的范围中的每个可取值赋予一个概率，然后根据概率随机给变量赋值。"
   ]
  },
  {
   "cell_type": "markdown",
   "metadata": {},
   "source": [
    "描述所有可取值的概率函数又可以根据变量类型不同分为："
   ]
  },
  {
   "cell_type": "markdown",
   "metadata": {},
   "source": [
    "- 概率质量函数：描述离散变量的可取值的概率函数。\n",
    "- 概率密度函数：描述连续型变量的概率分布函数。"
   ]
  },
  {
   "cell_type": "markdown",
   "metadata": {},
   "source": [
    "概率分布是指随机变量的概率规律。简单的说，概率分布描述了随机变量的每个可取值，所对应的概率。在模拟数据时，我们根据概率的不同，对数据的取值也不同。"
   ]
  },
  {
   "cell_type": "markdown",
   "metadata": {},
   "source": [
    "接下来，让我们来详细介绍一下常见的离散型概率分布和连续型概率分布函数。"
   ]
  },
  {
   "cell_type": "markdown",
   "metadata": {},
   "source": [
    "注意，对于初学者，我们不必背下每个函数的具体形式。我们更应该了解的是每种分布函数的特点和适用范围。"
   ]
  },
  {
   "cell_type": "markdown",
   "metadata": {},
   "source": [
    "#### 离散型概率分布"
   ]
  },
  {
   "cell_type": "markdown",
   "metadata": {},
   "source": [
    "在生活中，有许多事件的结果往往只有两个。例如：抛硬币的结果（正面朝上或者朝下）、检查产品的质量（合格或不合格）、购买彩票（中奖或不中奖）....以上这些事件都可以叫做伯努利实验。"
   ]
  },
  {
   "cell_type": "markdown",
   "metadata": {},
   "source": [
    "伯努利试验其实就是单次随机试验，且结果只有 0 或 1 两种，由科学家伯努利提出。"
   ]
  },
  {
   "cell_type": "markdown",
   "metadata": {},
   "source": [
    "伯努利实验产生的数据分布就是两点分布。"
   ]
  },
  {
   "cell_type": "markdown",
   "metadata": {},
   "source": [
    " **二点分布**：也就是我们最常见的 0-1 分布。服从该分布的变量只有 0 和 1 两种取值。该分布的概率质量函数如下："
   ]
  },
  {
   "cell_type": "markdown",
   "metadata": {},
   "source": [
    "$$\n",
    "P(x) = \n",
    "\\begin{cases}\n",
    "\\lambda  & \\text{if } x =  1 \\cr\n",
    "1 - \\lambda & \\text{if }  x = 0\n",
    "\\end{cases}\n",
    "$$"
   ]
  },
  {
   "cell_type": "markdown",
   "metadata": {},
   "source": [
    "其中 $x$ 的可取值为 {0,1}。$\\lambda$为结果成功的概率，可以为 $[0,1]$ 中的任意值 。$P(x)$ 表示结果为 $x$ 的概率。"
   ]
  },
  {
   "cell_type": "markdown",
   "metadata": {},
   "source": [
    "我们可以通过每个 x 所对应的概率来产生随机数。如下："
   ]
  },
  {
   "cell_type": "code",
   "execution_count": null,
   "metadata": {},
   "outputs": [],
   "source": [
    "def Bernoulli(lambd_a):\n",
    "    p = np.random.rand()\n",
    "    #表示返回 1 的概率 为 lambda\n",
    "    if(p<lambd_a):\n",
    "        return 1\n",
    "    else:\n",
    "        return 0"
   ]
  },
  {
   "cell_type": "code",
   "execution_count": null,
   "metadata": {},
   "outputs": [],
   "source": []
  },
  {
   "cell_type": "markdown",
   "metadata": {},
   "source": [
    "我们可以利用上面函数进行抛硬币的模拟："
   ]
  },
  {
   "cell_type": "code",
   "execution_count": null,
   "metadata": {},
   "outputs": [],
   "source": [
    "#假设抛 5 次硬币\n",
    "for i in range(5):\n",
    "    print(\"第{}次实验结果：\".format(i+1))\n",
    "    result = Bernoulli(0.5)#每面的结果概率相同\n",
    "    if(result==1):\n",
    "         print(\"正面\")\n",
    "    else:\n",
    "        print(\"反面\")"
   ]
  },
  {
   "cell_type": "code",
   "execution_count": null,
   "metadata": {},
   "outputs": [],
   "source": []
  },
  {
   "cell_type": "markdown",
   "metadata": {},
   "source": [
    "**二项分布**：进行 n 次伯努利实验后，结果为 1 的次数的概率分布，即实验成功的次数的概率分布，其中每次试验成功的概率为 p。"
   ]
  },
  {
   "cell_type": "markdown",
   "metadata": {},
   "source": [
    "如果一个实验每次成功的概率为 p，然后我们进行了 n 次试验，问 一共成功 x 次的概率。我们可以通过排列组合得到下面的公式："
   ]
  },
  {
   "cell_type": "markdown",
   "metadata": {},
   "source": [
    "$$P(x) =C_n^xp^x(1-p)^{n-x} =\\frac{n!}{x!(n-x)!}p^x(1-p)^{n-x}$$"
   ]
  },
  {
   "cell_type": "markdown",
   "metadata": {},
   "source": [
    "其中 $C_n^x$ 是排列组合，表示 从 n 次试验中选出 x 次实验。$p^x$ 表示选出的实验都成功的概率。$(1-p)^{n-x}$ 表示未选出的实验都失败的概率。"
   ]
  },
  {
   "cell_type": "markdown",
   "metadata": {},
   "source": [
    "其实上面的这个函数就是二项分布的概率质量函数。表示在进行 n 次概率为 p 的伯努利实验后，成功 x 的概率值。其中 x 是变量，n 和 p 是常数。"
   ]
  },
  {
   "cell_type": "markdown",
   "metadata": {},
   "source": [
    "如果随机变量 X 服从参数为 n 和 p 的二项分布，我们可以记为 X~B(n,p)。"
   ]
  },
  {
   "cell_type": "markdown",
   "metadata": {},
   "source": [
    "注意，通过两点分布返回的是一次抛一个硬币的实验结果（0 或 1）。通过二项分布返回的是每次实验抛 n 个硬币，且硬币朝上的个数（结果可为 0,1,2,3 ....n）。"
   ]
  },
  {
   "cell_type": "markdown",
   "metadata": {},
   "source": [
    "当 n = 1 时，二项分布就是二点分布。"
   ]
  },
  {
   "cell_type": "markdown",
   "metadata": {},
   "source": [
    "虽然上面的式子较为复杂，但是不需要手动编写。我们可以使用 `numpy.random.RandomState.binomial(n, p, size=None)\n",
    "` 随机初始化 x 的值。"
   ]
  },
  {
   "cell_type": "markdown",
   "metadata": {},
   "source": [
    "该函数就是利用上面式子所提供的概率值，来随机初始化 x 的。"
   ]
  },
  {
   "cell_type": "code",
   "execution_count": null,
   "metadata": {},
   "outputs": [],
   "source": [
    "n, p = 1000, 0.5  \n",
    "#每得到一个随机数，都需要抛 1000 个硬币，然后返回其中成功的次数\n",
    "# 一共得到 10000 个随机数\n",
    "resluts = np.random.binomial(n,p,10000)\n",
    "resluts"
   ]
  },
  {
   "cell_type": "code",
   "execution_count": null,
   "metadata": {},
   "outputs": [],
   "source": []
  },
  {
   "cell_type": "markdown",
   "metadata": {},
   "source": [
    "如上，我们进行了 10000 次试验，每次试验抛了 1000 个硬币，并且返回了其中为正面的硬币个数。我们可以将这些个数进行统计，返回每种数值出现的次数，并且画出成功个数的直方图："
   ]
  },
  {
   "cell_type": "code",
   "execution_count": null,
   "metadata": {},
   "outputs": [],
   "source": [
    "import matplotlib.pyplot as plt\n",
    "%matplotlib inline\n",
    "plt.hist(resluts, edgecolor='slategray', facecolor='lime')"
   ]
  },
  {
   "cell_type": "code",
   "execution_count": null,
   "metadata": {},
   "outputs": [],
   "source": []
  },
  {
   "cell_type": "markdown",
   "metadata": {},
   "source": [
    "从上面可知，进行了多次试验，硬币正面个数为 500 左右的次数最多。这也是非常符合常理的，因为我们每次试验都会抛 1000 个硬币，然后由于硬币正面朝上的概率为 50%。因此，大多数试验的正面朝上次数都在 $1000\\times 50\\% = 500$ 左右。"
   ]
  },
  {
   "cell_type": "markdown",
   "metadata": {},
   "source": [
    "#### 连续型概率分布"
   ]
  },
  {
   "cell_type": "markdown",
   "metadata": {},
   "source": [
    "离散型概率分布的概率函数叫做概率质量函数。通过上面的学习，我们可以知道，概率质量函数描述的就是概率和可取值 x 之间的关系。因此，如果我们将所有 x 的概率取值相加就应该等于 1。"
   ]
  },
  {
   "cell_type": "markdown",
   "metadata": {},
   "source": [
    "但是由于连续型变量的可取值往往不是离散的点，而是一个区间，其中存在着无数个点。因此，在针对连续型概率分布时，我们没有某点概率值的概念(如果有这个概念，无论该点值有多小，乘以一个无穷大，最终的值都远远大于 1)。"
   ]
  },
  {
   "cell_type": "markdown",
   "metadata": {},
   "source": [
    "我们选择了概率密度函数来表示概率分布。"
   ]
  },
  {
   "cell_type": "markdown",
   "metadata": {},
   "source": [
    "概率密度函数表示的其实是 **概率在该点的变化率**。"
   ]
  },
  {
   "cell_type": "markdown",
   "metadata": {},
   "source": [
    "我们可以把概率和概率密度的关系，看做距离和速度的关系（概率即距离，概率密度即速度）。"
   ]
  },
  {
   "cell_type": "markdown",
   "metadata": {},
   "source": [
    "就可以得到以下几个结论："
   ]
  },
  {
   "cell_type": "markdown",
   "metadata": {},
   "source": [
    "- 说某一个点的距离是没有意义的，因为距离是 XX 到 XX 的概念。\n",
    "- 某点速度的概念和某点距离的概念完全不一致\n",
    "- 因此，在描述连续型概率时，某点的概率是无意义的，只有加上区间才是有意义的。\n",
    "- 某个区间的总概率值就是概率密度函数在该区间内的面积，可以用定积分表示。"
   ]
  },
  {
   "cell_type": "markdown",
   "metadata": {},
   "source": [
    "让我们来举几个常见的连续性分布函数的例子。"
   ]
  },
  {
   "cell_type": "markdown",
   "metadata": {},
   "source": [
    "**均匀分布**: 产生任何数的概率相等的分布。"
   ]
  },
  {
   "cell_type": "markdown",
   "metadata": {},
   "source": [
    "均匀分布是我们最常用的分布。该分布的密度函数需要两个参数 a,b。其中 a 表示随机数可取范围的下界，b 表示范围的上界。"
   ]
  },
  {
   "cell_type": "markdown",
   "metadata": {},
   "source": [
    "该分布的概率密度函数如下："
   ]
  },
  {
   "cell_type": "markdown",
   "metadata": {},
   "source": [
    "$$\n",
    "f(x) = \n",
    "\\begin{cases}\n",
    "0  & \\text{if } x < a \\text{ 或 } x < b \\cr\n",
    "\\frac{1}{b-a} & \\text{if } a \\leq x \\leq b\n",
    "\\end{cases}\n",
    "$$"
   ]
  },
  {
   "cell_type": "markdown",
   "metadata": {},
   "source": [
    "上面公式就为均匀分布的概率密度公式，即概率的变化率函数。"
   ]
  },
  {
   "cell_type": "markdown",
   "metadata": {},
   "source": [
    "我们可以通过上列公式和定积分，求得 $(-∞,x)$ 区间的总概率值，如下："
   ]
  },
  {
   "cell_type": "markdown",
   "metadata": {},
   "source": [
    "$$F(x)=\\int_∞^x f(x) dx=\\int_a^x( f(x) + 0) dx=\\frac{x-a}{b-a}$$"
   ]
  },
  {
   "cell_type": "markdown",
   "metadata": {},
   "source": [
    "上面的这种，求某区间概率值的函数被称作该连续变量 x 的分布函数。"
   ]
  },
  {
   "cell_type": "markdown",
   "metadata": {},
   "source": [
    "我们可以使用 `np.random.uniform(a,b)` 产生服从均匀分布的数据："
   ]
  },
  {
   "cell_type": "code",
   "execution_count": null,
   "metadata": {},
   "outputs": [],
   "source": [
    "#产生了 10000 条数据\n",
    "datas = np.random.uniform(10,20,10000)\n",
    "datas"
   ]
  },
  {
   "cell_type": "code",
   "execution_count": null,
   "metadata": {},
   "outputs": [],
   "source": []
  },
  {
   "cell_type": "markdown",
   "metadata": {},
   "source": [
    "让我们来展示一下这些数据的分布情况："
   ]
  },
  {
   "cell_type": "code",
   "execution_count": null,
   "metadata": {},
   "outputs": [],
   "source": [
    "# normed=True表示计算每个区间出现的次数后，除以一下总次数，使横坐标成为占比\n",
    "plt.hist(datas, normed=True, edgecolor='slategray', facecolor='lime')"
   ]
  },
  {
   "cell_type": "code",
   "execution_count": null,
   "metadata": {},
   "outputs": [],
   "source": []
  },
  {
   "cell_type": "markdown",
   "metadata": {},
   "source": [
    "从上图可以看出，产生 0-20 中任意一点的概率都相等。"
   ]
  },
  {
   "cell_type": "markdown",
   "metadata": {},
   "source": [
    "**指数分布**：表示一个随机变量呈指数分布，可以写作 $x \\sim E(\\lambda)$。"
   ]
  },
  {
   "cell_type": "markdown",
   "metadata": {},
   "source": [
    "该分布的概率密度函数如下："
   ]
  },
  {
   "cell_type": "markdown",
   "metadata": {},
   "source": [
    "$$\n",
    "f(x) = \n",
    "\\begin{cases}\n",
    "\\lambda e^{-\\lambda x}  & \\text{ if } x > 0 \\cr\n",
    "0 & \\text{ if } x \\leq 0\n",
    "\\end{cases}\n",
    "$$"
   ]
  },
  {
   "cell_type": "markdown",
   "metadata": {},
   "source": [
    "上面公式就为指数分布的概率密度公式，即概率的变化率函数。"
   ]
  },
  {
   "cell_type": "markdown",
   "metadata": {},
   "source": [
    "我们可以通过概率密度函数和定积分知识，求得指数分布函数如下："
   ]
  },
  {
   "cell_type": "markdown",
   "metadata": {},
   "source": [
    "$$\n",
    "F(x) = \n",
    "\\begin{cases}\n",
    "1-e^{-\\lambda x}  & \\text{ if } x \\geq 0 \\cr\n",
    "0 & \\text{ if } x < 0\n",
    "\\end{cases}\n",
    "$$"
   ]
  },
  {
   "cell_type": "markdown",
   "metadata": {},
   "source": [
    "其中 F(x) 表示范围为 $（-∞,x）$ 的总概率值，$\\lambda$ 为指数分布所需的一个参数。"
   ]
  },
  {
   "cell_type": "markdown",
   "metadata": {},
   "source": [
    "我们可以利用 `np.random.exponential(lambda,size)` 来初始化 10000 条服从指数分布的数据，并且根据数据观察指数分布的图像："
   ]
  },
  {
   "cell_type": "code",
   "execution_count": null,
   "metadata": {},
   "outputs": [],
   "source": [
    "datas = np.random.exponential(3,10000)\n",
    "datas"
   ]
  },
  {
   "cell_type": "code",
   "execution_count": null,
   "metadata": {},
   "outputs": [],
   "source": []
  },
  {
   "cell_type": "markdown",
   "metadata": {},
   "source": [
    "让我们统计每个数据出现的次数，画出指数分布的图像。如下："
   ]
  },
  {
   "cell_type": "code",
   "execution_count": null,
   "metadata": {},
   "outputs": [],
   "source": [
    "plt.hist(datas,normed=True,edgecolor='slategray', facecolor='lime')\n",
    "plt.show()"
   ]
  },
  {
   "cell_type": "code",
   "execution_count": null,
   "metadata": {},
   "outputs": [],
   "source": []
  },
  {
   "cell_type": "markdown",
   "metadata": {},
   "source": [
    "**正态分布**："
   ]
  },
  {
   "cell_type": "markdown",
   "metadata": {},
   "source": [
    "正态分布又叫高斯分布。若随机变量 X 服从正态分布，可以写作 $x\\sim N(\\mu,\\sigma^2)$。其中 $\\mu$ 和 $\\sigma$ 是该分布的两个参数。这两个参数其实就是该分布的平均值和标准差。"
   ]
  },
  {
   "cell_type": "markdown",
   "metadata": {},
   "source": [
    "该分布的概率密度函数如下所示："
   ]
  },
  {
   "cell_type": "markdown",
   "metadata": {},
   "source": [
    "$$f(x)=\\frac{1}{\\sqrt{2*\\pi }\\sigma}e^{-\\frac{(x-\\mu)^2}{2\\sigma^2}}$$"
   ]
  },
  {
   "cell_type": "markdown",
   "metadata": {},
   "source": [
    "我们可以使用 ` np.random.normal(mu, sigma, size)` 初始化服从正态分布的随机数："
   ]
  },
  {
   "cell_type": "code",
   "execution_count": null,
   "metadata": {},
   "outputs": [],
   "source": [
    "mu, sigma = 0, 0.1  # 定义分布数据的平均值和标准差\n",
    "s = np.random.normal(mu, sigma, 1000)\n",
    "s"
   ]
  },
  {
   "cell_type": "code",
   "execution_count": null,
   "metadata": {},
   "outputs": [],
   "source": []
  },
  {
   "cell_type": "markdown",
   "metadata": {},
   "source": [
    "我们可以验证一下通过正态分布随机产生的数据集合的平均值是否为最开始我们设定的 `mu` 的值："
   ]
  },
  {
   "cell_type": "code",
   "execution_count": null,
   "metadata": {},
   "outputs": [],
   "source": [
    "# 误差小于0.01时，说明两个数相等\n",
    "print(\"mu==平均值？\", abs(mu - np.mean(s)) < 0.01)"
   ]
  },
  {
   "cell_type": "code",
   "execution_count": null,
   "metadata": {},
   "outputs": [],
   "source": []
  },
  {
   "cell_type": "markdown",
   "metadata": {},
   "source": [
    "最后让我们对上面生成的数据集合进行统计，得到正态分布的分布图像：\n"
   ]
  },
  {
   "cell_type": "code",
   "execution_count": null,
   "metadata": {},
   "outputs": [],
   "source": [
    "count, bins, ignored = plt.hist(s, 30, normed=True)\n",
    "plt.plot(bins, 1/(sigma * np.sqrt(2 * np.pi)) *np.exp( - (bins - mu)**2 / (2 * sigma**2) ),linewidth=2, color='r')\n",
    "plt.show()"
   ]
  },
  {
   "cell_type": "code",
   "execution_count": null,
   "metadata": {},
   "outputs": [],
   "source": []
  },
  {
   "cell_type": "markdown",
   "metadata": {},
   "source": [
    "#### 方差和标准差"
   ]
  },
  {
   "cell_type": "markdown",
   "metadata": {},
   "source": [
    "方差，用以表示数据集中数据点的离散程度，其数学定义为："
   ]
  },
  {
   "cell_type": "markdown",
   "metadata": {},
   "source": [
    "$$s^2_N=\\frac{1}{N}\\sum_{i=1}^N(x_i-\\overline{x})^2$$"
   ]
  },
  {
   "cell_type": "markdown",
   "metadata": {},
   "source": [
    "其中 $\\overline{x}$ 表示 x 的平均值，即 $\\overline{x}=\\frac{x_1+x_2+...+x_n}{n}$。"
   ]
  },
  {
   "cell_type": "markdown",
   "metadata": {},
   "source": [
    "标准差也表示数据集中数据点的离散程度，它在数学定义上其实就是方差的平方根："
   ]
  },
  {
   "cell_type": "markdown",
   "metadata": {},
   "source": [
    "$$S_N = \\sqrt{s^2_N}=\\sqrt{\\frac{1}{N}\\sum_{i=1}^N(x_i-\\overline{x})^2}$$"
   ]
  },
  {
   "cell_type": "markdown",
   "metadata": {},
   "source": [
    "我们可以使用 `np.std(x, ddof=1)) ` 来计算任意数据集合 x 的标准差。"
   ]
  },
  {
   "cell_type": "markdown",
   "metadata": {},
   "source": [
    "接下来，我们就利用该函数计算一下上面服从正态分布的随机变量的标准差，并且判断该标准差是否和初始化传入的 `sigma` 参数相等："
   ]
  },
  {
   "cell_type": "code",
   "execution_count": null,
   "metadata": {},
   "outputs": [],
   "source": [
    "std = np.std(s, ddof=1)\n",
    "#误差小于 0.01 则认为相等\n",
    "print(\"sigma==标准差？\",abs(sigma - std < 0.01))"
   ]
  },
  {
   "cell_type": "code",
   "execution_count": null,
   "metadata": {},
   "outputs": [],
   "source": []
  },
  {
   "cell_type": "markdown",
   "metadata": {},
   "source": [
    "综上，我们可以知道当数据  $x\\sim N(\\mu,\\sigma^2)$时， $\\mu$ 为数据集合 x 的均值，$\\sigma$ 为数据集合 x 的标准差。"
   ]
  },
  {
   "cell_type": "markdown",
   "metadata": {},
   "source": [
    "#### 数学期望"
   ]
  },
  {
   "cell_type": "markdown",
   "metadata": {},
   "source": [
    "数学期望是试验中每次可能结果的概率乘以其结果的和。它反应了随机变量的平均取值大小。"
   ]
  },
  {
   "cell_type": "markdown",
   "metadata": {},
   "source": [
    "离散型随机变量的数学期望如下："
   ]
  },
  {
   "cell_type": "markdown",
   "metadata": {},
   "source": [
    "$$E(x)=\\sum_{k=1}^{\\infty}x_kp_k$$"
   ]
  },
  {
   "cell_type": "markdown",
   "metadata": {},
   "source": [
    "其中 $p_k$ 为离散型变量的概率质量函数。"
   ]
  },
  {
   "cell_type": "markdown",
   "metadata": {},
   "source": [
    "连续型随机变量的数学期望如下："
   ]
  },
  {
   "cell_type": "markdown",
   "metadata": {},
   "source": [
    "$$E(x)=\\int_\\infty^{-\\infty}xf(x)dx$$"
   ]
  },
  {
   "cell_type": "markdown",
   "metadata": {},
   "source": [
    "其中 $f(x)$ 为连续型变量的概率密度函数。"
   ]
  },
  {
   "cell_type": "markdown",
   "metadata": {},
   "source": [
    "#### 协方差"
   ]
  },
  {
   "cell_type": "markdown",
   "metadata": {},
   "source": [
    "在概率论和统计学中，协方差被用于衡量两个变量之间的总体误差。方差是协方差的一种特殊情况，即当两个变量相同时，这两个变量的协方差就等于方差。"
   ]
  },
  {
   "cell_type": "markdown",
   "metadata": {},
   "source": [
    "假设需要衡量的变量分别为 x ，y 。则它们的协方差的公式定义如下："
   ]
  },
  {
   "cell_type": "markdown",
   "metadata": {},
   "source": [
    "$$S(x,y) = \\frac{1}{n-1}\\sum_{i=1}^n(x_i-\\overline{x})(y_i-\\overline{y})$$"
   ]
  },
  {
   "cell_type": "markdown",
   "metadata": {},
   "source": [
    "其中 $\\overline{x}$ 和 $\\overline{y}$ 表示变量的平均值。"
   ]
  },
  {
   "cell_type": "markdown",
   "metadata": {},
   "source": [
    "当 x = y 时，上面的式子就可以化为方差的计算公式，如下："
   ]
  },
  {
   "cell_type": "markdown",
   "metadata": {},
   "source": [
    "$$S(x,y) = \\frac{1}{n-1}\\sum_{i=1}^n(x_i-\\overline{x})(x_i-\\overline{x})=\\frac{1}{n-1}\\sum_{i=1}^n(x_i-\\overline{x})^2$$"
   ]
  },
  {
   "cell_type": "markdown",
   "metadata": {},
   "source": [
    "若协方差为正则表示两个变量呈正相关，若协方差为负则表示两个变量呈负相关。"
   ]
  },
  {
   "cell_type": "markdown",
   "metadata": {},
   "source": [
    "我们可以使用 `numpy.cov()` 函数对协方差进行计算。"
   ]
  },
  {
   "cell_type": "markdown",
   "metadata": {},
   "source": [
    "注意：`numpy.cov(X)` 得到的是一个协方差矩阵，又叫相关矩阵。也就是说，该函数可以计算多组变量之间的协方差值。传入参数 X 是一个矩阵。该矩阵的每一列都是一组独立的数据集。如下："
   ]
  },
  {
   "cell_type": "code",
   "execution_count": null,
   "metadata": {},
   "outputs": [],
   "source": [
    "x = [1,2,3]\n",
    "y = [3,1,1]\n",
    "a = np.array([x,y])\n",
    "#传入的参数 a 的每一列都是一组数据集\n",
    "A = np.cov(a)\n",
    "A"
   ]
  },
  {
   "cell_type": "code",
   "execution_count": null,
   "metadata": {},
   "outputs": [],
   "source": []
  },
  {
   "cell_type": "markdown",
   "metadata": {},
   "source": [
    "从上面的结果可以看出，我们利用 `numpy.cov()` 得到了一个协方差矩阵 A，且该矩阵大小为 $2\\times 2$。"
   ]
  },
  {
   "cell_type": "markdown",
   "metadata": {},
   "source": [
    "- $A_{11}$ 表示第一列和第一列的协方差，即数据集 x 与 数据集 x 的协方差，即数据集 x 的方差。\n",
    "- $A_{22}$ 表示第二列和第二列的协方差，即数据集 y 与 数据集 y 的协方差，即数据集 y 的方差。\n",
    "- $A_{12}$ 表示第一列和第二列的协方差，即数据集 x 与 数据集 y 的协方差。\n",
    "- $A_{21}$ 表示第二列和第一列的协方差。其实和 $A_{12}$ 的性质是一样的，$A_{21}$=$A_{12}$。"
   ]
  },
  {
   "cell_type": "markdown",
   "metadata": {},
   "source": [
    "同理，当传入的是一个 $n \\times 3$ 的矩阵（其中 3 代表列数，即数据集的个数。n 代表行数，即每个数据集中的样本数）时，`np.cov()` 得到的就是一个 $3\\times 3$ 的协方差矩阵。"
   ]
  },
  {
   "cell_type": "markdown",
   "metadata": {},
   "source": [
    "当传入的是一个 $n\\times m$ 的矩阵(m列数据集)时，\n",
    "`np.cov()` 得到的就是一个 $m \\times m$ 的协方差矩阵 A。其中 $A_{i,j}$ 的值就是第 $i$ 列数据与第 $j$ 列数据的协方差。"
   ]
  },
  {
   "cell_type": "markdown",
   "metadata": {},
   "source": [
    "### 统计学相关概念"
   ]
  },
  {
   "cell_type": "markdown",
   "metadata": {},
   "source": [
    "#### 样本和总体"
   ]
  },
  {
   "cell_type": "markdown",
   "metadata": {},
   "source": [
    "- 总体：在进行统计分析时，研究对象的全部。可以用 X 表示。\n",
    "- 样本：从总体 X 中按照一定的规则抽出的个体，用 $X_1,X_2,...X_n$表示。\n",
    "- 样本容量：样本中所含个体的个数被称之为样本容量，用 n 表示。"
   ]
  },
  {
   "cell_type": "markdown",
   "metadata": {},
   "source": [
    "举个例子，假设我们需要调查全国青少年的平均身高。身高这个研究变量就是研究对象。全国青少年的身高就为总体 X。但是我们不可能对所有青少年的身高进行调查，一般只能通过抽样得到部分数据，然后利用部分数据对总体的身高值进行估计。"
   ]
  },
  {
   "cell_type": "markdown",
   "metadata": {},
   "source": [
    "其实这里通过抽样得到的部分数据就叫做样本。"
   ]
  },
  {
   "cell_type": "markdown",
   "metadata": {},
   "source": [
    "从整体抽出一个个体，就是对总体 X 进行一次抽样并记录结果。在相同条件下对总体进行 n 次独立抽样。将 n 次抽样结果按照试验顺序记为 $X_1,X_2,...,X_n$。他们是相互独立的，且都是与 X 具有相同分布的随机变量。$X_1,X_2,...,X_n$ 称之为来自总体 X 的一个简单随机样本。"
   ]
  },
  {
   "cell_type": "markdown",
   "metadata": {},
   "source": [
    "#### 假设检验的概念"
   ]
  },
  {
   "cell_type": "markdown",
   "metadata": {},
   "source": [
    "假设检验是统计学中非常重要的概念。它的逻辑类似于反证法。设立一个原假设和一个与之对立的备选假设。"
   ]
  },
  {
   "cell_type": "markdown",
   "metadata": {},
   "source": [
    "在原假设的前提下，进行实验，如果发生了不可能事件或者几率很小的事件 ，那么我们就可以认为原假设不合理，应当被拒绝。而与之对应的备选假设合理，应该被接受。"
   ]
  },
  {
   "cell_type": "markdown",
   "metadata": {},
   "source": [
    "举个例子，有一种奶茶是由牛奶和茶按照一定比例混合而成。在制作该奶茶时，我们可以先加奶后加茶（记为 MT），也可以先加茶后加奶（记作 TM）。我有个同学叫小红，她声称她自己具有辨别 MT 和 TM 的能力。那么如何判别她是否真的具有这种能力呢？我们就可以使用假设检验。假设原假设 $H_0$ 为："
   ]
  },
  {
   "cell_type": "markdown",
   "metadata": {},
   "source": [
    "$$H_0：该同学没有这种鉴别能力$$"
   ]
  },
  {
   "cell_type": "markdown",
   "metadata": {},
   "source": [
    "如果上面这个假设是正确的，那么小红对任意一杯奶茶鉴别准确的概率为：0.5（也就是随机鉴别）。"
   ]
  },
  {
   "cell_type": "markdown",
   "metadata": {},
   "source": [
    "现在我准备了 10 杯奶茶，如果原假设准确的话，那么小红全部鉴别成功的概率就为 $p=2^{-10}=0.00097<0.001$，几乎为不可能事件。"
   ]
  },
  {
   "cell_type": "markdown",
   "metadata": {},
   "source": [
    "然后实验开始，我们为小红准备了 10 杯奶茶，让她检测，最终结果是她全部检测正确了。也就是说，在原假设的条件下，发生了不可能事件。因此原假设 $H_0$ 不合理，应当予以拒绝。而与之对应的备选假设 $H_1$ 合理，即该同学具有这种鉴别能力。"
   ]
  },
  {
   "cell_type": "markdown",
   "metadata": {},
   "source": [
    "上面的整个过程就是假设检验过程，假设检验过程的基本思想就是，小概率事件在一次实验中不会发生，如果发生了，则证明原假设应当被拒绝。"
   ]
  },
  {
   "cell_type": "markdown",
   "metadata": {},
   "source": [
    "假设检验有很多种方法，大致可以根据分布函数的不同，分为 z 检验（正态分布）、t 检验（t 分布）和 F 检验（分布）。"
   ]
  },
  {
   "cell_type": "markdown",
   "metadata": {},
   "source": [
    "为了方便讲解，这里我们以 z 检验为例对假设检验进行讲解。"
   ]
  },
  {
   "cell_type": "markdown",
   "metadata": {},
   "source": [
    "#### z 检验"
   ]
  },
  {
   "cell_type": "markdown",
   "metadata": {},
   "source": [
    "z 检验是一种用于检验大样本（样本容量超过 30）的平均差异的检验方法。它用正态分布理论推断了差异发生的概率，从而比较了样本和总体平均数的差异是否显著。"
   ]
  },
  {
   "cell_type": "markdown",
   "metadata": {},
   "source": [
    "z 假设检验的完整步骤如下："
   ]
  },
  {
   "cell_type": "markdown",
   "metadata": {},
   "source": [
    "1. 提取总体的原假设（$H_0$）和备选假设（$H_1$），并且收集样本数据。\n",
    "2. 假设原假设 $H_0$ 正确，构建比较分布：正态分布。\n",
    "3. 计算样本数据在比较分布中的位置。\n",
    "4. 将结果与临界值进行对比。\n",
    "5. 若为小概率事件，则拒绝原假设，接受备选假设。反之则接受原假设。"
   ]
  },
  {
   "cell_type": "markdown",
   "metadata": {},
   "source": [
    "小概率事件：我们认为小概率事件为 p < 0.05 的事件。"
   ]
  },
  {
   "cell_type": "markdown",
   "metadata": {},
   "source": [
    "比较分布：用于检验假设的分布函数，z 假设检验中使用的是正态分布。"
   ]
  },
  {
   "cell_type": "markdown",
   "metadata": {},
   "source": [
    "统计量 z：正态分布的概率密度函数的面积就是该分布函数的概率值。概率值所对应的密度函数的横坐标的值就是统计量 z。"
   ]
  },
  {
   "cell_type": "markdown",
   "metadata": {},
   "source": [
    "临界值：如下图所示，我们把左右两边的 2.5% 的面积定义为小概率事件，即紫色部分为小概率事件。这两个紫色区域的临界值的横坐标为： $ z = \\pm 1.96$，称作统计量 z 的临界值。当通过样本计算出来的统计量 z 值小于 或者 大于临界值 ，就可以拒绝原假设。"
   ]
  },
  {
   "cell_type": "markdown",
   "metadata": {},
   "source": [
    "<img width=\"300px\" src=\"https://doc.shiyanlou.com/courses/2316/1166617/d010c9d7c4ccd2706d885f2d685c2a36-0\">"
   ]
  },
  {
   "cell_type": "markdown",
   "metadata": {},
   "source": [
    "那么如何计算一个样本的统计量呢？`statsmodels.stats.weightstats ` 库中的 `ztest` 可以实现这个过程。"
   ]
  },
  {
   "cell_type": "markdown",
   "metadata": {},
   "source": [
    "`ztest` 函数包含的输入参数如下："
   ]
  },
  {
   "cell_type": "markdown",
   "metadata": {},
   "source": [
    "- x1: 样本的数据值\n",
    "- value:原假设中总体的均值"
   ]
  },
  {
   "cell_type": "markdown",
   "metadata": {},
   "source": [
    "该函数的原假设$H_0$ ：样本 x1 所对应的均值为 value ；"
   ]
  },
  {
   "cell_type": "markdown",
   "metadata": {},
   "source": [
    "备选假设 $H_1$ ：样本 x1 所对应的均值不为 value"
   ]
  },
  {
   "cell_type": "markdown",
   "metadata": {},
   "source": [
    "通过函数可以得到如下输出值："
   ]
  },
  {
   "cell_type": "markdown",
   "metadata": {},
   "source": [
    "- tstats：统计量值\n",
    "- pvalue：p 值"
   ]
  },
  {
   "cell_type": "markdown",
   "metadata": {},
   "source": [
    "如果这里存在一个样本集合 arr，让我们通过假设检验推断一下该样本对应的总体的均值是否为 $39$。"
   ]
  },
  {
   "cell_type": "markdown",
   "metadata": {},
   "source": [
    "首先让我们来定义样本容量超过 30 的样本集合（因为只有超过30的样本集合的均值才能使用 z检验进行推断）。"
   ]
  },
  {
   "cell_type": "code",
   "execution_count": null,
   "metadata": {},
   "outputs": [],
   "source": [
    "arr = [23, 36, 42, 34, 39, 34, 35, 42, 53, 28, 49, 39, 46, 45, 39, 38, 45, 27, 43, 54, 36, 34, 48, 36, 47,\n",
    "       44, 48, 45, 44, 33, 24, 40, 50, 32, 39, 31]\n",
    "len(arr)"
   ]
  },
  {
   "cell_type": "code",
   "execution_count": null,
   "metadata": {},
   "outputs": [],
   "source": []
  },
  {
   "cell_type": "markdown",
   "metadata": {},
   "source": [
    "接下来，让我们使用 `ztest` 计算原假设所对应的统计量 z："
   ]
  },
  {
   "cell_type": "code",
   "execution_count": null,
   "metadata": {},
   "outputs": [],
   "source": [
    "import statsmodels.stats.weightstats as sw\n",
    "# 原假设为总体的平均值是 39\n",
    "z, p = sw.ztest(arr, value=39)\n",
    "z"
   ]
  },
  {
   "cell_type": "code",
   "execution_count": null,
   "metadata": {},
   "outputs": [],
   "source": []
  },
  {
   "cell_type": "markdown",
   "metadata": {},
   "source": [
    "从结果可以看到，原假设的统计量 z = 0.38，该值刚好大于 -1.96，小于 1.96。因此，我们应当接受原假设。"
   ]
  },
  {
   "cell_type": "markdown",
   "metadata": {},
   "source": [
    "综上，我们可以得到样本所对应的总体的平均值等于 39。"
   ]
  },
  {
   "cell_type": "markdown",
   "metadata": {},
   "source": [
    "如果将原假设改为：样本所对应的总体的平均值为 20。让我们重新来计算统计量 t："
   ]
  },
  {
   "cell_type": "code",
   "execution_count": null,
   "metadata": {},
   "outputs": [],
   "source": [
    "z,p=sw.ztest(arr, value=20)\n",
    "z"
   ]
  },
  {
   "cell_type": "code",
   "execution_count": null,
   "metadata": {},
   "outputs": [],
   "source": []
  },
  {
   "cell_type": "markdown",
   "metadata": {},
   "source": [
    "从结果可以看出，z 的值远远大于 1.96。因此，我们应当拒绝该假设，接受与之对应的备选假设，即总体的平均值不等于 20。"
   ]
  },
  {
   "cell_type": "markdown",
   "metadata": {},
   "source": [
    "当然，上面的 z 检验方案只是 z 检验的一种。我们还可以按照 { 临界值只有左边存在、临界值只有右边存在、临界值两边都存在 }  等三种可能，将 z 检验类型分为 { 左侧检验、右侧检验和双侧检验 }。"
   ]
  },
  {
   "cell_type": "markdown",
   "metadata": {},
   "source": [
    "利用统计量判断原假设是否拒绝并不是唯一的方法，我们还可以使用 p 值来对其进行判断。 p 值就是上面这个函数返回的第二个参数。"
   ]
  },
  {
   "cell_type": "markdown",
   "metadata": {},
   "source": [
    "我们一般认为如果 p 值小于显著水平（0.05，即临界值所对应的概率）,则表示拒绝原假设。若 p 值大于显著水平则接受原假设。你可以输出上面的 p 值，查看一下利用 p 值判断假设的结果和利用统计量判断的结果是否一致。"
   ]
  },
  {
   "cell_type": "markdown",
   "metadata": {},
   "source": [
    "其实使用 p 值判断原假设是否应当被接受的方案比根据临界统计量判断的方案要好。因为无论我们选择任何比较分布，它的显著水平我们都可以设置为 0.05（即最小事件的概率）。但是，因为相同概率所对应的分布函数下的统计量根据分布函数不同而不同。即不同比较分布的临界统计量是不同的，而显著水平是相同的。\n"
   ]
  },
  {
   "cell_type": "markdown",
   "metadata": {},
   "source": [
    "因此，大家都喜欢使用 p 值来判断原假设是否接受。而不是选择计算统计量，然后再找相应分布函数的临界值，然后再进行比较，最后再下结论。"
   ]
  },
  {
   "cell_type": "markdown",
   "metadata": {},
   "source": [
    "其实假设检验是统计学中最重要的一部分，它还包含了很多知识点。但是由于这些知识点在机器学习中使用并不频繁（数据分析中经常使用），就不做赘述了。有兴趣的同学，可以参考 [这篇文章](https://zhuanlan.zhihu.com/p/141700655)。"
   ]
  },
  {
   "cell_type": "markdown",
   "metadata": {},
   "source": [
    "### 实验总结"
   ]
  },
  {
   "cell_type": "markdown",
   "metadata": {},
   "source": [
    "本实验首先讲解了概率论中的三大公式，这个公式在朴素贝叶斯算法中使用频繁。然后，讲解了离散分布和连续型分布的具体区别，以及常用的分布函数式子和图像。最后对统计学中的假设检验进行了相关的讲解与实现。"
   ]
  },
  {
   "cell_type": "markdown",
   "metadata": {},
   "source": [
    "<hr><div style=\"color: #999; font-size: 12px;\"><i class=\"fa fa-copyright\" aria-hidden=\"true\"> 本课程内容版权归实验楼所有，禁止转载、下载及非法传播。</i></div>"
   ]
  }
 ],
 "metadata": {
  "kernelspec": {
   "display_name": "Python 3",
   "language": "python",
   "name": "python3"
  },
  "language_info": {
   "codemirror_mode": {
    "name": "ipython",
    "version": 3
   },
   "file_extension": ".py",
   "mimetype": "text/x-python",
   "name": "python",
   "nbconvert_exporter": "python",
   "pygments_lexer": "ipython3",
   "version": "3.7.0"
  }
 },
 "nbformat": 4,
 "nbformat_minor": 2
}
