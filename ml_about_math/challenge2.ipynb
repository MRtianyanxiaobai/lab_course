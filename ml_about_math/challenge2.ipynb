{
 "cells": [
  {
   "cell_type": "markdown",
   "metadata": {},
   "source": [
    "## 高尔夫球的精确率预测"
   ]
  },
  {
   "cell_type": "markdown",
   "metadata": {},
   "source": [
    "---"
   ]
  },
  {
   "cell_type": "markdown",
   "metadata": {},
   "source": [
    "#### 介绍"
   ]
  },
  {
   "cell_type": "markdown",
   "metadata": {},
   "source": [
    "我们知道，在打高尔夫球时，目标距离越远准确率就越低，但是却不知道两者的具体关系。本实验将会提供 197 条距离和准确率的相关数据集，你需要通过这些数据集定义距离和准确率之间的函数关系式，并且使用梯度下降算法得到函数的最佳参数值。"
   ]
  },
  {
   "cell_type": "markdown",
   "metadata": {},
   "source": [
    "#### 知识点"
   ]
  },
  {
   "cell_type": "markdown",
   "metadata": {},
   "source": [
    " - 梯度下降算法\n",
    " - 数据的标准化\n",
    " - 高尔夫球的精确率预测"
   ]
  },
  {
   "cell_type": "markdown",
   "metadata": {},
   "source": [
    "---"
   ]
  },
  {
   "cell_type": "markdown",
   "metadata": {},
   "source": [
    "### 高尔夫球手的准确率预测\n"
   ]
  },
  {
   "cell_type": "markdown",
   "metadata": {},
   "source": [
    "在挑战开始之前，让我们先将本挑战需要用到的数据下载下来："
   ]
  },
  {
   "cell_type": "code",
   "execution_count": null,
   "metadata": {},
   "outputs": [],
   "source": [
    "!wget https://labfile.oss.aliyuncs.com/courses/2316/pga.csv"
   ]
  },
  {
   "cell_type": "markdown",
   "metadata": {},
   "source": [
    "#### 数据集的介绍"
   ]
  },
  {
   "cell_type": "markdown",
   "metadata": {},
   "source": [
    "数据集 pga.csv 包含了职业高尔夫球手的发球统计信息，我们可以使用 `pandas` 对其进行查看："
   ]
  },
  {
   "cell_type": "code",
   "execution_count": null,
   "metadata": {},
   "outputs": [],
   "source": [
    "import pandas as pd\n",
    "df = pd.read_csv(\"pga.csv\")\n",
    "df"
   ]
  },
  {
   "cell_type": "markdown",
   "metadata": {},
   "source": [
    "从上面点的结果可以看到，该数据集共有两个属性：distance 和 accuracy。"
   ]
  },
  {
   "cell_type": "markdown",
   "metadata": {},
   "source": [
    "- distance ：表示发球的平均距离。\n",
    "- accuracy ：表示命中的精确度，即命中球道的比例。"
   ]
  },
  {
   "cell_type": "markdown",
   "metadata": {},
   "source": [
    " 我们的目的就是建立一个良好的模型，使我们能够预测任意距离下的准确率。"
   ]
  },
  {
   "cell_type": "markdown",
   "metadata": {},
   "source": [
    "#### 数据的预处理"
   ]
  },
  {
   "cell_type": "markdown",
   "metadata": {},
   "source": [
    "对于很多机器学习算法来说，数据预处理都是很有必要的，它能够消除量纲，也可以加快模型的收敛速度。这里我们就用“数据的标准化”来对原数据进行预处理。"
   ]
  },
  {
   "cell_type": "markdown",
   "metadata": {},
   "source": [
    "数据的标准化：每个数据都减去所在列的均值然后除以方差。"
   ]
  },
  {
   "cell_type": "code",
   "execution_count": null,
   "metadata": {},
   "outputs": [],
   "source": [
    "dis = df.loc[:, 'distance'].values\n",
    "accuracy = df.loc[:, 'accuracy'].values\n",
    "# 数据的标准化\n",
    "accuracy = (accuracy - accuracy.mean()) / accuracy.std()\n",
    "dis = (dis - dis.mean()) / dis.std()\n",
    "accuracy.shape, dis.shape"
   ]
  },
  {
   "cell_type": "markdown",
   "metadata": {},
   "source": [
    "接下来让我们对标准化后的数据进行可视化，查看距离和精确度之间的关系："
   ]
  },
  {
   "cell_type": "code",
   "execution_count": null,
   "metadata": {},
   "outputs": [],
   "source": [
    "import matplotlib.pyplot as plt\n",
    "%matplotlib inline\n",
    "# 数据集的标准化\n",
    "accuracy = (accuracy - accuracy.mean()) / accuracy.std()\n",
    "dis = (dis - dis.mean()) / dis.std()\n",
    "\n",
    "plt.scatter(dis, accuracy)\n",
    "plt.xlabel('normalized distance')\n",
    "plt.ylabel('normalized accuracy')\n",
    "plt.show()"
   ]
  },
  {
   "cell_type": "markdown",
   "metadata": {},
   "source": [
    "#### 目标函数"
   ]
  },
  {
   "cell_type": "markdown",
   "metadata": {},
   "source": [
    "从图中可以看出，距离和精确度之间的关系呈线性分布。设 y 表示高尔夫球的精确度，x 表示发球距离。则可以将它们的关系表示为："
   ]
  },
  {
   "cell_type": "markdown",
   "metadata": {},
   "source": [
    "$$y=kx+b$$"
   ]
  },
  {
   "cell_type": "markdown",
   "metadata": {},
   "source": [
    "而我们的目的是希望更多的点离落在该函数上，换句话说，希望所有的点与该直线的平均距离最小。因此，可以定义目标函数为："
   ]
  },
  {
   "cell_type": "markdown",
   "metadata": {},
   "source": [
    "$$e = \\frac{1}{m}\\sum_{i=1}^{m}(k\\cdot x_i+b-y_i)^2$$"
   ]
  },
  {
   "cell_type": "markdown",
   "metadata": {},
   "source": [
    "上面这个目标函数，在机器学习中还有一个名称叫做损失函数，即预测数据与真实数据之间的差距。"
   ]
  },
  {
   "cell_type": "markdown",
   "metadata": {},
   "source": [
    "<div class=\"alert alert-info\">\n",
    "    <p><i class=\"fa fa-check-square\" aria-hidden=\"true\"> 挑战 1 </i>： 根据损失函数公式，完成损失函数的代码编写   。</p>\n",
    "    <p><i class=\"fa fa-plus-square\" aria-hidden=\"true\"> 提示</i> ：可以先不管求和符号，直接求每个数据点的损失，然后再取平均即可。</p>\n",
    "</div>"
   ]
  },
  {
   "cell_type": "code",
   "execution_count": null,
   "metadata": {},
   "outputs": [],
   "source": [
    "import numpy as np\n",
    "def  error(x,y,k,b):\n",
    "## 代码编写处\n",
    "\n",
    "    \n",
    "error(dis,accuracy,1,2)"
   ]
  },
  {
   "cell_type": "markdown",
   "metadata": {},
   "source": [
    "<i class=\"fa fa-sign-out\" aria-hidden=\"true\"> 期望输出</i>"
   ]
  },
  {
   "cell_type": "markdown",
   "metadata": {},
   "source": [
    "$7.2151976454302424$\n"
   ]
  },
  {
   "cell_type": "markdown",
   "metadata": {},
   "source": [
    "#### 模型的求解"
   ]
  },
  {
   "cell_type": "markdown",
   "metadata": {},
   "source": [
    "在利用梯度下降算法对模型进行求解之前，让我们先来编写上面函数的梯度计算函数："
   ]
  },
  {
   "cell_type": "markdown",
   "metadata": {},
   "source": [
    "<div class=\"alert alert-info\">\n",
    "    <p><i class=\"fa fa-check-square\" aria-hidden=\"true\"> 挑战 2 </i>：通过上面的损失函数公式，完成损失函数的梯度求解。</p>\n",
    "    <p><i class=\"fa fa-plus-square\" aria-hidden=\"true\"> 规定</i>：函数返回 k 和 b 的梯度 db 和 dk 。</p>\n",
    "    <p><i class=\"fa fa-plus-square\" aria-hidden=\"true\"> 提示</i> 可以先不管求和符号，直接对里面的式子进行偏导，然后再取平均</p>\n",
    "</div>"
   ]
  },
  {
   "cell_type": "code",
   "execution_count": null,
   "metadata": {},
   "outputs": [],
   "source": [
    "def diff(x,y,k,b):\n",
    "## 代码编写处\n",
    " \n",
    "\n",
    "diff(dis,accuracy,1,2)"
   ]
  },
  {
   "cell_type": "markdown",
   "metadata": {},
   "source": [
    "<i class=\"fa fa-sign-out\" aria-hidden=\"true\"> 期望输出</i>"
   ]
  },
  {
   "cell_type": "markdown",
   "metadata": {},
   "source": [
    "$(3.2151976454302433, 4.0)\n",
    "$"
   ]
  },
  {
   "cell_type": "markdown",
   "metadata": {},
   "source": [
    "准备好损失函数以及梯度函数后，让我们利用梯度下降算法，对 `y=kx+b` 中的 k 和 b 进行求解："
   ]
  },
  {
   "cell_type": "markdown",
   "metadata": {},
   "source": [
    "<div class=\"alert alert-info\">\n",
    "    <p><i class=\"fa fa-check-square\" aria-hidden=\"true\"> 挑战 3 </i>：利用梯度下降算法，使总损失降到最小，进而得到 k 和 b 的值。</p>\n",
    "    <p><i class=\"fa fa-plus-square\" aria-hidden=\"true\"> 提示</i> 可以多次调节步长，找到最小损失</p>\n",
    "</div>"
   ]
  },
  {
   "cell_type": "code",
   "execution_count": null,
   "metadata": {},
   "outputs": [],
   "source": [
    "# 初始化 k，b\n",
    "k = 1\n",
    "b = 1\n",
    "# 梯度下降算法代码编写处\n",
    "\n",
    "\n",
    "k, b"
   ]
  },
  {
   "cell_type": "markdown",
   "metadata": {},
   "source": [
    "<i class=\"fa fa-sign-out\" aria-hidden=\"true\"> 期望输出</i>"
   ]
  },
  {
   "cell_type": "markdown",
   "metadata": {},
   "source": [
    "$(-0.607385136179007, 0.00013292279957848458)\n",
    "$"
   ]
  },
  {
   "cell_type": "markdown",
   "metadata": {},
   "source": [
    "让我们将 k，b 画到原图像中："
   ]
  },
  {
   "cell_type": "code",
   "execution_count": null,
   "metadata": {},
   "outputs": [],
   "source": [
    "accu_pre = k*dis+b\n",
    "\n",
    "plt.scatter(dis, accuracy)\n",
    "plt.plot(dis,accu_pre,'r')\n",
    "plt.xlabel('normalized distance')\n",
    "plt.ylabel('normalized accuracy')\n",
    "plt.show()"
   ]
  },
  {
   "cell_type": "markdown",
   "metadata": {},
   "source": [
    "<i class=\"fa fa-sign-out\" aria-hidden=\"true\"> 期望输出</i>"
   ]
  },
  {
   "cell_type": "markdown",
   "metadata": {},
   "source": [
    "<img src=\"https://doc.shiyanlou.com/courses/2316/1166617/35b4f32995b7e8ccdd84b3fd2436395a-0/wm\n",
    "\">"
   ]
  },
  {
   "cell_type": "markdown",
   "metadata": {},
   "source": [
    "#### 参考答案"
   ]
  },
  {
   "cell_type": "markdown",
   "metadata": {},
   "source": [
    "本挑战的参考答案如下，点击下拉框即可获取。"
   ]
  },
  {
   "cell_type": "markdown",
   "metadata": {},
   "source": [
    "<details>\n",
    "        <summary>参考答案</summary>\n",
    "        <p>挑战 1 ：损失函数</p>\n",
    "        <pre><code>def  error(x,y,k,b):\n",
    "    y_pre = k*x+b\n",
    "    return np.mean((y-y_pre)**2)</code></pre>\n",
    "       <p>挑战 2 ：梯度计算函数</p>\n",
    "        <pre><code>def diff(x,y,k,b):\n",
    "    dk = 2*(k*x*x+b*x-x*y)\n",
    "    db = 2*(k*x+b-y)\n",
    "    return np.mean(dk),np.mean(db)</code></pre>\n",
    "        <p>挑战 3 ：利用梯度下降算法求解模型参数</p>\n",
    "        <pre><code>step =0.1 \n",
    "for i in range(40):   \n",
    "    dk,db = diff(dis,accuracy,k,b)\n",
    "    k = k - step*dk\n",
    "    b = b - step*db</code></pre>\n",
    "</details>"
   ]
  },
  {
   "cell_type": "markdown",
   "metadata": {},
   "source": [
    "### 实验总结"
   ]
  },
  {
   "cell_type": "markdown",
   "metadata": {},
   "source": [
    "本挑战首先通过高尔夫球的距离与准确率的图像分布，确定两者的关系。然后建立模型，确定了相应的损失函数。然后利用梯度下降算法对损失函数进行训练，找到了损失最小时的模型参数值。"
   ]
  },
  {
   "cell_type": "markdown",
   "metadata": {},
   "source": [
    "<hr><div style=\"color: #999; font-size: 12px;\"><i class=\"fa fa-copyright\" aria-hidden=\"true\"> 本课程内容版权归实验楼所有，禁止转载、下载及非法传播。</i></div>"
   ]
  }
 ],
 "metadata": {
  "kernelspec": {
   "display_name": "Python 3",
   "language": "python",
   "name": "python3"
  },
  "language_info": {
   "codemirror_mode": {
    "name": "ipython",
    "version": 3
   },
   "file_extension": ".py",
   "mimetype": "text/x-python",
   "name": "python",
   "nbconvert_exporter": "python",
   "pygments_lexer": "ipython3",
   "version": "3.7.0"
  }
 },
 "nbformat": 4,
 "nbformat_minor": 2
}
