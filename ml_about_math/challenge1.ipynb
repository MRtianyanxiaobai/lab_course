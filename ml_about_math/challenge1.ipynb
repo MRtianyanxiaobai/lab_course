{
 "cells": [
  {
   "cell_type": "markdown",
   "metadata": {},
   "source": [
    "## 葡萄酒的数据可视化"
   ]
  },
  {
   "cell_type": "markdown",
   "metadata": {},
   "source": [
    "---"
   ]
  },
  {
   "cell_type": "markdown",
   "metadata": {},
   "source": [
    "#### 介绍"
   ]
  },
  {
   "cell_type": "markdown",
   "metadata": {},
   "source": [
    "本挑战主要利用实验中所学到的矩阵分解相关知识，对葡萄酒的数据进行降维并对其进行可视化操作。"
   ]
  },
  {
   "cell_type": "markdown",
   "metadata": {},
   "source": [
    "#### 知识点"
   ]
  },
  {
   "cell_type": "markdown",
   "metadata": {},
   "source": [
    "- 特征分解\n",
    "- 奇异值分解\n",
    "- 主成分分析"
   ]
  },
  {
   "cell_type": "markdown",
   "metadata": {},
   "source": [
    "---"
   ]
  },
  {
   "cell_type": "markdown",
   "metadata": {},
   "source": [
    "### 葡萄酒数据的可视化\n"
   ]
  },
  {
   "cell_type": "markdown",
   "metadata": {},
   "source": [
    "开始挑战之前，让我们先将本挑战需要用到的数据下载下来："
   ]
  },
  {
   "cell_type": "code",
   "execution_count": null,
   "metadata": {},
   "outputs": [],
   "source": [
    "!wget https://labfile.oss.aliyuncs.com/courses/2316/wine.csv"
   ]
  },
  {
   "cell_type": "markdown",
   "metadata": {},
   "source": [
    "#### 数据集的介绍"
   ]
  },
  {
   "cell_type": "markdown",
   "metadata": {},
   "source": [
    "该数据集存储了产自于意大利某个地区的三种葡萄酒的化学分析结果。每个葡萄酒中包含了 13 种化学成分。如下所示："
   ]
  },
  {
   "cell_type": "code",
   "execution_count": null,
   "metadata": {},
   "outputs": [],
   "source": [
    "import pandas as pd\n",
    "df = pd.read_csv(\"wine.csv\",header=None)\n",
    "df"
   ]
  },
  {
   "cell_type": "markdown",
   "metadata": {},
   "source": [
    "如上表所示，第一列表示该条数据属于哪一种葡萄酒（0,1,2）。而后面 13 列的数据表示的就是葡萄酒的每种化学成分的浓度。这些化学成分分别为：酒精 、苹果酸 、灰分 、灰分的碱度、镁 、总酚、 黄酮类化合物 、非类黄酮酚 、原花色素 、颜色强度 、色相 、稀释酒的 OD280/OD315 和脯氨酸。 "
   ]
  },
  {
   "cell_type": "markdown",
   "metadata": {},
   "source": [
    "因为每条数据含有 13 个维度，所以无法直接对这些数据进行可视化。"
   ]
  },
  {
   "cell_type": "markdown",
   "metadata": {},
   "source": [
    "我们可以利用其他方法对这些数据进行降维的操作，并最终完成这些数据的可视化。"
   ]
  },
  {
   "cell_type": "markdown",
   "metadata": {},
   "source": [
    "在进行降维之前，让我们先把上表中的标签数据和特征数据分开（即把第一列和其他列分开）。因为，降维降的是特征的维度，而标签数据不变。"
   ]
  },
  {
   "cell_type": "code",
   "execution_count": null,
   "metadata": {},
   "outputs": [],
   "source": [
    "label = df.loc[:,0].values\n",
    "datas = df.loc[:,1:14].values\n",
    "print(\"标签大小：\",label.shape)\n",
    "print(\"特征大小：\",datas.shape)"
   ]
  },
  {
   "cell_type": "markdown",
   "metadata": {},
   "source": [
    "#### 利用基于奇异值分解的主成分分析"
   ]
  },
  {
   "cell_type": "markdown",
   "metadata": {},
   "source": [
    "<div class=\"alert alert-info\">\n",
    "    <p><i class=\"fa fa-check-square\" aria-hidden=\"true\"> 挑战 1 </i>：利用基于奇异值分解的主成分分析法对 datas 进行降维。</p>\n",
    "    <p><i class=\"fa fa-plus-square\" aria-hidden=\"true\"> 规定</i>：将维度降为 3 维，降维后的数据用变量 pc_svd 存储。</p>\n",
    "    <p><i class=\"fa fa-plus-square\" aria-hidden=\"true\"> 提示</i> 在对数据进行降维之前，应当先对其进行去中心化处理</p>\n",
    "</div>"
   ]
  },
  {
   "cell_type": "code",
   "execution_count": null,
   "metadata": {},
   "outputs": [],
   "source": [
    "import numpy as np\n",
    "# 挑战代码编写处\n",
    "\n",
    " \n",
    "# 测试代码\n",
    "pc_svd.shape"
   ]
  },
  {
   "cell_type": "markdown",
   "metadata": {},
   "source": [
    "<div class=\"alert alert-warning\">\n",
    "<h4>重要说明</h4>\n",
    "<p>本课程中，Notebook 挑战系统无法自动评判，你需要自行补充上方单元格中缺失的代码并运行，如果输出结果和下方的期望输出结果一致，即代表此挑战顺利通过。完成全部内容后，点击「提交检测」即可通过，此说明后续不再出现。</p>\n",
    "</div>"
   ]
  },
  {
   "cell_type": "markdown",
   "metadata": {},
   "source": [
    "<i class=\"fa fa-sign-out\" aria-hidden=\"true\"> 期望输出</i>"
   ]
  },
  {
   "cell_type": "markdown",
   "metadata": {},
   "source": [
    "    （178,3）"
   ]
  },
  {
   "cell_type": "markdown",
   "metadata": {},
   "source": [
    "接下来，让我们再次对上面的挑战结果进行测试，即将降维后的数据进行可视化："
   ]
  },
  {
   "cell_type": "code",
   "execution_count": null,
   "metadata": {},
   "outputs": [],
   "source": [
    "import matplotlib.pyplot as plt\n",
    "from mpl_toolkits.mplot3d import Axes3D\n",
    "%matplotlib inline\n",
    "\n",
    "x = pc_svd[:, 0]   \n",
    "y = pc_svd[:, 1]   \n",
    "z = pc_svd[:, 2]  \n",
    "fig = plt.figure()\n",
    "ax = Axes3D(fig)\n",
    "ax.scatter(x, y, z,c=label)\n",
    "ax.set_zlabel('Z', fontdict={'size': 15, 'color': 'red'})\n",
    "ax.set_ylabel('Y', fontdict={'size': 15, 'color': 'red'})\n",
    "ax.set_xlabel('X', fontdict={'size': 15, 'color': 'red'})\n",
    "plt.show()\n"
   ]
  },
  {
   "cell_type": "markdown",
   "metadata": {},
   "source": [
    "<i class=\"fa fa-sign-out\" aria-hidden=\"true\"> 期望输出</i>"
   ]
  },
  {
   "cell_type": "markdown",
   "metadata": {},
   "source": [
    " <img width=\"500px\" src=\"https://doc.shiyanlou.com/courses/2316/1166617/0e5c1d9492a697695e72ebd9c950c978-0/wm\">"
   ]
  },
  {
   "cell_type": "markdown",
   "metadata": {},
   "source": [
    "#### 利用基于特征值分解的主成分分析"
   ]
  },
  {
   "cell_type": "markdown",
   "metadata": {},
   "source": [
    "<div class=\"alert alert-info\">\n",
    "    <p><i class=\"fa fa-check-square\" aria-hidden=\"true\"> 挑战 2 </i>：利用基于特征分解的主成分分析法对 datas 进行降维。</p>\n",
    "    <p><i class=\"fa fa-plus-square\" aria-hidden=\"true\"> 规定</i>：将维度降为 3 维，降维后的数据用变量 pc_eig 存储。</p>\n",
    "    <p><i class=\"fa fa-plus-square\" aria-hidden=\"true\"> 提示 1</i> 在对数据进行降维之前，应当先对其进行去中心化处理。</p>\n",
    "    <p><i class=\"fa fa-plus-square\" aria-hidden=\"true\"> 提示 2</i> 在进行特征分解之前，需要先求数据的协方差矩阵。</p>\n",
    "</div>"
   ]
  },
  {
   "cell_type": "code",
   "execution_count": null,
   "metadata": {},
   "outputs": [],
   "source": [
    "import numpy as np\n",
    "# 挑战代码编写处\n",
    "\n",
    "# 测试代码\n",
    "pc_eig.shape"
   ]
  },
  {
   "cell_type": "markdown",
   "metadata": {},
   "source": [
    "<i class=\"fa fa-sign-out\" aria-hidden=\"true\"> 期望输出</i>"
   ]
  },
  {
   "cell_type": "markdown",
   "metadata": {},
   "source": [
    "    （178,3）"
   ]
  },
  {
   "cell_type": "markdown",
   "metadata": {},
   "source": [
    "接下来，让我们再次对上面的挑战结果进行测试，即将降维后的数据进行可视化："
   ]
  },
  {
   "cell_type": "code",
   "execution_count": null,
   "metadata": {},
   "outputs": [],
   "source": [
    "x = pc_eig[:, 0]  # [ 0  3  6  9 12 15 18 21]\n",
    "y = pc_eig[:, 1]  # [ 1  4  7 10 13 16 19 22]\n",
    "z = pc_eig[:, 2]  # [ 2  5  8 11 14 17 20 23]\n",
    "\n",
    "fig = plt.figure()\n",
    "ax = Axes3D(fig)\n",
    "ax.scatter(x, y, z,c=label)\n",
    "ax.set_zlabel('Z', fontdict={'size': 15, 'color': 'red'})\n",
    "ax.set_ylabel('Y', fontdict={'size': 15, 'color': 'red'})\n",
    "ax.set_xlabel('X', fontdict={'size': 15, 'color': 'red'})\n",
    "plt.show()"
   ]
  },
  {
   "cell_type": "markdown",
   "metadata": {},
   "source": [
    "<i class=\"fa fa-sign-out\" aria-hidden=\"true\"> 期望输出</i>"
   ]
  },
  {
   "cell_type": "markdown",
   "metadata": {},
   "source": [
    " <img width=\"500px\" src=\"https://doc.shiyanlou.com/courses/2316/1166617/89e2a7a7aeef90e760386eeda3dc8c17-0/wm\n",
    "\">"
   ]
  },
  {
   "cell_type": "markdown",
   "metadata": {},
   "source": [
    "#### 参考答案"
   ]
  },
  {
   "cell_type": "markdown",
   "metadata": {},
   "source": [
    "本挑战的参考答案如下(点击下拉框即可获取)。"
   ]
  },
  {
   "cell_type": "markdown",
   "metadata": {},
   "source": [
    "<details>\n",
    "        <summary>参考答案</summary>\n",
    "        <p>基于奇异值分解的参考答案</p>\n",
    "        <pre><code>def pca_svd(data):\n",
    "    #进行svd 分解\n",
    "    u,s,v =  np.linalg.svd(data)\n",
    "    #这里选取前三个特征v[0:3]\n",
    "    #然后计算低维空间数据\n",
    "    pc_svd = np.dot(data,v[:,0:3])\n",
    "    return pc_svd\n",
    "data_cen = datas - np.mean(datas,axis=0)  # 样本中心化处理\n",
    "pc_svd = pca_svd(data_cen)</code></pre>\n",
    "       <p>基于特征分解的参考答案</p>\n",
    "        <pre><code>def pca_eig(data_cen):\n",
    "    # 计算协方差矩阵,每行为一个样本\n",
    "    cov_mat = np.cov(data_cen, rowvar=0)\n",
    "    eigVals, eigVects = np.linalg.eig(cov_mat)\n",
    "    # 对特征值进行排序\n",
    "    eigValInd = np.argsort(eigVals)\n",
    "    # 排序是从小到大排序，因此选择最后面三个\n",
    "    eigValInd = eigValInd[:-4:-1]\n",
    "    # 得到投影矩阵，即对原内容来说，最为关键特征向量\n",
    "    redEigVects = eigVects[:, eigValInd]\n",
    "    # 通过投影矩阵得到降维后的数据\n",
    "    pc_eig = np.dot(data_cen, redEigVects)\n",
    "    return pc_eig\n",
    "data_cen = datas - np.mean(datas,axis=0)  # 样本中心化处理\n",
    "pc_eig = pca_eig(data_cen)</code></pre>\n",
    "</details>"
   ]
  },
  {
   "cell_type": "markdown",
   "metadata": {},
   "source": [
    "### 实验总结"
   ]
  },
  {
   "cell_type": "markdown",
   "metadata": {},
   "source": [
    "本挑战涉及了特征分解的相关内容，通过矩阵分解的方式完成了葡萄酒数据的压缩和降维。如果你有一些机器学习的相关基础，你还可以尝试将利用降维后的数据建立一个预测模型。"
   ]
  },
  {
   "cell_type": "markdown",
   "metadata": {},
   "source": [
    "<hr><div style=\"color: #999; font-size: 12px;\"><i class=\"fa fa-copyright\" aria-hidden=\"true\"> 本课程内容版权归实验楼所有，禁止转载、下载及非法传播。</i></div>"
   ]
  }
 ],
 "metadata": {
  "kernelspec": {
   "display_name": "Python 3",
   "language": "python",
   "name": "python3"
  },
  "language_info": {
   "codemirror_mode": {
    "name": "ipython",
    "version": 3
   },
   "file_extension": ".py",
   "mimetype": "text/x-python",
   "name": "python",
   "nbconvert_exporter": "python",
   "pygments_lexer": "ipython3",
   "version": "3.7.0"
  }
 },
 "nbformat": 4,
 "nbformat_minor": 2
}
