{
 "cells": [
  {
   "cell_type": "markdown",
   "metadata": {},
   "source": [
    "## 线性代数"
   ]
  },
  {
   "cell_type": "markdown",
   "metadata": {},
   "source": [
    "---"
   ]
  },
  {
   "cell_type": "markdown",
   "metadata": {},
   "source": [
    "#### 介绍"
   ]
  },
  {
   "cell_type": "markdown",
   "metadata": {},
   "source": [
    "无论是数据分析还是图像处理，线性代数的相关概念都是重中之重。可以说，没有一点线性代数知识，我们就无法理解很多机器学习算法的实现代码。接下来，让我们从浅入深，对一些线性代数知识进行简单的讲解，并使用 Numpy 对其进行实现。"
   ]
  },
  {
   "cell_type": "markdown",
   "metadata": {},
   "source": [
    "#### 知识点"
   ]
  },
  {
   "cell_type": "markdown",
   "metadata": {},
   "source": [
    "- 向量、标量和张量\n",
    "- 矩阵运算\n",
    "- Python 的广播机制\n",
    "- 单位矩阵\n",
    "- 矩阵的转置和逆\n",
    "- 特征值分解和奇异值分解\n",
    "- 主成分分析法"
   ]
  },
  {
   "cell_type": "markdown",
   "metadata": {},
   "source": [
    "---"
   ]
  },
  {
   "cell_type": "markdown",
   "metadata": {},
   "source": [
    "###  向量、标量、矩阵和张量"
   ]
  },
  {
   "cell_type": "markdown",
   "metadata": {},
   "source": [
    "在数学中我们接触到的变量，一般分为以下几种："
   ]
  },
  {
   "cell_type": "markdown",
   "metadata": {},
   "source": [
    "- 标量：简单的说，标量其实就是一个单独的数字，如 $x=5$, $x$ 即为一个标量，它没有任何物理意义。\n",
    "- 向量：一列或者一行有序排列的数（多个标量组成一个向量）。如  $X = \\left[ \\begin{array}{l}\n",
    "{x_1}\\\\\n",
    "{x_2}\\\\\n",
    " \\vdots \\\\\n",
    "{x_n}\n",
    "\\end{array} \\right]$, $X$ 即为一个向量。\n",
    "- 矩阵：由多个向量组成的二维数组，如：$X = \\left[ \\begin{array}{l}\n",
    "{x_{11}} & {x_{12}} &{x_{13}} \\\\\n",
    "{x_{21}} & {x_{22}} &{x_{23}} \n",
    "\\end{array} \\right]$， $X$ 即为一个 $2\\times 3$ ( 行数 × 列数 ) 矩阵。其中，第 $i$ 行，第 $j$ 列的元素可以记作 $X_{i,j}$ 。\n",
    "- 张量：3 维或者以上的高维数组。我们可以把张量 $A$ 中，坐标为 $(i,j,k)$ 的元素，记作 $A_{i,j,k}$ 。\n",
    "\n"
   ]
  },
  {
   "cell_type": "markdown",
   "metadata": {},
   "source": [
    "综上，我们可以很容易地通过数组的维度来区分向量（1维数组）、矩阵（2维数组）和张量（高维数组）。"
   ]
  },
  {
   "cell_type": "markdown",
   "metadata": {},
   "source": [
    "我们也可以使用同一个函数来初始化这些变量（只需要传入的维度不同即可），代码如下："
   ]
  },
  {
   "cell_type": "markdown",
   "metadata": {},
   "source": [
    "<i class=\"fa fa-arrow-circle-down\" aria-hidden=\"true\"> 教学代码：</i>"
   ]
  },
  {
   "cell_type": "code",
   "execution_count": null,
   "metadata": {},
   "outputs": [],
   "source": [
    "import numpy as np\n",
    "# 向量\n",
    "a = np.array([1, 2])\n",
    "# 矩阵\n",
    "b = np.array([[1, 2, 3], [4, 5, 6]])\n",
    "#  在二维矩阵的基础上再加了一维, 形成张量\n",
    "c = np.array([b, b])\n",
    "print(\"向量 a 的大小：\", a.shape)\n",
    "print(\"矩阵 b 的大小：\", b.shape)\n",
    "print(\"张量 c 的大小：\", c.shape)"
   ]
  },
  {
   "cell_type": "markdown",
   "metadata": {},
   "source": [
    "<i class=\"fa fa-arrow-circle-down\" aria-hidden=\"true\"> 动手练习</i>｜如果你对课程所使用的实验楼 Notebook 在线环境并不熟悉，可以先学习 [<i class=\"fa fa-external-link-square\" aria-hidden=\"true\"> 使用指南课程</i>](https://www.shiyanlou.com/courses/1322)。"
   ]
  },
  {
   "cell_type": "code",
   "execution_count": null,
   "metadata": {},
   "outputs": [],
   "source": []
  },
  {
   "cell_type": "markdown",
   "metadata": {},
   "source": [
    "在这些变量类型中，使用最多的就是矩阵。我们拍摄的图片是矩阵、我们存在 Excel 中的数据是矩阵、我们从数据库展示出来的数据也是矩阵。并且我们学习过的每个机器学习算法都要直接或间接用到了矩阵。因此，矩阵的学习至关重要。"
   ]
  },
  {
   "cell_type": "markdown",
   "metadata": {},
   "source": [
    "### 矩阵的运算法则"
   ]
  },
  {
   "cell_type": "markdown",
   "metadata": {},
   "source": [
    "#### 矩阵与标量之间的运算"
   ]
  },
  {
   "cell_type": "markdown",
   "metadata": {},
   "source": [
    "无论是加、减、乘、除的任何一种运算，标量和矩阵之间的运算都可以表示为：该标量和矩阵中的每个元素都进行了一次运算。代码如下："
   ]
  },
  {
   "cell_type": "code",
   "execution_count": null,
   "metadata": {},
   "outputs": [],
   "source": [
    "# 矩阵\n",
    "a = np.array([[1, 2, 3], [4, 5, 6]])\n",
    "print(\"a：\\n\",a)\n",
    "print(\"a+2：\\n\",a+b)\n",
    "print(\"a-2：\\n\",a-b)\n",
    "print(\"a*2：\\n\",a*b)\n",
    "print(\"a/2：\\n\",a/b)"
   ]
  },
  {
   "cell_type": "code",
   "execution_count": null,
   "metadata": {},
   "outputs": [],
   "source": []
  },
  {
   "cell_type": "markdown",
   "metadata": {},
   "source": [
    "#### 矩阵与矩阵之间的加法、减法和除法"
   ]
  },
  {
   "cell_type": "markdown",
   "metadata": {},
   "source": [
    "条件：只有两个大小相等的矩阵才能加减，即当一个矩阵大小为 $m\\times n$ 时，另一个矩阵的大小也必须为 $m\\times n$。"
   ]
  },
  {
   "cell_type": "markdown",
   "metadata": {},
   "source": [
    "运算方式：每个矩阵中对应位置的元素发生运算。拿加法举例，如下所示："
   ]
  },
  {
   "cell_type": "markdown",
   "metadata": {},
   "source": [
    " $$ \\left[ \\begin{array}{l}\n",
    "{a_{11}} &  \\dots & a_{1n}  \\\\\n",
    "\\vdots &  \\dots & \\vdots\\\\\n",
    "{a_{m1}}  &  \\dots &  {a_{mn}}\\\\\n",
    "\\end{array} \\right] + \\left[ \\begin{array}{l}\n",
    "{b_{11}} &  \\dots & b_{1n}  \\\\\n",
    "\\vdots &  \\dots & \\vdots\\\\\n",
    "{b_{m1}}  &  \\dots &  {b_{mn}}\\\\\n",
    "\\end{array} \\right] = \\left[ \\begin{array}{l}\n",
    "a_{11}+b_{11} &  \\dots & a_{1n}+b_{1n}  \\\\\n",
    "\\vdots  &  \\dots & \\vdots\\\\\n",
    "a_{m1}+b_{m1}  &  \\dots &  {a_{mn}+b_{mn}}\\\\\n",
    "\\end{array} \\right]  $$ "
   ]
  },
  {
   "cell_type": "markdown",
   "metadata": {},
   "source": [
    "代码测试：和常数加减一样，直接使用 `+`,`-`,`/` 号即可："
   ]
  },
  {
   "cell_type": "code",
   "execution_count": null,
   "metadata": {},
   "outputs": [],
   "source": [
    "# 矩阵\n",
    "a = np.array([[1, 2, 3], [4, 5, 6]])\n",
    "b = np.array([[1, 2, 3], [4, 5, 6]])\n",
    "print(\"{}\\n+\\n{}\\n=\\n{}\".format(a,b,a+b))\n",
    "print(\"==============\")\n",
    "print(\"{}\\n ÷ \\n{}\\n=\\n{}\".format(a,b,a/b))"
   ]
  },
  {
   "cell_type": "code",
   "execution_count": null,
   "metadata": {},
   "outputs": [],
   "source": []
  },
  {
   "cell_type": "markdown",
   "metadata": {},
   "source": [
    "#### 传统的矩阵乘积"
   ]
  },
  {
   "cell_type": "markdown",
   "metadata": {},
   "source": [
    "条件：只有在 A 的大小为 $m\\times n$ ， B 的大小为  $ n\\times f$ 时（即 A 的列数等于 B 的行数），A 矩阵才能和 B 矩阵相乘，且相乘的结果大小必定为 $m \\times f$。"
   ]
  },
  {
   "cell_type": "markdown",
   "metadata": {},
   "source": [
    "运算方式：假设 $C = A \\cdot B$，则具体的操作定义如下："
   ]
  },
  {
   "cell_type": "markdown",
   "metadata": {},
   "source": [
    "$$C_{i,j}=\\sum_k{A_{i,k}B_{k,j}}$$"
   ]
  },
  {
   "cell_type": "markdown",
   "metadata": {},
   "source": [
    "简单的说，$C$ 矩阵的第 $i$ 行，第 $j$ 列的值等于 $A$ 矩阵第 $i$ 行的所有值和 $B$ 矩阵第 $j$ 列的所有值的乘积之和。 举个例子如下："
   ]
  },
  {
   "cell_type": "markdown",
   "metadata": {},
   "source": [
    "$$C = AB = \\left(\\begin{array}{l}\n",
    "1 &  2  & 3  \\\\\n",
    "4 &  5  & 6\n",
    "\\end{array} \\right)\\left(\\begin{array}{l}\n",
    "1 &  4    \\\\\n",
    "2 &  5  \\\\\n",
    "3 &  6 \n",
    "\\end{array} \\right)  =\\left(\\begin{array}{l}\n",
    "1\\times 1+2\\times 2+3\\times 3 &  1\\times 4+2\\times 5+3\\times6    \\\\\n",
    "4\\times 1+5\\times 2+6\\times 3 &  4\\times 4+5\\times 5+6\\times6  \\\\\n",
    "\\end{array} \\right) =\\left(\\begin{array}{l}\n",
    "14 &  32    \\\\\n",
    "32 &  77  \n",
    "\\end{array} \\right)$$"
   ]
  },
  {
   "cell_type": "markdown",
   "metadata": {},
   "source": [
    "从上面的例子中，我们可以看出，当 A 矩阵大小为 $2\\times 3$，$B$ 矩阵大小为 $3\\times2$ 时，所生成的乘积矩阵 C 的大小则为 $2\\times2$。且 $C_{12}$ 的值是 A 矩阵的第 1 行与 B 矩阵的第 2 列的元素的乘积和，即：$ 1\\times 4+2\\times 5+3\\times6=32$ 。其他位置计算方法类似。"
   ]
  },
  {
   "cell_type": "markdown",
   "metadata": {},
   "source": [
    "矩阵乘法满足结合律和分配率，但是不满足交换律。如上，$AB$ 的乘积矩阵大小为 $2\\times2$，但是 $BA$ 的大小却变成了 $3\\times 3$。"
   ]
  },
  {
   "cell_type": "markdown",
   "metadata": {},
   "source": [
    "我们可以使用 `dot` 函数来实现矩阵乘法："
   ]
  },
  {
   "cell_type": "code",
   "execution_count": null,
   "metadata": {},
   "outputs": [],
   "source": [
    "a = np.array([[1, 2, 3], [4, 5, 6]])\n",
    "b = np.array([[1, 4], [2, 5], [3, 6]])\n",
    "#a 乘以 b\n",
    "c = a.dot(b)\n",
    "#b 乘以 a\n",
    "d =  b.dot(a)\n",
    "print(\"ab的大小为：\",c.shape)\n",
    "print(\"值为：\\n\",c)\n",
    "print(\"===========\")\n",
    "print(\"ba的大小为：\",d.shape)\n",
    "print(\"值为：\\n\",d)"
   ]
  },
  {
   "cell_type": "code",
   "execution_count": null,
   "metadata": {},
   "outputs": [],
   "source": []
  },
  {
   "cell_type": "markdown",
   "metadata": {},
   "source": [
    "#### 拓展运算：Hadamard 乘积"
   ]
  },
  {
   "cell_type": "markdown",
   "metadata": {},
   "source": [
    "根据上面知识，可以知道传统的矩阵的乘积 **不是** 指矩阵中的相同位置的元素的乘积。不过，有时候，我们确实需要这种对应元素之间的乘积。因此，数学家又提出了一种叫做 Hadamard 的乘积方式来表示对应元素之间的乘积，记作 $A\\odot B$。"
   ]
  },
  {
   "cell_type": "markdown",
   "metadata": {},
   "source": [
    "当然，如果要使用这种乘积，那么必须保证 A 矩阵和 B 矩阵的大小相同，这样才能保证每个元素都有对应元素可以乘。"
   ]
  },
  {
   "cell_type": "markdown",
   "metadata": {},
   "source": [
    "我们可以使用 `np.multiply()` 来进行实现："
   ]
  },
  {
   "cell_type": "code",
   "execution_count": null,
   "metadata": {},
   "outputs": [],
   "source": [
    "a = np.array([[1, 2, 3], [4, 5, 6]])\n",
    "b = np.array([[1, 2, 1], [2, 2, 1]])\n",
    "np.multiply(a,b)"
   ]
  },
  {
   "cell_type": "code",
   "execution_count": null,
   "metadata": {},
   "outputs": [],
   "source": []
  },
  {
   "cell_type": "markdown",
   "metadata": {},
   "source": [
    "根据结果可以看出，这种方式和矩阵加减除一致。但是请注意，一般在机器学习中所说的矩阵乘法都是传统的矩阵乘积。只有刻意标注了 Hadamard 矩阵乘积时，才使用这种乘积方式。"
   ]
  },
  {
   "cell_type": "markdown",
   "metadata": {},
   "source": [
    "#### 拓展运算：广播机制"
   ]
  },
  {
   "cell_type": "markdown",
   "metadata": {},
   "source": [
    "通过了上面的学习，我们可以知道，一个二维数组和一个一维数组是无法想加的。因为它们的位置无法 一 一 对应。但是 Numpy 为我们提供了一种可以实现大小不同的数组相加的机制叫做广播机制。"
   ]
  },
  {
   "cell_type": "markdown",
   "metadata": {},
   "source": [
    "\n",
    "当然值得注意的是，这种机制 **不存在** 于数学中，只是为了方便编程，才引入的这种机制。"
   ]
  },
  {
   "cell_type": "markdown",
   "metadata": {},
   "source": [
    "简单的说，广播机制就是在两个大小不同的数组进行运算之前，将较小的数组的形状扩展成较大的数组形状，然后再进行运算。如下所示："
   ]
  },
  {
   "cell_type": "markdown",
   "metadata": {},
   "source": [
    "<img width=\"400px\" src=\"https://doc.shiyanlou.com/courses/1455/1166617/bd460f19c157886e5a89b411e86ff42b-0\n",
    "\">"
   ]
  },
  {
   "cell_type": "markdown",
   "metadata": {},
   "source": [
    "如上所示：\n",
    "- 当一个一维向量和一个数字进行运算时，这个数字会被复制多份，直到和该向量的长度相等时，才进行计算。\n",
    "- 当一个二维数组和一个一维向量进行运算时，如果这个向量的长度和二维数组的某个维度相等，那么就会对该向量进行赋值，直到大小和二维数组相同。再进行运算。\n"
   ]
  },
  {
   "cell_type": "markdown",
   "metadata": {},
   "source": [
    "在我们编写代码时，Numpy 会自动使用这种机制："
   ]
  },
  {
   "cell_type": "code",
   "execution_count": null,
   "metadata": {},
   "outputs": [],
   "source": [
    "a = np.array([[1, 2, 3], [4, 5, 6]])\n",
    "b = np.array([[1, 2, 3]])\n",
    "a+b"
   ]
  },
  {
   "cell_type": "code",
   "execution_count": null,
   "metadata": {},
   "outputs": [],
   "source": []
  },
  {
   "cell_type": "markdown",
   "metadata": {},
   "source": [
    "值得注意的是，并不是所有大小不同的矩阵相加都可以进行广播。如果两个数组的尺寸在任何维度都不相同，且都不等于 1，那么就无法进行广播。Numpy 就会返回 `operands could not be broadcast together with shapes ` 的错误。"
   ]
  },
  {
   "cell_type": "markdown",
   "metadata": {},
   "source": [
    "### 矩阵的性质"
   ]
  },
  {
   "cell_type": "markdown",
   "metadata": {},
   "source": [
    "#### 矩阵的转置"
   ]
  },
  {
   "cell_type": "markdown",
   "metadata": {},
   "source": [
    "将矩阵的行列互换得到的新矩阵称为转置矩阵，记作 $A^T$。例子如下："
   ]
  },
  {
   "cell_type": "markdown",
   "metadata": {},
   "source": [
    "$$A= \\left(\\begin{array}{l}\n",
    "A_{1,1} &  A_{1,2}    \\\\\n",
    "A_{2,1} &  A_{2,2}  \\\\\n",
    "A_{3,1} &  A_{3,2} \n",
    "\\end{array} \\right)  \\Rightarrow A^T= \\left(\\begin{array}{l}\n",
    "A_{1,1} & A_{2,1} &A_{3,1}    \\\\\n",
    "  A_{1,2}& A_{2,2} &A_{3,2} \n",
    "\\end{array} \\right) $$"
   ]
  },
  {
   "cell_type": "markdown",
   "metadata": {},
   "source": [
    "如上所示，矩阵的转置就是把原矩阵的第 1 行的向量，变成了 1 列的向量。把原矩阵的第 2 行的向量，变成了 2 列的向量，直到所有的行向量变为列向量为止。"
   ]
  },
  {
   "cell_type": "markdown",
   "metadata": {},
   "source": [
    "当然，如果使用 Numpy 来实现它的话是非常简单的，我们只需要在变量后面加上 `.T` 即可。如下："
   ]
  },
  {
   "cell_type": "code",
   "execution_count": null,
   "metadata": {},
   "outputs": [],
   "source": [
    "print(\"a:\")\n",
    "print(a)\n",
    "print(\"a 的转置矩阵:\")\n",
    "print(a.T)"
   ]
  },
  {
   "cell_type": "code",
   "execution_count": null,
   "metadata": {},
   "outputs": [],
   "source": []
  },
  {
   "cell_type": "markdown",
   "metadata": {},
   "source": [
    "#### 单位矩阵"
   ]
  },
  {
   "cell_type": "markdown",
   "metadata": {},
   "source": [
    "单位矩阵：n 阶单位矩阵，是一个 $n \\times n$ 的方形矩阵（即行数和列数相同的矩阵），其主对角线元素为 1，其余元素为 0。单位矩阵一般用 $I_n$ 表示。形式如下："
   ]
  },
  {
   "cell_type": "markdown",
   "metadata": {},
   "source": [
    "$$\n",
    "I_1= \\left[ \\begin{array}{l}1\\end{array} \\right],\n",
    "I_2= \\left[ \\begin{array}{l}\n",
    "1 & 0\\\\\n",
    "0 & 1\n",
    "\\end{array} \\right],\n",
    "I_3= \\left[ \\begin{array}{l}\n",
    "1 & 0 & 0\\\\\n",
    "0 & 1 & 0\\\\\n",
    "0 & 0 & 1\n",
    "\\end{array} \\right] .............\n",
    "I_n= \\left[ \\begin{array}{l}\n",
    "1 & 0 & \\dots & 0 \\\\\n",
    "0 & 1 & \\dots & 0 \\\\\n",
    "\\vdots & \\vdots & \\ddots &\\vdots  \\\\\n",
    "0 & 0 & \\dots & 1 \n",
    "\\end{array} \\right] \n",
    "$$"
   ]
  },
  {
   "cell_type": "markdown",
   "metadata": {},
   "source": [
    "可以直接用 `np.identity()` 来定义一个单位矩阵："
   ]
  },
  {
   "cell_type": "code",
   "execution_count": null,
   "metadata": {},
   "outputs": [],
   "source": [
    "#传入大小 n\n",
    "np.identity(4)"
   ]
  },
  {
   "cell_type": "code",
   "execution_count": null,
   "metadata": {},
   "outputs": [],
   "source": []
  },
  {
   "cell_type": "markdown",
   "metadata": {},
   "source": [
    "#### 矩阵的逆"
   ]
  },
  {
   "cell_type": "markdown",
   "metadata": {},
   "source": [
    "方阵 $A$ 的逆矩阵记作 $A^{-1}$,且该矩阵满足如下条件："
   ]
  },
  {
   "cell_type": "markdown",
   "metadata": {},
   "source": [
    "$$A^{-1}A=I_n$$"
   ]
  },
  {
   "cell_type": "markdown",
   "metadata": {},
   "source": [
    "也就是说，如果一个矩阵和 A 的乘积（传统乘积）为一个单位矩阵，那么这个矩阵就是 A 的逆矩阵。"
   ]
  },
  {
   "cell_type": "markdown",
   "metadata": {},
   "source": [
    "关于 A 的逆矩阵在数学上的具体求法，这里就不做阐述了。我们直接使用 Numpy 对其进行求取："
   ]
  },
  {
   "cell_type": "code",
   "execution_count": null,
   "metadata": {},
   "outputs": [],
   "source": [
    "a = np.array([[1, 2], [3, 4]])\n",
    "# 通过 np.linalg.inv() 求取逆矩阵\n",
    "print(np.linalg.inv(a))\n",
    "print(\"=================\")\n",
    "# 矩阵对象可以通过 ‘.I’ 属性，更方便的求逆\n",
    "A = np.matrix(a)\n",
    "print(A.I)"
   ]
  },
  {
   "cell_type": "code",
   "execution_count": null,
   "metadata": {},
   "outputs": [],
   "source": []
  },
  {
   "cell_type": "markdown",
   "metadata": {},
   "source": [
    "如上，我们提供了两种逆矩阵的求取方式。"
   ]
  },
  {
   "cell_type": "markdown",
   "metadata": {},
   "source": [
    "我们一般把上面这种可逆的矩阵称之为非奇异矩阵，把那些不可逆的矩阵称之为奇异矩阵。而区分矩阵是否可逆的方法有很多中，其中用的最多的就是判断该矩阵的行列式。"
   ]
  },
  {
   "cell_type": "markdown",
   "metadata": {},
   "source": [
    "- 如果该矩阵为一个方阵且方阵的行列式不等于 0 ，则表示该矩阵可逆。\n",
    "- 否则，不可逆（即为奇异矩阵）。"
   ]
  },
  {
   "cell_type": "markdown",
   "metadata": {},
   "source": [
    "#### 矩阵的行列式"
   ]
  },
  {
   "cell_type": "markdown",
   "metadata": {},
   "source": [
    "行列式是方阵(即行数和列数相等的矩阵)才有的一种特征，记作 $det(A)$，也记作 $|A|$。它的计算公式较为复杂，是很多同学上学时的噩梦。当然作为一个程序员来说，我们不需要对该行列式的具体计算步骤了然于心，我们只需要知道如何求它用它即可。"
   ]
  },
  {
   "cell_type": "markdown",
   "metadata": {},
   "source": [
    "我们可以使用 `np.linalg.det()` 对行列式进行求取："
   ]
  },
  {
   "cell_type": "code",
   "execution_count": null,
   "metadata": {},
   "outputs": [],
   "source": [
    "a = np.array([[1, 2], [3, 4]])\n",
    "b = np.array([[1, 2], [2, 4]])\n",
    "print(\"a的行列式为\", np.linalg.det(a))\n",
    "print(\"b的行列式为\", np.linalg.det(b))"
   ]
  },
  {
   "cell_type": "code",
   "execution_count": null,
   "metadata": {},
   "outputs": [],
   "source": []
  },
  {
   "cell_type": "markdown",
   "metadata": {},
   "source": [
    "从上面的结果可知，a 矩阵的行列式不为 0 ，为可逆矩阵。而 b 矩阵的行列式为 0 ，为不可逆矩阵。你可以尝试用 `np.linalg.inv()` 方法求取一下 b 的逆矩阵，观察程序是否报错。"
   ]
  },
  {
   "cell_type": "markdown",
   "metadata": {},
   "source": [
    "#### 范数"
   ]
  },
  {
   "cell_type": "markdown",
   "metadata": {},
   "source": [
    "在机器学习中我们经常需要使用到范数来衡量向量的大小。范数的形式有很多种，而机器学习中经常使用的是 L2 范数，又称做欧几里得范数。该范数的计算公式如下："
   ]
  },
  {
   "cell_type": "markdown",
   "metadata": {},
   "source": [
    "$$||x||_2 =\\sqrt{ \\sum_{i=1}^Nx_i^2}$$"
   ]
  },
  {
   "cell_type": "markdown",
   "metadata": {},
   "source": [
    "根据公式，我们不难发现向量的 L2 范数其实就是绝对值的平方和再开方。"
   ]
  },
  {
   "cell_type": "markdown",
   "metadata": {},
   "source": [
    "L2 范数除来被应用于传统机器学习中，如岭回归、贝叶斯推断等，还被广泛应用于深度学习中。如利用 L2 范数进行的正则化，可以很好的缓解神经网络权重的衰减，提高模型的泛化能力。"
   ]
  },
  {
   "cell_type": "markdown",
   "metadata": {},
   "source": [
    "我们可以通过 `np.linalg.norm() ` 对 L2 范数进行计算："
   ]
  },
  {
   "cell_type": "code",
   "execution_count": null,
   "metadata": {},
   "outputs": [],
   "source": [
    "print(\"按列向量计算 a 的范数\", np.linalg.norm(a, axis=0))  # 按列向量计算范数\n",
    "print(\"按行向量计算 a 的范数\", np.linalg.norm(a, axis=1))  # 按列向量计算范数\n",
    "print(\"计算矩阵 a 的范数\", np.linalg.norm(a))  # 按列向量计算范数"
   ]
  },
  {
   "cell_type": "code",
   "execution_count": null,
   "metadata": {},
   "outputs": [],
   "source": []
  },
  {
   "cell_type": "markdown",
   "metadata": {},
   "source": [
    "#### 矩阵的迹"
   ]
  },
  {
   "cell_type": "markdown",
   "metadata": {},
   "source": [
    "矩阵的迹即为矩阵的对角元素（即对角线上的所有元素）之和，记作 Tr(A)。计算公式如下："
   ]
  },
  {
   "cell_type": "markdown",
   "metadata": {},
   "source": [
    "$$Tr(A)=A_{11}+A_{22}+A_{33}.....=\\sum_i{A_{ii}}$$"
   ]
  },
  {
   "cell_type": "markdown",
   "metadata": {},
   "source": [
    "我们可以使用 `np.trace()`，快速的求取一个矩阵的迹，如下："
   ]
  },
  {
   "cell_type": "code",
   "execution_count": null,
   "metadata": {},
   "outputs": [],
   "source": [
    "print(\"a_00：\",a[0][0])\n",
    "print(\"a_11：\",a[1][1])\n",
    "print(\"Tr(a)：\",np.trace(a))"
   ]
  },
  {
   "cell_type": "code",
   "execution_count": null,
   "metadata": {},
   "outputs": [],
   "source": []
  },
  {
   "cell_type": "markdown",
   "metadata": {},
   "source": [
    "#### 特殊的矩阵"
   ]
  },
  {
   "cell_type": "markdown",
   "metadata": {},
   "source": [
    "**对角矩阵**：只在主对角线上含有非零元素，其他位置都为零的矩阵。其实这和上面的单位矩阵很像，只是单位矩阵的对角线上必须为 0 ，对角矩阵的对角线上可以为非零的任意值。因此对角矩阵 $diag(x)$ 的形式如下："
   ]
  },
  {
   "cell_type": "markdown",
   "metadata": {},
   "source": [
    "$$\n",
    "diag(x) = \\left[ \\begin{array}{l}\n",
    "x_1 & 0 & \\dots & 0 \\\\\n",
    "0 &x_2 & \\dots & 0 \\\\\n",
    "\\vdots & \\vdots & \\ddots &\\vdots  \\\\\n",
    "0 & 0 & \\dots & x_n \n",
    "\\end{array} \\right] \n",
    "$$"
   ]
  },
  {
   "cell_type": "markdown",
   "metadata": {},
   "source": [
    "可以直接用 `np.diag()` 来定义一个对角矩阵："
   ]
  },
  {
   "cell_type": "code",
   "execution_count": null,
   "metadata": {},
   "outputs": [],
   "source": [
    "#函数传入的是对角线上的值\n",
    "x = np.diag((1,2,3,4))\n",
    "x "
   ]
  },
  {
   "cell_type": "code",
   "execution_count": null,
   "metadata": {},
   "outputs": [],
   "source": []
  },
  {
   "cell_type": "markdown",
   "metadata": {},
   "source": [
    "有趣的是，该函数除了创造对角矩阵，还能从对角矩阵中提取出对角线上的值："
   ]
  },
  {
   "cell_type": "code",
   "execution_count": null,
   "metadata": {},
   "outputs": [],
   "source": [
    "np.diag(x)"
   ]
  },
  {
   "cell_type": "code",
   "execution_count": null,
   "metadata": {},
   "outputs": [],
   "source": []
  },
  {
   "cell_type": "markdown",
   "metadata": {},
   "source": [
    "**对称矩阵**： 如果矩阵 A 的转置和矩阵 A 相同，则矩阵 A 就是对称矩阵。换句话说，若矩阵 A 满足 $A_{ij}=A_{ji}$，其中 i，j 为任意值，则 A 为对称矩阵。"
   ]
  },
  {
   "cell_type": "markdown",
   "metadata": {},
   "source": [
    "因为转置相同，所以矩阵 A 的行数必须等于列数，即矩阵必定是方阵。因为对称，所以上三角（对角线上面的三角形内容）和下三角的内容必定对称。如下所示："
   ]
  },
  {
   "cell_type": "markdown",
   "metadata": {},
   "source": [
    "<img width=\"300px\" src=\"https://doc.shiyanlou.com/courses/1455/1166617/b268a1a25089cad4dc781524b699fe45-0/wm\">"
   ]
  },
  {
   "cell_type": "markdown",
   "metadata": {},
   "source": [
    "从上面的实例可以看出，该矩阵的沿着对角线（斜线 a d f ）对称，矩阵上三角的内容等于矩阵下三角的内容。"
   ]
  },
  {
   "cell_type": "markdown",
   "metadata": {},
   "source": [
    "不过，Numpy 中没有现成的库来直接创建对称矩阵，对称矩阵的创建步骤如下："
   ]
  },
  {
   "cell_type": "markdown",
   "metadata": {},
   "source": [
    "首先让我们初始化一个 $5 \\times 5$ 的矩阵："
   ]
  },
  {
   "cell_type": "code",
   "execution_count": null,
   "metadata": {},
   "outputs": [],
   "source": [
    "#随机初始化 25 个数，然后将这一组数转换为 5*5 的矩阵\n",
    "x = np.random.randn(25).reshape(5,5)\n",
    "x"
   ]
  },
  {
   "cell_type": "code",
   "execution_count": null,
   "metadata": {},
   "outputs": [],
   "source": []
  },
  {
   "cell_type": "markdown",
   "metadata": {},
   "source": [
    "然后利用 `triu()`函数取出矩阵 x 的上三角矩阵："
   ]
  },
  {
   "cell_type": "code",
   "execution_count": null,
   "metadata": {},
   "outputs": [],
   "source": [
    "cov_up = np.triu(x)\n",
    "cov_up"
   ]
  },
  {
   "cell_type": "code",
   "execution_count": null,
   "metadata": {},
   "outputs": [],
   "source": []
  },
  {
   "cell_type": "markdown",
   "metadata": {},
   "source": [
    "接下来，我们我们需要获得将上三角矩阵转置，即得到与之对称的下三角矩阵，如下："
   ]
  },
  {
   "cell_type": "code",
   "execution_count": null,
   "metadata": {},
   "outputs": [],
   "source": [
    "cov_down = cov_up.T\n",
    "cov_down"
   ]
  },
  {
   "cell_type": "code",
   "execution_count": null,
   "metadata": {},
   "outputs": [],
   "source": []
  },
  {
   "cell_type": "markdown",
   "metadata": {},
   "source": [
    "然后，我们将上三角矩阵和下三角矩阵相加即可： "
   ]
  },
  {
   "cell_type": "code",
   "execution_count": null,
   "metadata": {},
   "outputs": [],
   "source": [
    "cov_up_down = cov_up+cov_down\n",
    "cov_up_down"
   ]
  },
  {
   "cell_type": "code",
   "execution_count": null,
   "metadata": {},
   "outputs": [],
   "source": []
  },
  {
   "cell_type": "markdown",
   "metadata": {},
   "source": [
    "细心的你可能已经发现，尽管这样可以得到一个对称矩阵，但是我们将对角线的值加了两次（上三角矩阵和下三角矩阵中的对角线的值都存在）。因此，最后，我们需要将得到的 `cov_up_down` 减去一个对角线的值。"
   ]
  },
  {
   "cell_type": "markdown",
   "metadata": {},
   "source": [
    "首先，让我们来初始化只有对角线元素有值的对角矩阵："
   ]
  },
  {
   "cell_type": "code",
   "execution_count": null,
   "metadata": {},
   "outputs": [],
   "source": [
    "#获得对角线的值\n",
    "d = np.diag(x)\n",
    "#获得对角矩阵\n",
    "dia = np.diag(d)\n",
    "dia"
   ]
  },
  {
   "cell_type": "code",
   "execution_count": null,
   "metadata": {},
   "outputs": [],
   "source": []
  },
  {
   "cell_type": "markdown",
   "metadata": {},
   "source": [
    "最后减去一个对角矩阵，得到最后的对称矩阵："
   ]
  },
  {
   "cell_type": "code",
   "execution_count": null,
   "metadata": {},
   "outputs": [],
   "source": [
    "x = cov_up_down-dia\n",
    "x"
   ]
  },
  {
   "cell_type": "code",
   "execution_count": null,
   "metadata": {},
   "outputs": [],
   "source": []
  },
  {
   "cell_type": "markdown",
   "metadata": {},
   "source": [
    "我们可以利用 矩阵的转置等于矩阵本身来测试一下 x 是否为转置矩阵："
   ]
  },
  {
   "cell_type": "code",
   "execution_count": null,
   "metadata": {},
   "outputs": [],
   "source": [
    "x == x.T"
   ]
  },
  {
   "cell_type": "code",
   "execution_count": null,
   "metadata": {},
   "outputs": [],
   "source": []
  },
  {
   "cell_type": "markdown",
   "metadata": {},
   "source": [
    "**正交矩阵**：当方阵 A 满足 $A^TA=AA^T=I$ 时，A 被叫做正交矩阵。"
   ]
  },
  {
   "cell_type": "markdown",
   "metadata": {},
   "source": [
    "根据逆矩阵的定义可知，若矩阵可逆，则有 $A^{-1}A=I$。因此结合上面两个式子，若矩阵 A 既为逆矩阵又为正交矩阵，则有："
   ]
  },
  {
   "cell_type": "markdown",
   "metadata": {},
   "source": [
    "$$A^{-1}=A^T$$"
   ]
  },
  {
   "cell_type": "markdown",
   "metadata": {},
   "source": [
    "### 矩阵的分解"
   ]
  },
  {
   "cell_type": "markdown",
   "metadata": {},
   "source": [
    "#### 特征值与特征分解"
   ]
  },
  {
   "cell_type": "markdown",
   "metadata": {},
   "source": [
    "还记得我们高中时学过的力的合成吗？ 力 $ \\vec{j} $ 和 力 $ \\vec{i}$可 以通过叠加得到力 $\\vec{A}$，记作 $（\\vec{i},\\vec{j}）$,如下图一所示："
   ]
  },
  {
   "cell_type": "markdown",
   "metadata": {},
   "source": [
    "<img width=\"600px\" src=\"https://doc.shiyanlou.com/courses/1455/1166617/3afce0e479adeff121dc03dbed7328ea-0/wm\">"
   ]
  },
  {
   "cell_type": "markdown",
   "metadata": {},
   "source": [
    "从图 1 可以看到，当以 $i,j$ 为坐标轴时，A 可以被表示为 $1\\vec{i}+1\\vec{j}$。换句话说，在 $i,j$ 的坐标空间中，A 的坐标为$(1i,1j)$。"
   ]
  },
  {
   "cell_type": "markdown",
   "metadata": {},
   "source": [
    "但是，显然利用 i，j 来表示的合成力 A 并不能很好的展现物体的作用效果（即该力作用下的物体会向上走做少，向右走多少）。因此，我们常常会再做一次变换，将力分解到横向和竖直两个方向，即将力 A 转换到图二所示的 $\\vec{m}$ 和 $\\vec{n}$ 坐标空间中，那么此时 A 的坐标就不再是 （1i,1j）了，而是 $(\\lambda_1m,\\lambda_2n)$。"
   ]
  },
  {
   "cell_type": "markdown",
   "metadata": {},
   "source": [
    "而特征分解的原理和力的分解类似，也就是将一个方阵 A 转换为新的空间下的矩阵的过程。其中新空间下的坐标轴向量被称之为特征向量（记作 $v$），而矩阵 A 与特征向量的倍数称之为特征值，记作 $\\lambda$ (即上面的 $\\lambda_1,\\lambda_2...$ 的集合)。"
   ]
  },
  {
   "cell_type": "markdown",
   "metadata": {},
   "source": [
    "我们可以用 $\\lambda v$ 来表示方阵 A 在新空间下的坐标，同样，根据矩阵乘法的物理性质，我们也可以用 $A \\cdot v$ 来表示原方阵 A 转换到特征向量为 $v$ 的新空间的过程。"
   ]
  },
  {
   "cell_type": "markdown",
   "metadata": {},
   "source": [
    "因此，矩阵 A 和它的特征向量、特征值必定满足下列等式："
   ]
  },
  {
   "cell_type": "markdown",
   "metadata": {},
   "source": [
    "$$Av=\\lambda v$$"
   ]
  },
  {
   "cell_type": "markdown",
   "metadata": {},
   "source": [
    "假设方阵 A 的特征向量集合为 $V={v_1,v_2,...,v_n}$，特征值的集合为 $\\lambda={\\lambda_1,\\lambda_2,...,\\lambda_n}$ 。根据上列等式，我们可以得到 A 的关系式如下（等号两边同时右乘 $V^{-1}$）："
   ]
  },
  {
   "cell_type": "markdown",
   "metadata": {},
   "source": [
    "$$A = V diag(\\lambda)V^{-1}$$"
   ]
  },
  {
   "cell_type": "markdown",
   "metadata": {},
   "source": [
    "已知 A ，需要求解上面的 V 和 $\\lambda$ 的算法是非常复杂的，需要使用到上面的正交矩阵、对角矩阵等相关知识，可参照 [这篇文章](https://baike.baidu.com/item/%E7%89%B9%E5%BE%81%E5%88%86%E8%A7%A3/12522621?fr=aladdin) 。"
   ]
  },
  {
   "cell_type": "markdown",
   "metadata": {},
   "source": [
    "这里，我们直接使用 `vals,vecs = np.linalg.eig(x)` 函数来完成特征分解，求解 V 和 $\\lambda$ 的具体值。该函数主要有两个返回值："
   ]
  },
  {
   "cell_type": "markdown",
   "metadata": {},
   "source": [
    "- 第一个返回变量为分解得到的特征值。\n",
    "- 第二个返回变量为每个特征值所对应的特征向量。"
   ]
  },
  {
   "cell_type": "code",
   "execution_count": null,
   "metadata": {},
   "outputs": [],
   "source": [
    "a = np.array([[1, 2, 3],[5, 8, 7],[1, 1, 1]])\n",
    "e_vals,e_vecs = np.linalg.eig(a)\n",
    "print(\"特征值为：\",e_vals)\n",
    "print(\"特征向量为：\\n\",e_vecs)"
   ]
  },
  {
   "cell_type": "code",
   "execution_count": null,
   "metadata": {},
   "outputs": [],
   "source": []
  },
  {
   "cell_type": "markdown",
   "metadata": {},
   "source": [
    "如上所示，矩阵 a 被分解成了特征值 $e\\_vals$ 和特征向量 $e\\_vecs$，一个特征向量对应一个特征值。"
   ]
  },
  {
   "cell_type": "markdown",
   "metadata": {},
   "source": [
    "那么得到的特征值和特征向量在机器学习中到底有什么用呢？"
   ]
  },
  {
   "cell_type": "markdown",
   "metadata": {},
   "source": [
    "从上面的学习中，我们可以很容易的得到下面这个结论：特征分解其实就是将原矩阵中的向量方向和距离进行了分离。我么可以得到每个特征向量上的特征值，进而比较每组向量（特征向量+特征值）对原矩阵内容的贡献程度。"
   ]
  },
  {
   "cell_type": "markdown",
   "metadata": {},
   "source": [
    "就拿上面的测试代码进行举例，我们已经得到了 a 矩阵的三个特征值和所对应的特征向量。现在让我们来计算一下，每个特征值占总特征值的百分比进而估算每个特征向量对原矩阵的贡献程度（这里的特征值都需要先进行绝对值，再求和。因为这里的正负号，表示的只是方向而已）。"
   ]
  },
  {
   "cell_type": "code",
   "execution_count": null,
   "metadata": {},
   "outputs": [],
   "source": [
    "pro = abs(e_vals)/np.sum(abs(e_vals))\n",
    "pro"
   ]
  },
  {
   "cell_type": "code",
   "execution_count": null,
   "metadata": {},
   "outputs": [],
   "source": []
  },
  {
   "cell_type": "markdown",
   "metadata": {},
   "source": [
    "从上面可以看出，第一组（特征向量+特征值）对原矩阵内容的贡献程度能够达到 89%，而其他两组只有 6.6% 和 4.4%。当然，由于这里的矩阵只是一个 $3\\times 3$ 的矩阵，我们很难看出特征分解的巨大作用。"
   ]
  },
  {
   "cell_type": "markdown",
   "metadata": {},
   "source": [
    "但是请想象一下，如果这个矩阵为 $1000 \\times 1000$ 的矩阵，当把它特征分解成 特征值+特征性向量时，有两组 特征值+特征向量 对原矩阵的内容贡献程度之和就有 89% ，而其他 998 组的贡献之和却只有 11% 。那么，我们是不是就可以把那些对原矩阵内容贡献程度较小的 特征值+特征向量 给删除掉呢？"
   ]
  },
  {
   "cell_type": "markdown",
   "metadata": {},
   "source": [
    "也就是说，我们可以用两组 特征值+特征向量 来表示这个 $1000\\times 1000$ 矩阵的 89% 的内容。这就是数据降维，即在保存原数据大部分内容的情况下，缩小数据量，减少数据特征的过程。"
   ]
  },
  {
   "cell_type": "markdown",
   "metadata": {},
   "source": [
    "当然也并不是说所有矩阵都可以进行特征分解，只有在矩阵为可逆的方阵时，特征分解才有效。"
   ]
  },
  {
   "cell_type": "markdown",
   "metadata": {},
   "source": [
    "而我们在日常生活中接触到的数据，很难是一个完完整整的方阵。有可能只有 100 个特征，每个特征却有 10000 条数据。因此，接下来我们将会介绍一种更加普适的矩阵分解的方法：奇异值分解。"
   ]
  },
  {
   "cell_type": "markdown",
   "metadata": {},
   "source": [
    "#### 奇异值分解"
   ]
  },
  {
   "cell_type": "markdown",
   "metadata": {},
   "source": [
    "奇异值分解 (SVD) 也是一种矩阵分解方法，该方法可以将矩阵分解为奇异向量和奇异值。奇异值分解不仅仅是一个数学问题，在工程领域中的应用也非常广泛。比如现行的一些推荐系统中。"
   ]
  },
  {
   "cell_type": "markdown",
   "metadata": {},
   "source": [
    "我们对任意实数矩阵 A 的奇异分解过程，可以表示为："
   ]
  },
  {
   "cell_type": "markdown",
   "metadata": {},
   "source": [
    "$$A=U D V^{T}$$"
   ]
  },
  {
   "cell_type": "markdown",
   "metadata": {},
   "source": [
    "其中 D 为对角矩阵，而它对角线上的元素就被称之为奇异值。矩阵 U 的列向量被称之为 左奇异向量，矩阵 V 的列向量被称之为 右奇异向量。当我们需要对矩阵的行数进行压缩时，我们使用到的组合就是 左奇异向量+奇异值。当我们是对矩阵的列数进行压缩降维时，我们使用到的就是 右奇异向量+奇异值。"
   ]
  },
  {
   "cell_type": "markdown",
   "metadata": {},
   "source": [
    "同样，已知 A ，求取 U、D、V 的数学推导公式非常复杂，这里我们直接使用 Numpy 对其进行接求解。"
   ]
  },
  {
   "cell_type": "markdown",
   "metadata": {},
   "source": [
    "我们使用 `np.linalg.svd(a)` 函数 对矩阵 A 进行奇异值分解，得到下面三个返回值："
   ]
  },
  {
   "cell_type": "markdown",
   "metadata": {},
   "source": [
    "- 第一个返回值：矩阵 $A$ 的左奇异向量 $U$。\n",
    "- 第二个返回值：对角矩阵 $D$ 的对角线上的值（对角矩阵除了对角线，其他位置的值都为 0 ）。\n",
    "- 第三个返回值，矩阵 $A$ 的右奇异向量 $V$ 的转置 $V^{T}$。"
   ]
  },
  {
   "cell_type": "code",
   "execution_count": null,
   "metadata": {},
   "outputs": [],
   "source": [
    "a = np.array([[1, 2, 3,4],[5, 8,6, 7],[1, 1, 1,2]])\n",
    "u, s, vh = np.linalg.svd(a)#vh 表示 v 的转置 \n",
    "print(u.shape,s.shape,vh.shape)"
   ]
  },
  {
   "cell_type": "code",
   "execution_count": null,
   "metadata": {},
   "outputs": [],
   "source": []
  },
  {
   "cell_type": "markdown",
   "metadata": {},
   "source": [
    "现在我们可以验证一下，利用 Numpy 求出来的奇异值和奇异向量是否真正满足奇异分解的公式，是否能够全权代表原矩阵的内容。"
   ]
  },
  {
   "cell_type": "markdown",
   "metadata": {},
   "source": [
    "首先，让我们先把 s 转为对角矩阵 D。为了能够左乘 U 和右乘 $V^{T}$，因此生成的对角矩阵 D 的大小必须为 $3\\times 4$:"
   ]
  },
  {
   "cell_type": "code",
   "execution_count": null,
   "metadata": {},
   "outputs": [],
   "source": [
    "#初始化 3×4 全为 0 的矩阵\n",
    "D= np.zeros((3,4))\n",
    "#np.diag(s) 只能生成 3×3 的矩阵\n",
    "D[:3,:3] = np.diag(s)\n",
    "D"
   ]
  },
  {
   "cell_type": "code",
   "execution_count": null,
   "metadata": {},
   "outputs": [],
   "source": []
  },
  {
   "cell_type": "markdown",
   "metadata": {},
   "source": [
    "最后，将它们相乘，观察得到的结果是否和 A 一致："
   ]
  },
  {
   "cell_type": "code",
   "execution_count": null,
   "metadata": {},
   "outputs": [],
   "source": [
    "#但传入的两个变量之间的差距在 0.00001 以内时，返回true \n",
    "np.allclose(a, np.dot(u, np.dot(D, vh)))"
   ]
  },
  {
   "cell_type": "code",
   "execution_count": null,
   "metadata": {},
   "outputs": [],
   "source": []
  },
  {
   "cell_type": "markdown",
   "metadata": {},
   "source": [
    "至此，我学习完了机器学习中会用到的线性代数知识。接下来，让我们利用已学到的线性代数知识来实现 PCA 算法，并完成鸢尾花数据集的可视化工作。"
   ]
  },
  {
   "cell_type": "markdown",
   "metadata": {},
   "source": [
    "### 鸢尾花数据集的可视化"
   ]
  },
  {
   "cell_type": "markdown",
   "metadata": {},
   "source": [
    "#### 数据集的简介"
   ]
  },
  {
   "cell_type": "markdown",
   "metadata": {},
   "source": [
    "鸢尾花数据集是机器学习中最常用的数据集之一。该数据集合包含了三类鸢尾花，一共 150 条数据。每条数据记录了一朵花的花萼长度、花萼宽度、花瓣长度以及花瓣宽度等四个特征，并且标注了该花属于哪一种鸢尾花。"
   ]
  },
  {
   "cell_type": "markdown",
   "metadata": {},
   "source": [
    "让我们利用 sklearn 库来加载该数据集合："
   ]
  },
  {
   "cell_type": "code",
   "execution_count": null,
   "metadata": {},
   "outputs": [],
   "source": [
    "from sklearn import datasets\n",
    "iris = datasets.load_iris()\n",
    "#加载特征\n",
    "iris_data=iris['data']\n",
    "#加载标签\n",
    "iris_label=iris['target']\n",
    "print(iris_data.shape)\n",
    "print(iris_label.shape)"
   ]
  },
  {
   "cell_type": "code",
   "execution_count": null,
   "metadata": {},
   "outputs": [],
   "source": []
  },
  {
   "cell_type": "markdown",
   "metadata": {},
   "source": [
    "其中 `iris_data` 变量中保存了 150 朵花具有的 4 种特征，`iris_label` 代表着这 150 朵花各自的类型。"
   ]
  },
  {
   "cell_type": "markdown",
   "metadata": {},
   "source": [
    "接下来，我们想要把这些样本点画在坐标系中，观察数据点和花的种类的关系。但是，由于该花有四个特征，而我们最多在三维空间中画图。因此，我们需要对原数据集合进行降维，使其维度减小到 2 或 3，这样我们就能够进行可视化了。而这里，我们使用到的降维方法就是 主成分分析法（PCA）。"
   ]
  },
  {
   "cell_type": "markdown",
   "metadata": {},
   "source": [
    "#### 主成分分析法"
   ]
  },
  {
   "cell_type": "markdown",
   "metadata": {},
   "source": [
    "主成分分析（PCA）是一种用于数据压缩的机器学习算法。该算法可以将线性相关性的高维变量分解成线性无关的低维变量。新的低维变量可以保留原始数据的大部分信息，进而达到降维的效果。"
   ]
  },
  {
   "cell_type": "markdown",
   "metadata": {},
   "source": [
    "主成分分析法的主要实现方式有两种，一种基于特征值分解，而另外一种基于奇异值分解。"
   ]
  },
  {
   "cell_type": "markdown",
   "metadata": {},
   "source": [
    "**基于奇异值分解** 的具体步骤如下："
   ]
  },
  {
   "cell_type": "markdown",
   "metadata": {},
   "source": [
    "- 对样本数据进行去中心化处理，并得到数据 $x$ 。\n",
    "- 对 $x$ 进行 SVD 奇异分解得到 $u,s,v$ 。\n",
    "- 取 $v$ 的前 $d$ 个右奇异向量，记作 $v[0:d]$。\n",
    "- $x\\cdot v[0:d]$ 就是低维空间的数据（也可以使用奇异值乘以奇异向量得到该数据）。"
   ]
  },
  {
   "cell_type": "markdown",
   "metadata": {},
   "source": [
    "这里的去中心化处理就是让每个元素值减去自己所在维度的均值。这样可以使输入数据的各个维度的均值为 0 （由于存在小数，因此可能会无限接近于0，但不等于0 ），进而增加数据的鲁棒性。如下："
   ]
  },
  {
   "cell_type": "code",
   "execution_count": null,
   "metadata": {},
   "outputs": [],
   "source": [
    "data_cen = iris_data - np.mean(iris_data,axis=0)  # 样本中心化处理\n",
    "#去中心化后的矩阵的每个维度的平均值无限接近于 0 \n",
    "np.mean(data_cen,axis=0)"
   ]
  },
  {
   "cell_type": "code",
   "execution_count": null,
   "metadata": {},
   "outputs": [],
   "source": []
  },
  {
   "cell_type": "markdown",
   "metadata": {},
   "source": [
    "接下来，让我们根据上面步骤，完成基于 SVD 的 PCA 函数："
   ]
  },
  {
   "cell_type": "code",
   "execution_count": null,
   "metadata": {},
   "outputs": [],
   "source": [
    "def pca_svd(data):\n",
    "    #进行svd 分解\n",
    "    u,s,v =  np.linalg.svd(data)\n",
    "    #这里选取前两个特征v[0:2]\n",
    "    #然后计算低维空间数据\n",
    "    pc_svd = np.dot(data,v[:,0:2])\n",
    "    return pc_svd\n",
    "pc_svd = pca_svd(data_cen)\n",
    "pc_svd"
   ]
  },
  {
   "cell_type": "code",
   "execution_count": null,
   "metadata": {},
   "outputs": [],
   "source": []
  },
  {
   "cell_type": "markdown",
   "metadata": {},
   "source": [
    "如上所示，我们已经对原数据进行了降维，得到了两列新的数据。这两列新的数据可以表示原数据的大部分内容。现在，我们就可以用一个二维的图像，来展示这 150 条数据的分布情况了。"
   ]
  },
  {
   "cell_type": "code",
   "execution_count": null,
   "metadata": {},
   "outputs": [],
   "source": [
    "import matplotlib.pyplot as plt\n",
    "%matplotlib inline\n",
    "plt.scatter(pc_svd[:,0], pc_svd[:,1], c = iris_label)\n",
    "plt.show()"
   ]
  },
  {
   "cell_type": "code",
   "execution_count": null,
   "metadata": {},
   "outputs": [],
   "source": []
  },
  {
   "cell_type": "markdown",
   "metadata": {},
   "source": [
    "上图很直观的展示出了，这三种鸢尾花的分布情况。当然值得注意的是，这两列新的数据和原来的任何一列数据都不同。这两列数据是通过 SVD 从原来四列数据信息中，生成的两列新的数据。"
   ]
  },
  {
   "cell_type": "markdown",
   "metadata": {},
   "source": [
    "**基于特征值分解** 的步骤和基于 SVD 的步骤类似，但是由于能够特征分解的矩阵只能为方阵。因此在进行特征分解之前，我们还需要对矩阵进行一次处理，得到该矩阵的协方差矩阵（任意矩阵的协方差矩阵必定为方阵）。具体步骤如下："
   ]
  },
  {
   "cell_type": "markdown",
   "metadata": {},
   "source": [
    "- 对原始数据集进行去中心化处理，得到数据集 X。\n",
    "- 计算数据集 X 的协方差矩阵 $XX^T$。\n",
    "- 对协方差矩阵 $XX^T$ 做特征分解。\n",
    "- 取最大的 $d$ 个特征值所对应的特征向量。\n",
    "- 矩阵 X 乘以 这 $d$ 个特征向量，得到低维空间数据（当然也可以使用筛选后的特征值乘以特征向量得到低维空间数据）。"
   ]
  },
  {
   "cell_type": "markdown",
   "metadata": {},
   "source": [
    "这里我们涉及到了一个新的概念，协方差矩阵。该矩阵的计算公式为 $XX^T$。假设原数据 X 的大小为 $m\\times n$，则 $X^T$ 的大小为 $n \\times m$。则 协方差矩阵 $XX^T$ 的大小为 $m\\times m$，即$XX^T$ 为方阵。这样我们就可以进行特征分解了。当然关于协方差矩阵的更多知识点，我们会在后面的统计学中讲到。"
   ]
  },
  {
   "cell_type": "markdown",
   "metadata": {},
   "source": [
    "根据上面的阐述，让我们来定义基于特征值分解的 PCA 函数，如下："
   ]
  },
  {
   "cell_type": "code",
   "execution_count": null,
   "metadata": {},
   "outputs": [],
   "source": [
    "def pca_eig(data_cen):\n",
    "    # 计算协方差矩阵,每行为一个样本\n",
    "    cov_mat = np.cov(data_cen, rowvar=0)\n",
    "    eigVals, eigVects = np.linalg.eig(cov_mat)\n",
    "    # 对特征值进行排序\n",
    "    eigValInd = np.argsort(eigVals)\n",
    "    # 排序是从小到大排序，因此选择最后面两个\n",
    "    eigValInd = eigValInd[:-3:-1]\n",
    "    # 得到投影矩阵，即对原内容来说，最为关键特征向量\n",
    "    redEigVects = eigVects[:, eigValInd]\n",
    "    # 通过投影矩阵得到降维后的数据\n",
    "    pc_eig = np.dot(data_cen, redEigVects)\n",
    "    return pc_eig\n",
    "\n",
    "\n",
    "pc_eig = pca_eig(data_cen)\n",
    "pc_eig"
   ]
  },
  {
   "cell_type": "code",
   "execution_count": null,
   "metadata": {},
   "outputs": [],
   "source": []
  },
  {
   "cell_type": "markdown",
   "metadata": {},
   "source": [
    "同理，让我们对新的数据集进行可视化："
   ]
  },
  {
   "cell_type": "code",
   "execution_count": null,
   "metadata": {},
   "outputs": [],
   "source": [
    "plt.scatter(pc_eig[:,0], pc_eig[:,1], c = iris_label)\n",
    "plt.show()"
   ]
  },
  {
   "cell_type": "code",
   "execution_count": null,
   "metadata": {},
   "outputs": [],
   "source": []
  },
  {
   "cell_type": "markdown",
   "metadata": {},
   "source": [
    "由于矩阵分解的方法不同，因此两种方法找出来的特征向量不同。进而，导致我们展示出来的图像不同。但是这两种降维后的类别分布都是一堆一堆的。这样，能够让我们更加容易的对原数据进行分类预测。当然，对于鸢尾花的分类预测，这里我们就不做讨论了，毕竟本课程主要讲解数学相关的知识。"
   ]
  },
  {
   "cell_type": "markdown",
   "metadata": {},
   "source": [
    "### 实验总结"
   ]
  },
  {
   "cell_type": "markdown",
   "metadata": {},
   "source": [
    "本实验首先对机器学习中常用的线性代数知识进行了讲解和实现，然后利用基础知识对特征值分解和奇异值分解等较为困难的知识点进行了阐述。最后使用这些我们学到的知识，完成了鸢尾花的可视化。"
   ]
  },
  {
   "cell_type": "markdown",
   "metadata": {},
   "source": [
    "<hr><div style=\"color: #999; font-size: 12px;\"><i class=\"fa fa-copyright\" aria-hidden=\"true\"> 本课程内容版权归实验楼所有，禁止转载、下载及非法传播。</i></div>"
   ]
  }
 ],
 "metadata": {
  "kernelspec": {
   "display_name": "Python 3",
   "language": "python",
   "name": "python3"
  },
  "language_info": {
   "codemirror_mode": {
    "name": "ipython",
    "version": 3
   },
   "file_extension": ".py",
   "mimetype": "text/x-python",
   "name": "python",
   "nbconvert_exporter": "python",
   "pygments_lexer": "ipython3",
   "version": "3.7.0"
  }
 },
 "nbformat": 4,
 "nbformat_minor": 2
}
